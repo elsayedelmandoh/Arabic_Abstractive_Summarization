{
  "cells": [
    {
      "cell_type": "code",
      "execution_count": 1,
      "metadata": {
        "id": "JMAd2Ybb5KwJ"
      },
      "outputs": [],
      "source": [
        "import json # for dealing with Json files\n",
        "import pandas as pd # for dealing with dataset\n",
        "import csv # used to wirte the data in CVS file"
      ]
    },
    {
      "cell_type": "markdown",
      "metadata": {
        "id": "NtOgs4li5Iuw"
      },
      "source": [
        "Convert Json data to CVS file"
      ]
    },
    {
      "cell_type": "code",
      "execution_count": 2,
      "metadata": {
        "id": "inY4O3KxA2Dl"
      },
      "outputs": [],
      "source": [
        "# The pass to the Json dataset (old)\n",
        "input_file = 'labeled_validation_dataset.jsonl'\n",
        "# The pass to the CSV dataset (new)\n",
        "output_file = 'labeled_validation_dataset.csv'\n",
        "\n",
        "# Read from the Json file and write in the CSV file\n",
        "with open(input_file, 'r', encoding='utf-8') as input, open(output_file, 'w', encoding='utf-8', newline='') as output:\n",
        "    # Write the rows in csv\n",
        "    writer = csv.writer(output)\n",
        "    # Create column names\n",
        "    writer.writerow(['paragraph', 'summary'])\n",
        "\n",
        "    # Loop on the input file and copy his content into output file\n",
        "    for line in input:\n",
        "        # Load the lines from Json data\n",
        "        data = json.loads(line)\n",
        "        # Copy the data\n",
        "        paragraph = data['paragraph']\n",
        "        summary = data['summary']\n",
        "\n",
        "        # Write the extracted data to the output file\n",
        "        writer.writerow([paragraph, summary])\n"
      ]
    },
    {
      "cell_type": "markdown",
      "metadata": {
        "id": "sOwUrKeFA5G2"
      },
      "source": [
        "load csv file"
      ]
    },
    {
      "cell_type": "code",
      "execution_count": 2,
      "metadata": {
        "colab": {
          "base_uri": "https://localhost:8080/",
          "height": 206
        },
        "id": "Q5dCCXlFHij5",
        "outputId": "2016eefc-9838-4de2-97ce-979d4270e9d3"
      },
      "outputs": [
        {
          "data": {
            "text/html": [
              "<div>\n",
              "<style scoped>\n",
              "    .dataframe tbody tr th:only-of-type {\n",
              "        vertical-align: middle;\n",
              "    }\n",
              "\n",
              "    .dataframe tbody tr th {\n",
              "        vertical-align: top;\n",
              "    }\n",
              "\n",
              "    .dataframe thead th {\n",
              "        text-align: right;\n",
              "    }\n",
              "</style>\n",
              "<table border=\"1\" class=\"dataframe\">\n",
              "  <thead>\n",
              "    <tr style=\"text-align: right;\">\n",
              "      <th></th>\n",
              "      <th>paragraph</th>\n",
              "      <th>summary</th>\n",
              "    </tr>\n",
              "  </thead>\n",
              "  <tbody>\n",
              "    <tr>\n",
              "      <th>0</th>\n",
              "      <td>وتحت عنوان من الكارثة إلى التحدى يبدأ الكاتب ع...</td>\n",
              "      <td>يبدأ الكاتب عرض الكتاب الرابع تحت عنوان من الك...</td>\n",
              "    </tr>\n",
              "    <tr>\n",
              "      <th>1</th>\n",
              "      <td>ولم يعترف دبلوماسيو هاتين الدولتين بالعريضة ال...</td>\n",
              "      <td>دبلوماسيو الدولتين لم يعترفوا بالعريضة التي قا...</td>\n",
              "    </tr>\n",
              "    <tr>\n",
              "      <th>2</th>\n",
              "      <td>قامت ولاية حلب بعد اعلان الجنرال الفرنسي هنري ...</td>\n",
              "      <td>أعلن غورو الانتداب الفرنسي على سوريا لكي يعاقب...</td>\n",
              "    </tr>\n",
              "    <tr>\n",
              "      <th>3</th>\n",
              "      <td>دولة مصر العربيه هي ليست اي دوله وليست اي شعب ...</td>\n",
              "      <td>مصر هي أم البلاد، وقائدة العرب؛ فهي أرض بلاد ا...</td>\n",
              "    </tr>\n",
              "    <tr>\n",
              "      <th>4</th>\n",
              "      <td>السوريون يصرون على استقلال بلادهم : و مثلما رف...</td>\n",
              "      <td>الشعب السوري يصر على استقلال بلدهم من السيطرة ...</td>\n",
              "    </tr>\n",
              "  </tbody>\n",
              "</table>\n",
              "</div>"
            ],
            "text/plain": [
              "                                           paragraph   \n",
              "0  وتحت عنوان من الكارثة إلى التحدى يبدأ الكاتب ع...  \\\n",
              "1  ولم يعترف دبلوماسيو هاتين الدولتين بالعريضة ال...   \n",
              "2  قامت ولاية حلب بعد اعلان الجنرال الفرنسي هنري ...   \n",
              "3  دولة مصر العربيه هي ليست اي دوله وليست اي شعب ...   \n",
              "4  السوريون يصرون على استقلال بلادهم : و مثلما رف...   \n",
              "\n",
              "                                             summary  \n",
              "0  يبدأ الكاتب عرض الكتاب الرابع تحت عنوان من الك...  \n",
              "1  دبلوماسيو الدولتين لم يعترفوا بالعريضة التي قا...  \n",
              "2  أعلن غورو الانتداب الفرنسي على سوريا لكي يعاقب...  \n",
              "3  مصر هي أم البلاد، وقائدة العرب؛ فهي أرض بلاد ا...  \n",
              "4  الشعب السوري يصر على استقلال بلدهم من السيطرة ...  "
            ]
          },
          "execution_count": 2,
          "metadata": {},
          "output_type": "execute_result"
        }
      ],
      "source": [
        "# Read the new dataset that we was created in the above\n",
        "reviews = pd.read_csv('labeled_validation_dataset.csv')\n",
        "# display the dataset\n",
        "reviews.head()"
      ]
    },
    {
      "cell_type": "markdown",
      "metadata": {
        "id": "RjTPMD1kBHu9"
      },
      "source": [
        "# 📑 Step 2: Exploratory Data Analysis (EDA)"
      ]
    },
    {
      "cell_type": "code",
      "execution_count": 4,
      "metadata": {
        "colab": {
          "base_uri": "https://localhost:8080/"
        },
        "id": "5Dmc3zsKBJfE",
        "outputId": "bea70646-760a-4ad0-d1b4-7809051b9c39"
      },
      "outputs": [
        {
          "name": "stdout",
          "output_type": "stream",
          "text": [
            "<class 'pandas.core.frame.DataFrame'>\n",
            "RangeIndex: 154 entries, 0 to 153\n",
            "Data columns (total 2 columns):\n",
            " #   Column     Non-Null Count  Dtype \n",
            "---  ------     --------------  ----- \n",
            " 0   paragraph  154 non-null    object\n",
            " 1   summary    154 non-null    object\n",
            "dtypes: object(2)\n",
            "memory usage: 2.5+ KB\n"
          ]
        }
      ],
      "source": [
        "reviews.info()"
      ]
    },
    {
      "cell_type": "code",
      "execution_count": 5,
      "metadata": {
        "colab": {
          "base_uri": "https://localhost:8080/"
        },
        "id": "PkeUdknLBNJy",
        "outputId": "b4b61de5-ff0f-4a25-a643-6c9db77c7ca4"
      },
      "outputs": [
        {
          "data": {
            "text/plain": [
              "(154, 2)"
            ]
          },
          "execution_count": 5,
          "metadata": {},
          "output_type": "execute_result"
        }
      ],
      "source": [
        "reviews.shape"
      ]
    },
    {
      "cell_type": "markdown",
      "metadata": {
        "id": "RvE-NbI2BTDx"
      },
      "source": [
        "### Number of tokens in a text\n",
        "> split text to tokens\n",
        "\n",
        "    - applies the split() method to each element in the 'text' column.\n",
        "    - It splits the text into a list of tokens,\n",
        "\n",
        "> mapping lambda function\n",
        "\n",
        "    - applies the map() method for each token in the text,\n",
        "    - it calculates the length of the token using len(i)\n",
        "\n",
        "> final result\n",
        "\n",
        "    - dataset_train['no_tokens']= stores the lengths of the words for each text."
      ]
    },
    {
      "cell_type": "markdown",
      "metadata": {
        "id": "YEMdKdlTBeT4"
      },
      "source": [
        "create column from number of tokens paragraph"
      ]
    },
    {
      "cell_type": "code",
      "execution_count": 6,
      "metadata": {
        "colab": {
          "base_uri": "https://localhost:8080/",
          "height": 363
        },
        "id": "rzuSy4_wBXMa",
        "outputId": "495e8317-474e-4994-d6fc-f4ca0297e63f"
      },
      "outputs": [
        {
          "data": {
            "text/html": [
              "<div>\n",
              "<style scoped>\n",
              "    .dataframe tbody tr th:only-of-type {\n",
              "        vertical-align: middle;\n",
              "    }\n",
              "\n",
              "    .dataframe tbody tr th {\n",
              "        vertical-align: top;\n",
              "    }\n",
              "\n",
              "    .dataframe thead th {\n",
              "        text-align: right;\n",
              "    }\n",
              "</style>\n",
              "<table border=\"1\" class=\"dataframe\">\n",
              "  <thead>\n",
              "    <tr style=\"text-align: right;\">\n",
              "      <th></th>\n",
              "      <th>paragraph</th>\n",
              "      <th>summary</th>\n",
              "      <th>tokens_paragraph</th>\n",
              "    </tr>\n",
              "  </thead>\n",
              "  <tbody>\n",
              "    <tr>\n",
              "      <th>59</th>\n",
              "      <td>أكراد العراق هم جزء مكمل للأمة الكردية التي تق...</td>\n",
              "      <td>يعتبر أكراد العراق جزءا من الأمة الكردية، وأنه...</td>\n",
              "      <td>341</td>\n",
              "    </tr>\n",
              "    <tr>\n",
              "      <th>4</th>\n",
              "      <td>السوريون يصرون على استقلال بلادهم : و مثلما رف...</td>\n",
              "      <td>الشعب السوري يصر على استقلال بلدهم من السيطرة ...</td>\n",
              "      <td>259</td>\n",
              "    </tr>\n",
              "    <tr>\n",
              "      <th>17</th>\n",
              "      <td>لم تكن تلك هي المرة الأولى التي تتعرض فيها صقل...</td>\n",
              "      <td>منذ فجر التاريخ وهى تداعب أنظار الغزاة فهى الج...</td>\n",
              "      <td>349</td>\n",
              "    </tr>\n",
              "    <tr>\n",
              "      <th>148</th>\n",
              "      <td>وفي مساء يوم 3 يوليو 1798 م ) زحفت الحملة على ...</td>\n",
              "      <td>زحفت الحملة على القاهرةفي يوم 3 يوليو،وأخذت طر...</td>\n",
              "      <td>278</td>\n",
              "    </tr>\n",
              "    <tr>\n",
              "      <th>147</th>\n",
              "      <td>لم تكتف المرأة المصرية ، بالمشاركة في ثورات مص...</td>\n",
              "      <td>المرأة المصرية كانت تنتهي من تجهيز الطعام للثا...</td>\n",
              "      <td>366</td>\n",
              "    </tr>\n",
              "    <tr>\n",
              "      <th>71</th>\n",
              "      <td>سعت بريطانيا ولأسباب متعلقة بأزمتها أثناء وبعد...</td>\n",
              "      <td>كانت بريطانيا تواجه أزمتين شرقية ويهودية بسبب ...</td>\n",
              "      <td>342</td>\n",
              "    </tr>\n",
              "    <tr>\n",
              "      <th>118</th>\n",
              "      <td>النتائج التاريخية لهزيمة الصليبيين 100 رسالة ج...</td>\n",
              "      <td>واجهت الحملة الصليبية على مصر نهايتها المأساوي...</td>\n",
              "      <td>264</td>\n",
              "    </tr>\n",
              "    <tr>\n",
              "      <th>96</th>\n",
              "      <td>وفى اليوم التالي 9 ديسمبر عام 1946 م قبل الملك...</td>\n",
              "      <td>في 9 ديسمبر 1946 تم تشكيل وزارة برئاسة النقراش...</td>\n",
              "      <td>395</td>\n",
              "    </tr>\n",
              "    <tr>\n",
              "      <th>35</th>\n",
              "      <td>شهد عصر إسماعيل تطورأ كبيرا فى حياة مصر ، إذ ح...</td>\n",
              "      <td>تطور عصر إسماعيل، وبنى جيشا قوىا، وشجع قدوم ال...</td>\n",
              "      <td>355</td>\n",
              "    </tr>\n",
              "    <tr>\n",
              "      <th>24</th>\n",
              "      <td>شكلت الحروب الصليبية منعطفا سياسيا مهما في تار...</td>\n",
              "      <td>في تاريخ بلاد الشام جرح لا يندمل وحدث أسيف هو ...</td>\n",
              "      <td>372</td>\n",
              "    </tr>\n",
              "  </tbody>\n",
              "</table>\n",
              "</div>"
            ],
            "text/plain": [
              "                                             paragraph   \n",
              "59   أكراد العراق هم جزء مكمل للأمة الكردية التي تق...  \\\n",
              "4    السوريون يصرون على استقلال بلادهم : و مثلما رف...   \n",
              "17   لم تكن تلك هي المرة الأولى التي تتعرض فيها صقل...   \n",
              "148  وفي مساء يوم 3 يوليو 1798 م ) زحفت الحملة على ...   \n",
              "147  لم تكتف المرأة المصرية ، بالمشاركة في ثورات مص...   \n",
              "71   سعت بريطانيا ولأسباب متعلقة بأزمتها أثناء وبعد...   \n",
              "118  النتائج التاريخية لهزيمة الصليبيين 100 رسالة ج...   \n",
              "96   وفى اليوم التالي 9 ديسمبر عام 1946 م قبل الملك...   \n",
              "35   شهد عصر إسماعيل تطورأ كبيرا فى حياة مصر ، إذ ح...   \n",
              "24   شكلت الحروب الصليبية منعطفا سياسيا مهما في تار...   \n",
              "\n",
              "                                               summary  tokens_paragraph  \n",
              "59   يعتبر أكراد العراق جزءا من الأمة الكردية، وأنه...               341  \n",
              "4    الشعب السوري يصر على استقلال بلدهم من السيطرة ...               259  \n",
              "17   منذ فجر التاريخ وهى تداعب أنظار الغزاة فهى الج...               349  \n",
              "148  زحفت الحملة على القاهرةفي يوم 3 يوليو،وأخذت طر...               278  \n",
              "147  المرأة المصرية كانت تنتهي من تجهيز الطعام للثا...               366  \n",
              "71   كانت بريطانيا تواجه أزمتين شرقية ويهودية بسبب ...               342  \n",
              "118  واجهت الحملة الصليبية على مصر نهايتها المأساوي...               264  \n",
              "96   في 9 ديسمبر 1946 تم تشكيل وزارة برئاسة النقراش...               395  \n",
              "35   تطور عصر إسماعيل، وبنى جيشا قوىا، وشجع قدوم ال...               355  \n",
              "24   في تاريخ بلاد الشام جرح لا يندمل وحدث أسيف هو ...               372  "
            ]
          },
          "execution_count": 6,
          "metadata": {},
          "output_type": "execute_result"
        }
      ],
      "source": [
        "reviews['tokens_paragraph']= reviews['paragraph'].str.split().map(lambda token: len(token))\n",
        "reviews.sample(10)"
      ]
    },
    {
      "cell_type": "markdown",
      "metadata": {
        "id": "HSeC6N5PBo0-"
      },
      "source": [
        "visualize tokens paragraph as histogram"
      ]
    },
    {
      "cell_type": "code",
      "execution_count": 7,
      "metadata": {
        "id": "25ot0RdTB8ob"
      },
      "outputs": [],
      "source": [
        "import matplotlib.pyplot as plt # make visualization\n",
        "import seaborn as sns # make visualization"
      ]
    },
    {
      "cell_type": "code",
      "execution_count": 8,
      "metadata": {
        "colab": {
          "base_uri": "https://localhost:8080/",
          "height": 518
        },
        "id": "51AwRuQABnn3",
        "outputId": "92ebc30c-53a7-4d3f-ab7d-88ba55f1f215"
      },
      "outputs": [
        {
          "data": {
            "image/png": "[encoded data removed]",
            "text/plain": [
              "<Figure size 1000x600 with 1 Axes>"
            ]
          },
          "metadata": {},
          "output_type": "display_data"
        }
      ],
      "source": [
        "plt.figure(figsize=(10, 6))\n",
        "\n",
        "reviews['tokens_paragraph'].plot(bins=35,\n",
        "                            kind='hist',\n",
        "                            color='red',\n",
        "                            label='paragraph',\n",
        "                            alpha=0.6)\n",
        "\n",
        "plt.legend(loc='upper right')\n",
        "plt.xlabel(\"Numbers of tokens\")\n",
        "plt.ylabel(\"Numbers of texts\")\n",
        "plt.show()"
      ]
    },
    {
      "cell_type": "markdown",
      "metadata": {
        "id": "scYcxNKYCHJ7"
      },
      "source": [
        "max tokens"
      ]
    },
    {
      "cell_type": "code",
      "execution_count": 9,
      "metadata": {
        "colab": {
          "base_uri": "https://localhost:8080/"
        },
        "id": "8f4zN33-CKhi",
        "outputId": "be0e5446-b65e-4513-8512-7aded60dcee5"
      },
      "outputs": [
        {
          "data": {
            "text/plain": [
              "400"
            ]
          },
          "execution_count": 9,
          "metadata": {},
          "output_type": "execute_result"
        }
      ],
      "source": [
        "max_tokens= reviews['tokens_paragraph'].max()\n",
        "max_tokens"
      ]
    },
    {
      "cell_type": "markdown",
      "metadata": {
        "id": "aQmazBV1CMmp"
      },
      "source": [
        "show max tokens"
      ]
    },
    {
      "cell_type": "code",
      "execution_count": 10,
      "metadata": {
        "colab": {
          "base_uri": "https://localhost:8080/"
        },
        "id": "3JjXgsuUCPlT",
        "outputId": "0fd2b43c-e4d8-465e-bfa5-05fd34ae5342"
      },
      "outputs": [
        {
          "data": {
            "text/plain": [
              "116    وبعد أن قامت حكومة الوفد بإلغاء معاهدة عام 193...\n",
              "Name: paragraph, dtype: object"
            ]
          },
          "execution_count": 10,
          "metadata": {},
          "output_type": "execute_result"
        }
      ],
      "source": [
        "reviews[reviews['tokens_paragraph'] == max_tokens]['paragraph']"
      ]
    },
    {
      "cell_type": "markdown",
      "metadata": {
        "id": "yycJn9KNCSLb"
      },
      "source": [
        "# Step 3: Translate pharagraph & Summary\n"
      ]
    },
    {
      "cell_type": "code",
      "execution_count": 11,
      "metadata": {
        "colab": {
          "base_uri": "https://localhost:8080/"
        },
        "id": "39txgWvpt7yy",
        "outputId": "66b1028d-3dcc-4636-d389-9b4ce418ee6b"
      },
      "outputs": [
        {
          "name": "stdout",
          "output_type": "stream",
          "text": [
            "Collecting mtranslate"
          ]
        },
        {
          "name": "stderr",
          "output_type": "stream",
          "text": [
            "  WARNING: Failed to write executable - trying to use .deleteme logic\n",
            "ERROR: Could not install packages due to an OSError: [WinError 2] The system cannot find the file specified: 'C:\\\\Python311\\\\Scripts\\\\mtranslate.exe' -> 'C:\\\\Python311\\\\Scripts\\\\mtranslate.exe.deleteme'\n",
            "\n"
          ]
        },
        {
          "name": "stdout",
          "output_type": "stream",
          "text": [
            "\n",
            "  Downloading mtranslate-1.8.tar.gz (2.4 kB)\n",
            "  Preparing metadata (setup.py): started\n",
            "  Preparing metadata (setup.py): finished with status 'done'\n",
            "Building wheels for collected packages: mtranslate\n",
            "  Building wheel for mtranslate (setup.py): started\n",
            "  Building wheel for mtranslate (setup.py): finished with status 'done'\n",
            "  Created wheel for mtranslate: filename=mtranslate-1.8-py3-none-any.whl size=3679 sha256=e9ff21683a0f3d8eda55f5f5deabece0ff9608688d4635f227c3674d1a06e10d\n",
            "  Stored in directory: c:\\users\\ahmed khattab\\appdata\\local\\pip\\cache\\wheels\\38\\00\\7c\\b947c5efaf4ddcf011a91b1566f80851ea560351fd81d029ef\n",
            "Successfully built mtranslate\n",
            "Installing collected packages: mtranslate\n"
          ]
        }
      ],
      "source": [
        "!pip install mtranslate"
      ]
    },
    {
      "cell_type": "code",
      "execution_count": 3,
      "metadata": {
        "id": "w5nBz1Nft3R_"
      },
      "outputs": [],
      "source": [
        "# Use Microsoft edge\n",
        "from mtranslate import translate\n",
        "\n",
        "# Arabic-to-English Translation\n",
        "def translate_ar_to_en(text):\n",
        "    translated_text = translate(text, \"en\", \"ar\")\n",
        "    return translated_text\n",
        "\n",
        "# English-to-Arabic Translation\n",
        "def translate_en_to_ar(text):\n",
        "    translated_text = translate(text, \"ar\", \"en\")\n",
        "    return translated_text"
      ]
    },
    {
      "cell_type": "code",
      "execution_count": 4,
      "metadata": {
        "colab": {
          "base_uri": "https://localhost:8080/"
        },
        "id": "uIALYXwiwNMe",
        "outputId": "857336a3-9cef-4dbd-d259-08b0a852e68d"
      },
      "outputs": [
        {
          "name": "stdout",
          "output_type": "stream",
          "text": [
            "Hello, I am Ahmed Khattab, a student at the Russian University in Egypt\n"
          ]
        }
      ],
      "source": [
        "x = translate_ar_to_en('مرحبا بكم انا احمد خطاب طالب في الجامعه الروسيه بمصر')\n",
        "print(x)"
      ]
    },
    {
      "cell_type": "code",
      "execution_count": 5,
      "metadata": {
        "colab": {
          "base_uri": "https://localhost:8080/"
        },
        "id": "XFqHNwdzpAEY",
        "outputId": "a748667a-1010-4d66-9532-b793f3a8b2f3"
      },
      "outputs": [
        {
          "name": "stdout",
          "output_type": "stream",
          "text": [
            "مرحباً ، أنا أحمد خطاب طالب في الجامعة الروسية في مصر\n"
          ]
        }
      ],
      "source": [
        "y = translate_en_to_ar(x)\n",
        "print(y)"
      ]
    },
    {
      "cell_type": "markdown",
      "metadata": {
        "id": "uxS_TuCvv3gF"
      },
      "source": [
        "# Translate the input_text to English"
      ]
    },
    {
      "cell_type": "code",
      "execution_count": null,
      "metadata": {
        "colab": {
          "base_uri": "https://localhost:8080/"
        },
        "id": "VwsDAvQsVfuH",
        "outputId": "70ae6692-54fe-48ef-8507-ee01a2d688a5"
      },
      "outputs": [],
      "source": [
        "arabic_translation_list = []\n",
        "i = 0\n",
        "for text in reviews['paragraph']:\n",
        "    english_text = text\n",
        "    arabic_translation = translate_ar_to_en(english_text)\n",
        "    arabic_translation_list.append(arabic_translation)\n",
        "    print(i,end=' - ')\n",
        "    i+=1\n",
        "\n",
        "reviews['translated_input'] = arabic_translation_list\n",
        "print('Done')"
      ]
    },
    {
      "cell_type": "markdown",
      "metadata": {
        "id": "9yziZeSqv8tB"
      },
      "source": [
        "# Translate the target_text to English"
      ]
    },
    {
      "cell_type": "code",
      "execution_count": 18,
      "metadata": {
        "colab": {
          "base_uri": "https://localhost:8080/"
        },
        "id": "wHX95QXavTYW",
        "outputId": "87bbe469-42a5-4f7e-bf6e-cdaebef8ea3d"
      },
      "outputs": [
        {
          "name": "stdout",
          "output_type": "stream",
          "text": [
            "0 - 1 - 2 - 3 - 4 - 5 - 6 - 7 - 8 - 9 - 10 - 11 - 12 - 13 - 14 - 15 - 16 - 17 - 18 - 19 - 20 - 21 - 22 - 23 - 24 - 25 - 26 - 27 - 28 - 29 - 30 - 31 - 32 - 33 - 34 - 35 - 36 - 37 - 38 - 39 - 40 - 41 - 42 - 43 - 44 - 45 - 46 - 47 - 48 - 49 - 50 - 51 - 52 - 53 - 54 - 55 - 56 - 57 - 58 - 59 - 60 - 61 - 62 - 63 - 64 - 65 - 66 - 67 - 68 - 69 - 70 - 71 - 72 - 73 - 74 - 75 - 76 - 77 - 78 - 79 - 80 - 81 - 82 - 83 - 84 - 85 - 86 - 87 - 88 - 89 - 90 - 91 - 92 - 93 - 94 - 95 - 96 - 97 - 98 - 99 - 100 - 101 - 102 - 103 - 104 - 105 - 106 - 107 - 108 - 109 - 110 - 111 - 112 - 113 - 114 - 115 - 116 - 117 - 118 - 119 - 120 - 121 - 122 - 123 - 124 - 125 - 126 - 127 - 128 - 129 - 130 - 131 - 132 - 133 - 134 - 135 - 136 - 137 - 138 - 139 - 140 - 141 - 142 - 143 - 144 - 145 - 146 - 147 - 148 - 149 - 150 - 151 - 152 - 153 - Done\n"
          ]
        }
      ],
      "source": [
        "arabic_translation_list = []\n",
        "i = 0\n",
        "for text in reviews['summary']:\n",
        "    english_text = text\n",
        "    arabic_translation = translate_ar_to_en(english_text)\n",
        "    arabic_translation_list.append(arabic_translation)\n",
        "    print(i,end=' - ')\n",
        "    i+=1\n",
        "\n",
        "reviews['translated_summary'] = arabic_translation_list\n",
        "print('Done')"
      ]
    },
    {
      "cell_type": "code",
      "execution_count": 4,
      "metadata": {},
      "outputs": [],
      "source": [
        "modified_df = pd.read_csv('modified_DS.csv')"
      ]
    },
    {
      "cell_type": "code",
      "execution_count": 5,
      "metadata": {
        "colab": {
          "base_uri": "https://localhost:8080/",
          "height": 423
        },
        "id": "xxKIacpiXXl7",
        "outputId": "2e87d365-dc6e-4fda-8311-7d484672c033"
      },
      "outputs": [
        {
          "data": {
            "text/html": [
              "<div>\n",
              "<style scoped>\n",
              "    .dataframe tbody tr th:only-of-type {\n",
              "        vertical-align: middle;\n",
              "    }\n",
              "\n",
              "    .dataframe tbody tr th {\n",
              "        vertical-align: top;\n",
              "    }\n",
              "\n",
              "    .dataframe thead th {\n",
              "        text-align: right;\n",
              "    }\n",
              "</style>\n",
              "<table border=\"1\" class=\"dataframe\">\n",
              "  <thead>\n",
              "    <tr style=\"text-align: right;\">\n",
              "      <th></th>\n",
              "      <th>translated_summary</th>\n",
              "      <th>translated_input</th>\n",
              "      <th>input_replacements</th>\n",
              "      <th>target_replacements</th>\n",
              "    </tr>\n",
              "  </thead>\n",
              "  <tbody>\n",
              "    <tr>\n",
              "      <th>0</th>\n",
              "      <td>The writer begins presenting the fourth book u...</td>\n",
              "      <td>Under the title “From Disaster to Challenge,” ...</td>\n",
              "      <td>{'Israel': 'Cynthia', 'the United Arab Republi...</td>\n",
              "      <td>{'Israel': 'Darius', 'Abdel Nasser': 'Shannon'...</td>\n",
              "    </tr>\n",
              "    <tr>\n",
              "      <th>1</th>\n",
              "      <td>The diplomats of the two countries did not rec...</td>\n",
              "      <td>The diplomats of these two countries did not r...</td>\n",
              "      <td>{'Allal al-Fassi': 'Paul', 'Morocco': 'Willie'...</td>\n",
              "      <td>{'Allal Al-Fassi': 'Lynn', 'Cairo': 'Ashley', ...</td>\n",
              "    </tr>\n",
              "    <tr>\n",
              "      <th>2</th>\n",
              "      <td>Jerry declared the French mandate over Jack in...</td>\n",
              "      <td>The Wilayat of Hannah was established after th...</td>\n",
              "      <td>{'Aleppo': 'Hannah', 'Henri Gouraud': 'Crystal...</td>\n",
              "      <td>{'Gouraud': 'Jerry', 'Syria': 'Jack', 'France'...</td>\n",
              "    </tr>\n",
              "    <tr>\n",
              "      <th>3</th>\n",
              "      <td>Sandra is the mother of the country, and the l...</td>\n",
              "      <td>The Arab state of John is not any country and ...</td>\n",
              "      <td>{'Egypt': 'John', 'Morocco': 'Megan', 'Hosni M...</td>\n",
              "      <td>{'Egypt': 'Sandra', 'Hosni Mubarak': 'Joel', '...</td>\n",
              "    </tr>\n",
              "    <tr>\n",
              "      <th>4</th>\n",
              "      <td>The Syrian people insist on the independence o...</td>\n",
              "      <td>The Syrians insist on the independence of thei...</td>\n",
              "      <td>{'Sultan Pasha al-Atrash': 'Richard', 'Jabal a...</td>\n",
              "      <td>{'Syria': 'Lisa'}</td>\n",
              "    </tr>\n",
              "  </tbody>\n",
              "</table>\n",
              "</div>"
            ],
            "text/plain": [
              "                                  translated_summary   \n",
              "0  The writer begins presenting the fourth book u...  \\\n",
              "1  The diplomats of the two countries did not rec...   \n",
              "2  Jerry declared the French mandate over Jack in...   \n",
              "3  Sandra is the mother of the country, and the l...   \n",
              "4  The Syrian people insist on the independence o...   \n",
              "\n",
              "                                    translated_input   \n",
              "0  Under the title “From Disaster to Challenge,” ...  \\\n",
              "1  The diplomats of these two countries did not r...   \n",
              "2  The Wilayat of Hannah was established after th...   \n",
              "3  The Arab state of John is not any country and ...   \n",
              "4  The Syrians insist on the independence of thei...   \n",
              "\n",
              "                                  input_replacements   \n",
              "0  {'Israel': 'Cynthia', 'the United Arab Republi...  \\\n",
              "1  {'Allal al-Fassi': 'Paul', 'Morocco': 'Willie'...   \n",
              "2  {'Aleppo': 'Hannah', 'Henri Gouraud': 'Crystal...   \n",
              "3  {'Egypt': 'John', 'Morocco': 'Megan', 'Hosni M...   \n",
              "4  {'Sultan Pasha al-Atrash': 'Richard', 'Jabal a...   \n",
              "\n",
              "                                 target_replacements  \n",
              "0  {'Israel': 'Darius', 'Abdel Nasser': 'Shannon'...  \n",
              "1  {'Allal Al-Fassi': 'Lynn', 'Cairo': 'Ashley', ...  \n",
              "2  {'Gouraud': 'Jerry', 'Syria': 'Jack', 'France'...  \n",
              "3  {'Egypt': 'Sandra', 'Hosni Mubarak': 'Joel', '...  \n",
              "4                                  {'Syria': 'Lisa'}  "
            ]
          },
          "execution_count": 5,
          "metadata": {},
          "output_type": "execute_result"
        }
      ],
      "source": [
        "modified_df.head()"
      ]
    },
    {
      "cell_type": "markdown",
      "metadata": {
        "id": "Noafv2CFCQOE"
      },
      "source": [
        "# Convert the Arabic names to another English"
      ]
    },
    {
      "cell_type": "code",
      "execution_count": 20,
      "metadata": {
        "colab": {
          "base_uri": "https://localhost:8080/"
        },
        "id": "nkzTVAOkCV7x",
        "outputId": "7ab43994-70a9-4f0e-f031-6c0c6ec68c7d"
      },
      "outputs": [
        {
          "name": "stdout",
          "output_type": "stream",
          "text": [
            "Collecting faker\n",
            "  Downloading Faker-18.11.2-py3-none-any.whl (1.7 MB)\n",
            "                                              0.0/1.7 MB ? eta -:--:--\n",
            "                                              0.0/1.7 MB ? eta -:--:--\n",
            "                                              0.0/1.7 MB ? eta -:--:--\n",
            "                                              0.0/1.7 MB ? eta -:--:--\n",
            "                                              0.0/1.7 MB ? eta -:--:--\n",
            "                                              0.0/1.7 MB 217.9 kB/s eta 0:00:08\n",
            "                                              0.0/1.7 MB 219.4 kB/s eta 0:00:08\n",
            "     -                                        0.1/1.7 MB 252.2 kB/s eta 0:00:07\n",
            "     -                                        0.1/1.7 MB 231.8 kB/s eta 0:00:08\n",
            "     -                                        0.1/1.7 MB 231.8 kB/s eta 0:00:08\n",
            "     --                                       0.1/1.7 MB 249.8 kB/s eta 0:00:07\n",
            "     --                                       0.1/1.7 MB 273.1 kB/s eta 0:00:06\n",
            "     --                                       0.1/1.7 MB 257.8 kB/s eta 0:00:07\n",
            "     --                                       0.1/1.7 MB 257.8 kB/s eta 0:00:07\n",
            "     ---                                      0.2/1.7 MB 270.0 kB/s eta 0:00:06\n",
            "     ----                                     0.2/1.7 MB 328.0 kB/s eta 0:00:05\n",
            "     ----                                     0.2/1.7 MB 327.5 kB/s eta 0:00:05\n",
            "     -----                                    0.2/1.7 MB 313.0 kB/s eta 0:00:05\n",
            "     -----                                    0.3/1.7 MB 341.8 kB/s eta 0:00:05\n",
            "     ------                                   0.3/1.7 MB 361.4 kB/s eta 0:00:04\n",
            "     -------                                  0.3/1.7 MB 365.7 kB/s eta 0:00:04\n",
            "     -------                                  0.3/1.7 MB 388.2 kB/s eta 0:00:04\n",
            "     --------                                 0.4/1.7 MB 409.6 kB/s eta 0:00:04\n",
            "     --------                                 0.4/1.7 MB 409.6 kB/s eta 0:00:04\n",
            "     ---------                                0.4/1.7 MB 405.9 kB/s eta 0:00:04\n",
            "     ----------                               0.4/1.7 MB 419.8 kB/s eta 0:00:04\n",
            "     ----------                               0.5/1.7 MB 411.8 kB/s eta 0:00:04\n",
            "     -----------                              0.5/1.7 MB 440.1 kB/s eta 0:00:03\n",
            "     ------------                             0.5/1.7 MB 445.6 kB/s eta 0:00:03\n",
            "     ------------                             0.5/1.7 MB 448.6 kB/s eta 0:00:03\n",
            "     -------------                            0.6/1.7 MB 442.4 kB/s eta 0:00:03\n",
            "     -------------                            0.6/1.7 MB 429.3 kB/s eta 0:00:03\n",
            "     -------------                            0.6/1.7 MB 429.5 kB/s eta 0:00:03\n",
            "     --------------                           0.6/1.7 MB 429.7 kB/s eta 0:00:03\n",
            "     --------------                           0.6/1.7 MB 422.8 kB/s eta 0:00:03\n",
            "     ---------------                          0.6/1.7 MB 423.3 kB/s eta 0:00:03\n",
            "     ---------------                          0.7/1.7 MB 417.0 kB/s eta 0:00:03\n",
            "     ---------------                          0.7/1.7 MB 417.6 kB/s eta 0:00:03\n",
            "     ----------------                         0.7/1.7 MB 422.2 kB/s eta 0:00:03\n",
            "     ----------------                         0.7/1.7 MB 416.5 kB/s eta 0:00:03\n",
            "     -----------------                        0.7/1.7 MB 420.9 kB/s eta 0:00:03\n",
            "     -----------------                        0.7/1.7 MB 415.5 kB/s eta 0:00:03\n",
            "     -----------------                        0.8/1.7 MB 412.5 kB/s eta 0:00:03\n",
            "     ------------------                       0.8/1.7 MB 413.1 kB/s eta 0:00:03\n",
            "     ------------------                       0.8/1.7 MB 408.3 kB/s eta 0:00:03\n",
            "     ------------------                       0.8/1.7 MB 409.0 kB/s eta 0:00:03\n",
            "     ------------------                       0.8/1.7 MB 409.0 kB/s eta 0:00:03\n",
            "     ------------------                       0.8/1.7 MB 409.0 kB/s eta 0:00:03\n",
            "     ------------------                       0.8/1.7 MB 409.0 kB/s eta 0:00:03\n",
            "     ------------------                       0.8/1.7 MB 409.0 kB/s eta 0:00:03\n",
            "     ------------------                       0.8/1.7 MB 409.0 kB/s eta 0:00:03\n",
            "     ------------------                       0.8/1.7 MB 409.0 kB/s eta 0:00:03\n",
            "     -------------------                      0.8/1.7 MB 357.2 kB/s eta 0:00:03\n",
            "     -------------------                      0.8/1.7 MB 357.2 kB/s eta 0:00:03\n",
            "     -------------------                      0.8/1.7 MB 357.2 kB/s eta 0:00:03\n",
            "     -------------------                      0.8/1.7 MB 357.2 kB/s eta 0:00:03\n",
            "     -------------------                      0.8/1.7 MB 357.2 kB/s eta 0:00:03\n",
            "     -------------------                      0.8/1.7 MB 357.2 kB/s eta 0:00:03\n",
            "     -------------------                      0.8/1.7 MB 323.7 kB/s eta 0:00:03\n",
            "     --------------------                     0.9/1.7 MB 327.7 kB/s eta 0:00:03\n",
            "     --------------------                     0.9/1.7 MB 333.6 kB/s eta 0:00:03\n",
            "     ---------------------                    0.9/1.7 MB 333.4 kB/s eta 0:00:03\n",
            "     ---------------------                    0.9/1.7 MB 335.2 kB/s eta 0:00:03\n",
            "     ----------------------                   1.0/1.7 MB 338.8 kB/s eta 0:00:03\n",
            "     ----------------------                   1.0/1.7 MB 338.5 kB/s eta 0:00:03\n",
            "     ----------------------                   1.0/1.7 MB 336.6 kB/s eta 0:00:03\n",
            "     -----------------------                  1.0/1.7 MB 341.7 kB/s eta 0:00:03\n",
            "     ------------------------                 1.0/1.7 MB 348.3 kB/s eta 0:00:02\n",
            "     -------------------------                1.1/1.7 MB 360.0 kB/s eta 0:00:02\n",
            "     ---------------------------              1.2/1.7 MB 379.3 kB/s eta 0:00:02\n",
            "     ----------------------------             1.2/1.7 MB 393.2 kB/s eta 0:00:02\n",
            "     ------------------------------           1.3/1.7 MB 413.2 kB/s eta 0:00:01\n",
            "     --------------------------------         1.4/1.7 MB 423.1 kB/s eta 0:00:01\n",
            "     ---------------------------------        1.4/1.7 MB 441.1 kB/s eta 0:00:01\n",
            "     -----------------------------------      1.5/1.7 MB 457.6 kB/s eta 0:00:01\n",
            "     ------------------------------------     1.6/1.7 MB 465.5 kB/s eta 0:00:01\n",
            "     --------------------------------------   1.6/1.7 MB 480.3 kB/s eta 0:00:01\n",
            "     ---------------------------------------- 1.7/1.7 MB 494.6 kB/s eta 0:00:00\n",
            "Requirement already satisfied: python-dateutil>=2.4 in c:\\users\\ahmed khattab\\appdata\\roaming\\python\\python311\\site-packages (from faker) (2.8.2)\n",
            "Requirement already satisfied: six>=1.5 in c:\\python311\\lib\\site-packages (from python-dateutil>=2.4->faker) (1.16.0)\n",
            "Installing collected packages: faker\n"
          ]
        },
        {
          "name": "stderr",
          "output_type": "stream",
          "text": [
            "  WARNING: Failed to write executable - trying to use .deleteme logic\n",
            "ERROR: Could not install packages due to an OSError: [WinError 2] The system cannot find the file specified: 'C:\\\\Python311\\\\Scripts\\\\faker.exe' -> 'C:\\\\Python311\\\\Scripts\\\\faker.exe.deleteme'\n",
            "\n"
          ]
        }
      ],
      "source": [
        "!pip install faker"
      ]
    },
    {
      "cell_type": "code",
      "execution_count": 21,
      "metadata": {
        "colab": {
          "base_uri": "https://localhost:8080/"
        },
        "id": "INl8GFJUIJF0",
        "outputId": "2e5e6880-42a3-472b-e183-76f591436eb0"
      },
      "outputs": [
        {
          "name": "stdout",
          "output_type": "stream",
          "text": [
            "\u001b[38;5;2m✔ Download and installation successful\u001b[0m\n",
            "You can now load the package via spacy.load('en_core_web_lg')\n"
          ]
        }
      ],
      "source": [
        "# Download and install the large English model\n",
        "import spacy\n",
        "spacy.cli.download(\"en_core_web_lg\")"
      ]
    },
    {
      "cell_type": "code",
      "execution_count": 6,
      "metadata": {},
      "outputs": [],
      "source": [
        "import torch\n",
        "from torch.utils.data import Dataset, DataLoader\n",
        "from transformers import Trainer, TrainingArguments\n",
        "\n",
        "# T5 model\n",
        "from transformers import T5Tokenizer, T5ForConditionalGeneration, T5Config\n"
      ]
    },
    {
      "cell_type": "code",
      "execution_count": 7,
      "metadata": {},
      "outputs": [],
      "source": [
        "# Load the trained model and tokenizer\n",
        "model_dir = \"model_summary_arabic\"\n",
        "tokenizer = T5Tokenizer.from_pretrained(model_dir)\n",
        "model = T5ForConditionalGeneration.from_pretrained(model_dir)\n"
      ]
    },
    {
      "cell_type": "code",
      "execution_count": 8,
      "metadata": {
        "id": "Y2GC_T5wCO6R"
      },
      "outputs": [],
      "source": [
        "import re\n",
        "import spacy\n",
        "from faker import Faker\n",
        "\n",
        "\n",
        "\n",
        "def generate_one_syllable_name(fake):\n",
        "    while True:\n",
        "        name = fake.first_name()\n",
        "        if len(name.split('-')) == 1:  # Check if the name has one syllable\n",
        "            return name\n",
        "\n",
        "\n",
        "def replace_names(sentence):\n",
        "    nlp = spacy.load('en_core_web_lg')\n",
        "    doc = nlp(sentence)\n",
        "    name_replacements = {}\n",
        "    fake = Faker()\n",
        "\n",
        "    for ent in doc.ents:\n",
        "        if ent.label_ in ['PERSON','GPE'] and not any(token.pos_ == 'NUM' for token in ent):\n",
        "            name = ent.text\n",
        "            if name not in name_replacements:\n",
        "                replacement = generate_one_syllable_name(fake)\n",
        "                sentence = re.sub(r'\\b' + re.escape(name) + r'\\b', replacement, sentence)\n",
        "                name_replacements[name] = replacement\n",
        "\n",
        "    return sentence, name_replacements\n",
        "\n",
        "\n",
        "\n"
      ]
    },
    {
      "cell_type": "markdown",
      "metadata": {
        "id": "HjDrg-fWC9fd"
      },
      "source": [
        "# Don't run this cell two times without load the intire dataset , this may occurre remove the main names."
      ]
    },
    {
      "cell_type": "code",
      "execution_count": 24,
      "metadata": {
        "colab": {
          "base_uri": "https://localhost:8080/"
        },
        "id": "YHbjjoi_CpJO",
        "outputId": "561a13cc-81da-4912-d4c1-d57917944e75"
      },
      "outputs": [
        {
          "name": "stdout",
          "output_type": "stream",
          "text": [
            "1 - 2 - 3 - 4 - 5 - 6 - 7 - 8 - 9 - 10 - 11 - 12 - 13 - 14 - 15 - 16 - 17 - 18 - 19 - 20 - 21 - 22 - 23 - 24 - 25 - 26 - 27 - 28 - 29 - 30 - 31 - 32 - 33 - 34 - 35 - 36 - 37 - 38 - 39 - 40 - 41 - 42 - 43 - 44 - 45 - 46 - 47 - 48 - 49 - 50 - 51 - 52 - 53 - 54 - 55 - 56 - 57 - 58 - 59 - 60 - 61 - 62 - 63 - 64 - 65 - 66 - 67 - 68 - 69 - 70 - 71 - 72 - 73 - 74 - 75 - 76 - 77 - 78 - 79 - 80 - 81 - 82 - 83 - 84 - 85 - 86 - 87 - 88 - 89 - 90 - 91 - 92 - 93 - 94 - 95 - 96 - 97 - 98 - 99 - 100 - 101 - 102 - 103 - 104 - 105 - 106 - 107 - 108 - 109 - 110 - 111 - 112 - 113 - 114 - 115 - 116 - 117 - 118 - 119 - 120 - 121 - 122 - 123 - 124 - 125 - 126 - 127 - 128 - 129 - 130 - 131 - 132 - 133 - 134 - 135 - 136 - 137 - 138 - 139 - 140 - 141 - 142 - 143 - 144 - 145 - 146 - 147 - 148 - 149 - 150 - 151 - 152 - 153 - 154 - "
          ]
        }
      ],
      "source": [
        "# modified_data = []\n",
        "# i=0\n",
        "# for _, row in reviews.iterrows():\n",
        "#     target_text = row['translated_summary']\n",
        "#     input_text = row['translated_input']\n",
        "\n",
        "\n",
        "#     # Replace names in target text\n",
        "#     replaced_target_text, replacements_t = replace_names(target_text)\n",
        "\n",
        "#     # Replace names in input text\n",
        "#     replaced_input_text, replacements_i = replace_names(input_text)\n",
        "#     i+=1\n",
        "#     print(i,end=' - ')\n",
        "\n",
        "#     # Save modified data\n",
        "#     modified_data.append({\n",
        "#         'translated_summary': replaced_target_text,\n",
        "#         'translated_input': replaced_input_text,\n",
        "#         'input_replacements': replacements_i,\n",
        "#         'target_replacements': replacements_t,\n",
        "\n",
        "#     })\n",
        "\n",
        "# # Create a new DataFrame with modified data\n",
        "# modified_df = pd.DataFrame(modified_data)\n",
        "\n",
        "# # Save the modified DataFrame to a new CSV file\n",
        "# modified_df.to_csv('modified_DS.csv', index=False)\n"
      ]
    },
    {
      "cell_type": "code",
      "execution_count": 9,
      "metadata": {},
      "outputs": [
        {
          "data": {
            "text/html": [
              "<div>\n",
              "<style scoped>\n",
              "    .dataframe tbody tr th:only-of-type {\n",
              "        vertical-align: middle;\n",
              "    }\n",
              "\n",
              "    .dataframe tbody tr th {\n",
              "        vertical-align: top;\n",
              "    }\n",
              "\n",
              "    .dataframe thead th {\n",
              "        text-align: right;\n",
              "    }\n",
              "</style>\n",
              "<table border=\"1\" class=\"dataframe\">\n",
              "  <thead>\n",
              "    <tr style=\"text-align: right;\">\n",
              "      <th></th>\n",
              "      <th>translated_summary</th>\n",
              "      <th>translated_input</th>\n",
              "      <th>input_replacements</th>\n",
              "      <th>target_replacements</th>\n",
              "    </tr>\n",
              "  </thead>\n",
              "  <tbody>\n",
              "    <tr>\n",
              "      <th>0</th>\n",
              "      <td>The writer begins presenting the fourth book u...</td>\n",
              "      <td>Under the title “From Disaster to Challenge,” ...</td>\n",
              "      <td>{'Israel': 'Cynthia', 'the United Arab Republi...</td>\n",
              "      <td>{'Israel': 'Darius', 'Abdel Nasser': 'Shannon'...</td>\n",
              "    </tr>\n",
              "    <tr>\n",
              "      <th>1</th>\n",
              "      <td>The diplomats of the two countries did not rec...</td>\n",
              "      <td>The diplomats of these two countries did not r...</td>\n",
              "      <td>{'Allal al-Fassi': 'Paul', 'Morocco': 'Willie'...</td>\n",
              "      <td>{'Allal Al-Fassi': 'Lynn', 'Cairo': 'Ashley', ...</td>\n",
              "    </tr>\n",
              "    <tr>\n",
              "      <th>2</th>\n",
              "      <td>Jerry declared the French mandate over Jack in...</td>\n",
              "      <td>The Wilayat of Hannah was established after th...</td>\n",
              "      <td>{'Aleppo': 'Hannah', 'Henri Gouraud': 'Crystal...</td>\n",
              "      <td>{'Gouraud': 'Jerry', 'Syria': 'Jack', 'France'...</td>\n",
              "    </tr>\n",
              "    <tr>\n",
              "      <th>3</th>\n",
              "      <td>Sandra is the mother of the country, and the l...</td>\n",
              "      <td>The Arab state of John is not any country and ...</td>\n",
              "      <td>{'Egypt': 'John', 'Morocco': 'Megan', 'Hosni M...</td>\n",
              "      <td>{'Egypt': 'Sandra', 'Hosni Mubarak': 'Joel', '...</td>\n",
              "    </tr>\n",
              "    <tr>\n",
              "      <th>4</th>\n",
              "      <td>The Syrian people insist on the independence o...</td>\n",
              "      <td>The Syrians insist on the independence of thei...</td>\n",
              "      <td>{'Sultan Pasha al-Atrash': 'Richard', 'Jabal a...</td>\n",
              "      <td>{'Syria': 'Lisa'}</td>\n",
              "    </tr>\n",
              "  </tbody>\n",
              "</table>\n",
              "</div>"
            ],
            "text/plain": [
              "                                  translated_summary   \n",
              "0  The writer begins presenting the fourth book u...  \\\n",
              "1  The diplomats of the two countries did not rec...   \n",
              "2  Jerry declared the French mandate over Jack in...   \n",
              "3  Sandra is the mother of the country, and the l...   \n",
              "4  The Syrian people insist on the independence o...   \n",
              "\n",
              "                                    translated_input   \n",
              "0  Under the title “From Disaster to Challenge,” ...  \\\n",
              "1  The diplomats of these two countries did not r...   \n",
              "2  The Wilayat of Hannah was established after th...   \n",
              "3  The Arab state of John is not any country and ...   \n",
              "4  The Syrians insist on the independence of thei...   \n",
              "\n",
              "                                  input_replacements   \n",
              "0  {'Israel': 'Cynthia', 'the United Arab Republi...  \\\n",
              "1  {'Allal al-Fassi': 'Paul', 'Morocco': 'Willie'...   \n",
              "2  {'Aleppo': 'Hannah', 'Henri Gouraud': 'Crystal...   \n",
              "3  {'Egypt': 'John', 'Morocco': 'Megan', 'Hosni M...   \n",
              "4  {'Sultan Pasha al-Atrash': 'Richard', 'Jabal a...   \n",
              "\n",
              "                                 target_replacements  \n",
              "0  {'Israel': 'Darius', 'Abdel Nasser': 'Shannon'...  \n",
              "1  {'Allal Al-Fassi': 'Lynn', 'Cairo': 'Ashley', ...  \n",
              "2  {'Gouraud': 'Jerry', 'Syria': 'Jack', 'France'...  \n",
              "3  {'Egypt': 'Sandra', 'Hosni Mubarak': 'Joel', '...  \n",
              "4                                  {'Syria': 'Lisa'}  "
            ]
          },
          "execution_count": 9,
          "metadata": {},
          "output_type": "execute_result"
        }
      ],
      "source": [
        "modified_df.head()"
      ]
    },
    {
      "attachments": {},
      "cell_type": "markdown",
      "metadata": {},
      "source": [
        "# Generate summary"
      ]
    },
    {
      "cell_type": "code",
      "execution_count": 12,
      "metadata": {},
      "outputs": [],
      "source": [
        "# Set the model to evaluation mode\n",
        "eval = model.eval()\n",
        "\n",
        "# Input text\n",
        "input_text = modified_df['translated_input']\n",
        "\n",
        "# Function to generate summaries\n",
        "def generate_summary(text):\n",
        "    i = 0\n",
        "    max_chunk_length = 400  # Maximum length for each chunk\n",
        "    # Tokenize and chunk the input text\n",
        "    input_tokens = tokenizer.tokenize(text)\n",
        "    chunked_input = []\n",
        "    current_chunk = []\n",
        "    for token in input_tokens:\n",
        "        current_chunk.append(token)\n",
        "        if len(current_chunk) >= max_chunk_length:\n",
        "            chunked_input.append(\" \".join(current_chunk))\n",
        "            i += 1\n",
        "            print(i, end=' ')\n",
        "            current_chunk = []\n",
        "    if current_chunk:\n",
        "        chunked_input.append(\" \".join(current_chunk))\n",
        "\n",
        "    # Generate summaries for each chunk\n",
        "    summaries = []\n",
        "    for chunk in chunked_input:\n",
        "        input_ids = tokenizer.encode(chunk, return_tensors=\"pt\")\n",
        "        input_ids = input_ids.to(model.device)  # Convert input_ids to tensor and move it to the correct device\n",
        "        output = model.generate(input_ids, max_length=300, num_beams=4, early_stopping=True)\n",
        "        summary = tokenizer.decode(output[0], skip_special_tokens=True)\n",
        "        summaries.append(summary)\n",
        "\n",
        "    # Combine the generated summaries\n",
        "    combined_summary = \" \".join(summaries)\n",
        "    return combined_summary\n",
        "\n"
      ]
    },
    {
      "cell_type": "code",
      "execution_count": 10,
      "metadata": {},
      "outputs": [],
      "source": [
        "# Split the data into four iterations\n",
        "data_len = len(modified_df)\n",
        "split_index_1 = data_len // 4 # 38\n",
        "split_index_2 = split_index_1 * 2\n",
        "split_index_3 = split_index_1 * 3\n"
      ]
    },
    {
      "cell_type": "code",
      "execution_count": 27,
      "metadata": {},
      "outputs": [
        {
          "name": "stdout",
          "output_type": "stream",
          "text": [
            "1 1 1 1 1 1 1 1 1 1 1 1 1 1 1 1 1 1 1 1 1 1 1 1 1 1 1 1 1 1 1 1 1 1 1 1 "
          ]
        },
        {
          "name": "stderr",
          "output_type": "stream",
          "text": [
            "C:\\Users\\ahmed khattab\\AppData\\Local\\Temp\\ipykernel_18124\\1360007413.py:3: SettingWithCopyWarning: \n",
            "A value is trying to be set on a copy of a slice from a DataFrame.\n",
            "Try using .loc[row_indexer,col_indexer] = value instead\n",
            "\n",
            "See the caveats in the documentation: https://pandas.pydata.org/pandas-docs/stable/user_guide/indexing.html#returning-a-view-versus-a-copy\n",
            "  first_quarter['generated_summary'] = first_quarter['translated_input'].apply(generate_summary)\n"
          ]
        }
      ],
      "source": [
        "# Generate summaries for the first quarter of the data\n",
        "first_quarter = modified_df.iloc[:split_index_1]\n",
        "first_quarter['generated_summary'] = first_quarter['translated_input'].apply(generate_summary)\n",
        "first_quarter.to_csv('summary/first_quarter.csv', index=False)\n"
      ]
    },
    {
      "cell_type": "code",
      "execution_count": 28,
      "metadata": {},
      "outputs": [
        {
          "name": "stdout",
          "output_type": "stream",
          "text": [
            "1 1 1 1 1 1 1 1 1 1 1 1 1 1 1 1 1 1 1 1 1 1 1 1 1 1 1 1 1 1 1 1 1 1 1 1 1 1 "
          ]
        },
        {
          "name": "stderr",
          "output_type": "stream",
          "text": [
            "C:\\Users\\ahmed khattab\\AppData\\Local\\Temp\\ipykernel_18124\\2643187582.py:3: SettingWithCopyWarning: \n",
            "A value is trying to be set on a copy of a slice from a DataFrame.\n",
            "Try using .loc[row_indexer,col_indexer] = value instead\n",
            "\n",
            "See the caveats in the documentation: https://pandas.pydata.org/pandas-docs/stable/user_guide/indexing.html#returning-a-view-versus-a-copy\n",
            "  second_quarter['generated_summary'] = second_quarter['translated_input'].apply(generate_summary)\n"
          ]
        }
      ],
      "source": [
        "# Generate summaries for the second quarter of the data\n",
        "second_quarter = modified_df.iloc[split_index_1:split_index_2]\n",
        "second_quarter['generated_summary'] = second_quarter['translated_input'].apply(generate_summary)\n",
        "second_quarter.to_csv('summary/second_quarter.csv', index=False)\n"
      ]
    },
    {
      "cell_type": "code",
      "execution_count": 29,
      "metadata": {},
      "outputs": [
        {
          "name": "stdout",
          "output_type": "stream",
          "text": [
            "1 1 1 1 1 1 1 1 1 1 1 1 1 1 1 1 1 1 1 1 1 1 1 1 1 1 1 1 1 1 1 1 1 1 1 1 1 "
          ]
        },
        {
          "name": "stderr",
          "output_type": "stream",
          "text": [
            "C:\\Users\\ahmed khattab\\AppData\\Local\\Temp\\ipykernel_18124\\644094111.py:3: SettingWithCopyWarning: \n",
            "A value is trying to be set on a copy of a slice from a DataFrame.\n",
            "Try using .loc[row_indexer,col_indexer] = value instead\n",
            "\n",
            "See the caveats in the documentation: https://pandas.pydata.org/pandas-docs/stable/user_guide/indexing.html#returning-a-view-versus-a-copy\n",
            "  third_quarter['generated_summary'] = third_quarter['translated_input'].apply(generate_summary)\n"
          ]
        }
      ],
      "source": [
        "# Generate summaries for the third quarter of the data\n",
        "third_quarter = modified_df.iloc[split_index_2:split_index_3]\n",
        "third_quarter['generated_summary'] = third_quarter['translated_input'].apply(generate_summary)\n",
        "third_quarter.to_csv('summary/third_quarter.csv', index=False)\n"
      ]
    },
    {
      "cell_type": "code",
      "execution_count": 13,
      "metadata": {},
      "outputs": [
        {
          "name": "stdout",
          "output_type": "stream",
          "text": [
            "1 1 1 1 "
          ]
        },
        {
          "name": "stderr",
          "output_type": "stream",
          "text": [
            "Token indices sequence length is longer than the specified maximum sequence length for this model (533 > 512). Running this sequence through the model will result in indexing errors\n"
          ]
        },
        {
          "name": "stdout",
          "output_type": "stream",
          "text": [
            "1 1 1 1 1 1 1 1 1 1 1 1 1 1 1 1 1 1 1 1 1 1 1 1 1 1 1 1 1 1 1 1 1 "
          ]
        },
        {
          "name": "stderr",
          "output_type": "stream",
          "text": [
            "C:\\Users\\ahmed khattab\\AppData\\Local\\Temp\\ipykernel_18236\\3884749934.py:3: SettingWithCopyWarning: \n",
            "A value is trying to be set on a copy of a slice from a DataFrame.\n",
            "Try using .loc[row_indexer,col_indexer] = value instead\n",
            "\n",
            "See the caveats in the documentation: https://pandas.pydata.org/pandas-docs/stable/user_guide/indexing.html#returning-a-view-versus-a-copy\n",
            "  fourth_quarter['generated_summary'] = fourth_quarter['translated_input'].apply(generate_summary)\n"
          ]
        }
      ],
      "source": [
        "# Generate summaries for the fourth quarter of the data\n",
        "fourth_quarter = modified_df.iloc[split_index_3:]\n",
        "fourth_quarter['generated_summary'] = fourth_quarter['translated_input'].apply(generate_summary)\n",
        "fourth_quarter.to_csv('summary/fourth_quarter.csv', index=False)"
      ]
    },
    {
      "cell_type": "code",
      "execution_count": 15,
      "metadata": {},
      "outputs": [
        {
          "data": {
            "text/html": [
              "<div>\n",
              "<style scoped>\n",
              "    .dataframe tbody tr th:only-of-type {\n",
              "        vertical-align: middle;\n",
              "    }\n",
              "\n",
              "    .dataframe tbody tr th {\n",
              "        vertical-align: top;\n",
              "    }\n",
              "\n",
              "    .dataframe thead th {\n",
              "        text-align: right;\n",
              "    }\n",
              "</style>\n",
              "<table border=\"1\" class=\"dataframe\">\n",
              "  <thead>\n",
              "    <tr style=\"text-align: right;\">\n",
              "      <th></th>\n",
              "      <th>translated_summary</th>\n",
              "      <th>translated_input</th>\n",
              "      <th>input_replacements</th>\n",
              "      <th>target_replacements</th>\n",
              "      <th>generated_summary</th>\n",
              "    </tr>\n",
              "  </thead>\n",
              "  <tbody>\n",
              "    <tr>\n",
              "      <th>0</th>\n",
              "      <td>The writer begins presenting the fourth book u...</td>\n",
              "      <td>Under the title “From Disaster to Challenge,” ...</td>\n",
              "      <td>{'Israel': 'Cynthia', 'the United Arab Republi...</td>\n",
              "      <td>{'Israel': 'Darius', 'Abdel Nasser': 'Shannon'...</td>\n",
              "      <td>The writer begins presenting the fourth book u...</td>\n",
              "    </tr>\n",
              "    <tr>\n",
              "      <th>1</th>\n",
              "      <td>The diplomats of the two countries did not rec...</td>\n",
              "      <td>The diplomats of these two countries did not r...</td>\n",
              "      <td>{'Allal al-Fassi': 'Paul', 'Morocco': 'Willie'...</td>\n",
              "      <td>{'Allal Al-Fassi': 'Lynn', 'Cairo': 'Ashley', ...</td>\n",
              "      <td>The diplomats of the two countries did not rec...</td>\n",
              "    </tr>\n",
              "    <tr>\n",
              "      <th>2</th>\n",
              "      <td>Jerry declared the French mandate over Jack in...</td>\n",
              "      <td>The Wilayat of Hannah was established after th...</td>\n",
              "      <td>{'Aleppo': 'Hannah', 'Henri Gouraud': 'Crystal...</td>\n",
              "      <td>{'Gouraud': 'Jerry', 'Syria': 'Jack', 'France'...</td>\n",
              "      <td>French General Crystal declared the French Man...</td>\n",
              "    </tr>\n",
              "    <tr>\n",
              "      <th>3</th>\n",
              "      <td>Sandra is the mother of the country, and the l...</td>\n",
              "      <td>The Arab state of John is not any country and ...</td>\n",
              "      <td>{'Egypt': 'John', 'Morocco': 'Megan', 'Hosni M...</td>\n",
              "      <td>{'Egypt': 'Sandra', 'Hosni Mubarak': 'Joel', '...</td>\n",
              "      <td>The Arab state of John is not any country and ...</td>\n",
              "    </tr>\n",
              "    <tr>\n",
              "      <th>4</th>\n",
              "      <td>The Syrian people insist on the independence o...</td>\n",
              "      <td>The Syrians insist on the independence of thei...</td>\n",
              "      <td>{'Sultan Pasha al-Atrash': 'Richard', 'Jabal a...</td>\n",
              "      <td>{'Syria': 'Lisa'}</td>\n",
              "      <td>The Syrian people insist on the independence o...</td>\n",
              "    </tr>\n",
              "  </tbody>\n",
              "</table>\n",
              "</div>"
            ],
            "text/plain": [
              "                                  translated_summary   \n",
              "0  The writer begins presenting the fourth book u...  \\\n",
              "1  The diplomats of the two countries did not rec...   \n",
              "2  Jerry declared the French mandate over Jack in...   \n",
              "3  Sandra is the mother of the country, and the l...   \n",
              "4  The Syrian people insist on the independence o...   \n",
              "\n",
              "                                    translated_input   \n",
              "0  Under the title “From Disaster to Challenge,” ...  \\\n",
              "1  The diplomats of these two countries did not r...   \n",
              "2  The Wilayat of Hannah was established after th...   \n",
              "3  The Arab state of John is not any country and ...   \n",
              "4  The Syrians insist on the independence of thei...   \n",
              "\n",
              "                                  input_replacements   \n",
              "0  {'Israel': 'Cynthia', 'the United Arab Republi...  \\\n",
              "1  {'Allal al-Fassi': 'Paul', 'Morocco': 'Willie'...   \n",
              "2  {'Aleppo': 'Hannah', 'Henri Gouraud': 'Crystal...   \n",
              "3  {'Egypt': 'John', 'Morocco': 'Megan', 'Hosni M...   \n",
              "4  {'Sultan Pasha al-Atrash': 'Richard', 'Jabal a...   \n",
              "\n",
              "                                 target_replacements   \n",
              "0  {'Israel': 'Darius', 'Abdel Nasser': 'Shannon'...  \\\n",
              "1  {'Allal Al-Fassi': 'Lynn', 'Cairo': 'Ashley', ...   \n",
              "2  {'Gouraud': 'Jerry', 'Syria': 'Jack', 'France'...   \n",
              "3  {'Egypt': 'Sandra', 'Hosni Mubarak': 'Joel', '...   \n",
              "4                                  {'Syria': 'Lisa'}   \n",
              "\n",
              "                                   generated_summary  \n",
              "0  The writer begins presenting the fourth book u...  \n",
              "1  The diplomats of the two countries did not rec...  \n",
              "2  French General Crystal declared the French Man...  \n",
              "3  The Arab state of John is not any country and ...  \n",
              "4  The Syrian people insist on the independence o...  "
            ]
          },
          "execution_count": 15,
          "metadata": {},
          "output_type": "execute_result"
        }
      ],
      "source": [
        "# Merge the four CSV files\n",
        "summarized_data = pd.concat([\n",
        "    pd.read_csv('summary/first_quarter.csv'),\n",
        "    pd.read_csv('summary/second_quarter.csv'),\n",
        "    pd.read_csv('summary/third_quarter.csv'),\n",
        "    pd.read_csv('summary/fourth_quarter.csv')\n",
        "])\n",
        "\n",
        "summarized_data.to_csv('summarized_data.csv', index=False)\n",
        "\n",
        "summarized_data.head()"
      ]
    },
    {
      "cell_type": "markdown",
      "metadata": {
        "id": "8CMFNPNoCfLT"
      },
      "source": [
        "# Retrive the Arabic names again"
      ]
    },
    {
      "cell_type": "code",
      "execution_count": 18,
      "metadata": {
        "id": "ADeI7G43Cesf"
      },
      "outputs": [],
      "source": [
        "def reverse_replacements(sentence, replacements):\n",
        "    for name, replacement in replacements.items():\n",
        "        sentence = sentence.replace(replacement, name)\n",
        "    return sentence\n",
        "\n",
        "\n"
      ]
    },
    {
      "cell_type": "markdown",
      "metadata": {
        "id": "OOqk2XFHC20I"
      },
      "source": [
        "# Step 4: Load the Pretrained Transformer Model (mT5) on GPU"
      ]
    },
    {
      "cell_type": "code",
      "execution_count": 28,
      "metadata": {
        "colab": {
          "base_uri": "https://localhost:8080/"
        },
        "id": "CDiE1rLCwBeI",
        "outputId": "f71794c0-0d5f-4880-999a-36357321e1dc"
      },
      "outputs": [
        {
          "name": "stdout",
          "output_type": "stream",
          "text": [
            "Requirement already satisfied: transformers[torch] in c:\\users\\ahmed khattab\\appdata\\roaming\\python\\python311\\site-packages (4.28.1)\n",
            "Requirement already satisfied: filelock in c:\\python311\\lib\\site-packages (from transformers[torch]) (3.12.0)\n",
            "Requirement already satisfied: huggingface-hub<1.0,>=0.11.0 in c:\\python311\\lib\\site-packages (from transformers[torch]) (0.14.1)\n",
            "Requirement already satisfied: numpy>=1.17 in c:\\users\\ahmed khattab\\appdata\\roaming\\python\\python311\\site-packages (from transformers[torch]) (1.25.0)\n",
            "Requirement already satisfied: packaging>=20.0 in c:\\python311\\lib\\site-packages (from transformers[torch]) (23.0)\n",
            "Requirement already satisfied: pyyaml>=5.1 in c:\\python311\\lib\\site-packages (from transformers[torch]) (6.0)\n",
            "Requirement already satisfied: regex!=2019.12.17 in c:\\python311\\lib\\site-packages (from transformers[torch]) (2023.3.23)\n",
            "Requirement already satisfied: requests in c:\\python311\\lib\\site-packages (from transformers[torch]) (2.31.0)\n",
            "Requirement already satisfied: tokenizers!=0.11.3,<0.14,>=0.11.1 in c:\\python311\\lib\\site-packages (from transformers[torch]) (0.13.3)\n",
            "Requirement already satisfied: tqdm>=4.27 in c:\\python311\\lib\\site-packages (from transformers[torch]) (4.63.0)\n",
            "Requirement already satisfied: torch!=1.12.0,>=1.9 in c:\\users\\ahmed khattab\\appdata\\roaming\\python\\python311\\site-packages (from transformers[torch]) (2.0.0)\n",
            "Requirement already satisfied: fsspec in c:\\python311\\lib\\site-packages (from huggingface-hub<1.0,>=0.11.0->transformers[torch]) (2023.4.0)\n",
            "Requirement already satisfied: typing-extensions>=3.7.4.3 in c:\\python311\\lib\\site-packages (from huggingface-hub<1.0,>=0.11.0->transformers[torch]) (4.5.0)\n",
            "Requirement already satisfied: sympy in c:\\python311\\lib\\site-packages (from torch!=1.12.0,>=1.9->transformers[torch]) (1.11.1)\n",
            "Requirement already satisfied: networkx in c:\\python311\\lib\\site-packages (from torch!=1.12.0,>=1.9->transformers[torch]) (3.1)\n",
            "Requirement already satisfied: jinja2 in c:\\users\\ahmed khattab\\appdata\\roaming\\python\\python311\\site-packages (from torch!=1.12.0,>=1.9->transformers[torch]) (3.1.2)\n",
            "Requirement already satisfied: colorama in c:\\python311\\lib\\site-packages (from tqdm>=4.27->transformers[torch]) (0.4.6)\n",
            "Requirement already satisfied: charset-normalizer<4,>=2 in c:\\python311\\lib\\site-packages (from requests->transformers[torch]) (2.0.12)\n",
            "Requirement already satisfied: idna<4,>=2.5 in c:\\python311\\lib\\site-packages (from requests->transformers[torch]) (2.10)\n",
            "Requirement already satisfied: urllib3<3,>=1.21.1 in c:\\python311\\lib\\site-packages (from requests->transformers[torch]) (1.26.15)\n",
            "Requirement already satisfied: certifi>=2017.4.17 in c:\\python311\\lib\\site-packages (from requests->transformers[torch]) (2022.12.7)\n",
            "Requirement already satisfied: MarkupSafe>=2.0 in c:\\users\\ahmed khattab\\appdata\\roaming\\python\\python311\\site-packages (from jinja2->torch!=1.12.0,>=1.9->transformers[torch]) (2.1.2)\n",
            "Requirement already satisfied: mpmath>=0.19 in c:\\python311\\lib\\site-packages (from sympy->torch!=1.12.0,>=1.9->transformers[torch]) (1.3.0)\n"
          ]
        }
      ],
      "source": [
        "!pip install transformers[torch]"
      ]
    },
    {
      "cell_type": "code",
      "execution_count": 29,
      "metadata": {
        "colab": {
          "base_uri": "https://localhost:8080/"
        },
        "id": "zgL29E7KG6aR",
        "outputId": "0bfd6be1-8751-4d4c-cb2b-56e16bbf9576"
      },
      "outputs": [
        {
          "name": "stdout",
          "output_type": "stream",
          "text": [
            "Requirement already satisfied: sentencepiece in c:\\python311\\lib\\site-packages (0.1.99)\n",
            "Note: you may need to restart the kernel to use updated packages.\n"
          ]
        }
      ],
      "source": [
        "pip install sentencepiece"
      ]
    },
    {
      "cell_type": "code",
      "execution_count": 187,
      "metadata": {},
      "outputs": [],
      "source": [
        "summarized_data = pd.read_csv('generated_summary.csv')"
      ]
    },
    {
      "cell_type": "code",
      "execution_count": 188,
      "metadata": {
        "colab": {
          "base_uri": "https://localhost:8080/",
          "height": 354
        },
        "id": "-k_EW-cdaYoj",
        "outputId": "654d1a6b-de01-49d9-e2e2-acab219b6bdd"
      },
      "outputs": [
        {
          "data": {
            "text/html": [
              "<div>\n",
              "<style scoped>\n",
              "    .dataframe tbody tr th:only-of-type {\n",
              "        vertical-align: middle;\n",
              "    }\n",
              "\n",
              "    .dataframe tbody tr th {\n",
              "        vertical-align: top;\n",
              "    }\n",
              "\n",
              "    .dataframe thead th {\n",
              "        text-align: right;\n",
              "    }\n",
              "</style>\n",
              "<table border=\"1\" class=\"dataframe\">\n",
              "  <thead>\n",
              "    <tr style=\"text-align: right;\">\n",
              "      <th></th>\n",
              "      <th>Unnamed: 0</th>\n",
              "      <th>translated_summary</th>\n",
              "      <th>translated_input</th>\n",
              "      <th>input_replacements</th>\n",
              "      <th>target_replacements</th>\n",
              "      <th>generated_summary</th>\n",
              "    </tr>\n",
              "  </thead>\n",
              "  <tbody>\n",
              "    <tr>\n",
              "      <th>0</th>\n",
              "      <td>0</td>\n",
              "      <td>The writer begins presenting the fourth book u...</td>\n",
              "      <td>Under the title “From Disaster to Challenge,” ...</td>\n",
              "      <td>{'Israel': 'Cynthia', 'the United Arab Republi...</td>\n",
              "      <td>{'Israel': 'Darius', 'Abdel Nasser': 'Shannon'...</td>\n",
              "      <td>The writer begins presenting the fourth book u...</td>\n",
              "    </tr>\n",
              "    <tr>\n",
              "      <th>1</th>\n",
              "      <td>1</td>\n",
              "      <td>The diplomats of the two countries did not rec...</td>\n",
              "      <td>The diplomats of these two countries did not r...</td>\n",
              "      <td>{'Allal al-Fassi': 'Paul', 'Morocco': 'Willie'...</td>\n",
              "      <td>{'Allal Al-Fassi': 'Lynn', 'Cairo': 'Ashley', ...</td>\n",
              "      <td>The diplomats of the two countries did not rec...</td>\n",
              "    </tr>\n",
              "    <tr>\n",
              "      <th>2</th>\n",
              "      <td>2</td>\n",
              "      <td>Jerry declared the French mandate over Jack in...</td>\n",
              "      <td>The Wilayat of Hannah was established after th...</td>\n",
              "      <td>{'Aleppo': 'Hannah', 'Henri Gouraud': 'Crystal...</td>\n",
              "      <td>{'Gouraud': 'Jerry', 'Syria': 'Jack', 'France'...</td>\n",
              "      <td>The Wi lay at of Raymond was established after...</td>\n",
              "    </tr>\n",
              "    <tr>\n",
              "      <th>3</th>\n",
              "      <td>3</td>\n",
              "      <td>Sandra is the mother of the country, and the l...</td>\n",
              "      <td>The Arab state of John is not any country and ...</td>\n",
              "      <td>{'Egypt': 'John', 'Morocco': 'Megan', 'Hosni M...</td>\n",
              "      <td>{'Egypt': 'Sandra', 'Hosni Mubarak': 'Joel', '...</td>\n",
              "      <td>Kin an a is the mother of the country, and the...</td>\n",
              "    </tr>\n",
              "    <tr>\n",
              "      <th>4</th>\n",
              "      <td>4</td>\n",
              "      <td>The Syrian people insist on the independence o...</td>\n",
              "      <td>The Syrians insist on the independence of thei...</td>\n",
              "      <td>{'Sultan Pasha al-Atrash': 'Richard', 'Jabal a...</td>\n",
              "      <td>{'Syria': 'Lisa'}</td>\n",
              "      <td>The Syrian people insist on the independence o...</td>\n",
              "    </tr>\n",
              "  </tbody>\n",
              "</table>\n",
              "</div>"
            ],
            "text/plain": [
              "   Unnamed: 0                                 translated_summary   \n",
              "0           0  The writer begins presenting the fourth book u...  \\\n",
              "1           1  The diplomats of the two countries did not rec...   \n",
              "2           2  Jerry declared the French mandate over Jack in...   \n",
              "3           3  Sandra is the mother of the country, and the l...   \n",
              "4           4  The Syrian people insist on the independence o...   \n",
              "\n",
              "                                    translated_input   \n",
              "0  Under the title “From Disaster to Challenge,” ...  \\\n",
              "1  The diplomats of these two countries did not r...   \n",
              "2  The Wilayat of Hannah was established after th...   \n",
              "3  The Arab state of John is not any country and ...   \n",
              "4  The Syrians insist on the independence of thei...   \n",
              "\n",
              "                                  input_replacements   \n",
              "0  {'Israel': 'Cynthia', 'the United Arab Republi...  \\\n",
              "1  {'Allal al-Fassi': 'Paul', 'Morocco': 'Willie'...   \n",
              "2  {'Aleppo': 'Hannah', 'Henri Gouraud': 'Crystal...   \n",
              "3  {'Egypt': 'John', 'Morocco': 'Megan', 'Hosni M...   \n",
              "4  {'Sultan Pasha al-Atrash': 'Richard', 'Jabal a...   \n",
              "\n",
              "                                 target_replacements   \n",
              "0  {'Israel': 'Darius', 'Abdel Nasser': 'Shannon'...  \\\n",
              "1  {'Allal Al-Fassi': 'Lynn', 'Cairo': 'Ashley', ...   \n",
              "2  {'Gouraud': 'Jerry', 'Syria': 'Jack', 'France'...   \n",
              "3  {'Egypt': 'Sandra', 'Hosni Mubarak': 'Joel', '...   \n",
              "4                                  {'Syria': 'Lisa'}   \n",
              "\n",
              "                                   generated_summary  \n",
              "0  The writer begins presenting the fourth book u...  \n",
              "1  The diplomats of the two countries did not rec...  \n",
              "2  The Wi lay at of Raymond was established after...  \n",
              "3  Kin an a is the mother of the country, and the...  \n",
              "4  The Syrian people insist on the independence o...  "
            ]
          },
          "execution_count": 188,
          "metadata": {},
          "output_type": "execute_result"
        }
      ],
      "source": [
        "summarized_data.head()"
      ]
    },
    {
      "cell_type": "code",
      "execution_count": 20,
      "metadata": {
        "id": "FzjP3HRT33gd"
      },
      "outputs": [],
      "source": [
        "# Define your custom dataset\n",
        "class CustomDataset(Dataset):\n",
        "    def __init__(self, tokenizer, data):\n",
        "        self.tokenizer = tokenizer\n",
        "        self.data = data\n",
        "\n",
        "    def __len__(self):\n",
        "        return len(self.data)\n",
        "\n",
        "    def __getitem__(self, index):\n",
        "        input_text = str(self.data.loc[index, \"translated_input\"])\n",
        "        target_text = str(self.data.loc[index, \"translated_summary\"])\n",
        "\n",
        "        encoding = self.tokenizer.prepare_seq2seq_batch(\n",
        "            src_texts=[input_text],\n",
        "            tgt_texts=[target_text],\n",
        "            max_length=512,\n",
        "            padding=\"max_length\",\n",
        "            truncation=True,\n",
        "            return_tensors=\"pt\"\n",
        "        )\n",
        "\n",
        "        return {\n",
        "            \"input_ids\": encoding.input_ids.squeeze(),\n",
        "            \"attention_mask\": encoding.attention_mask.squeeze(),\n",
        "            \"labels\": encoding.labels.squeeze()\n",
        "        }"
      ]
    },
    {
      "cell_type": "code",
      "execution_count": 21,
      "metadata": {
        "colab": {
          "base_uri": "https://localhost:8080/",
          "height": 269,
          "referenced_widgets": [
            "31f89762ed81463988bc268b32746684",
            "6bb4d212a6b148cd9eee1a88403fb975",
            "ea3252dcbba248d4aec44b6495379542",
            "c922339c5b3840beaaeec469a254942d",
            "e68acd29fd5541289f1a6d309986cd0a",
            "ac9a808ba0b141c19b89d64cc6e84a91",
            "0e9ce63276ea4aa4926c8ae2bc3203ba",
            "d349a5041399451a8188f237a4424a20",
            "79e1aebcca5847c8b09ae7ec86375fc6",
            "481e5fd1cf144cb69b6202f7466a7ea2",
            "5ce25563fac1441da57e7c85e8ee47af",
            "92272f3babfd4a61ac4982ba1f26cd70",
            "d04da43afe1e495ba9382db36d8e9800",
            "ac09b7471363477ca6611905e20e76d7",
            "86b8eaa215a7481091e3229965bc66a8",
            "f9c96d0d6d3d4ca49b7f15990e512737",
            "71fbe8e730834ea0bfb60d95cf3d4483",
            "23c19491f4d047ff8a14a5b99feaed51",
            "74436fbe705041b385abcbd8879516ce",
            "e0edd6e64c7e488d86c2d4065ae5e1df",
            "fbcdc4ba2f2848979b8bf551f6085b0c",
            "f92b61d4e05a487baf4e117678c16769",
            "8dc115b03e654f458385c19003f5b108",
            "35475178960743a9ab038edcc78a6089",
            "dc1316b044bb4b7892285ef05d7e80b6",
            "9dc072ec186d4c24902e6ecd26b141fd",
            "6e0d6161a6db4481b706f96142d7a1ac",
            "4caefed19ac9448e858f0d18c51e2781",
            "862519dadede45e3a48a9e02ccd88bf0",
            "33fedaee1ee5409f87f43b937a7865f9",
            "542313366df442e5b13091a67f9bbfb9",
            "6bf9aba3d26d4b0bb37b5c001a64df7d",
            "ba97471542ac43168a40048b8ddec860",
            "696ff2f95eb04f8f9047f9bfced986e8",
            "316d2579a8604c59ac1e372f64302720",
            "a26acc0ef5a1493580b19de565e8efde",
            "3c18caaf58b24f53af0a1f9b2cb36b48",
            "d9877fcd42644b85b2133e2ce1ddac1c",
            "5c4f6d6768794c2c932e96afaf732b3c",
            "485add4cdf1d4dc4942d045985ce8d00",
            "8f750ab52bd34c99baa5b97652056727",
            "6e114820eb2b4b00bcf0254589eaa1f6",
            "3baadf1458114bc5a3019c62d3965f89",
            "4dec023c37af48e9865db96e8083efcf"
          ]
        },
        "id": "n2ap8pjU39k3",
        "outputId": "ecd80c94-b896-4e06-d454-ae6596c081f7"
      },
      "outputs": [
        {
          "name": "stderr",
          "output_type": "stream",
          "text": [
            "C:\\Users\\ahmed khattab\\AppData\\Roaming\\Python\\Python311\\site-packages\\transformers\\models\\t5\\tokenization_t5.py:163: FutureWarning: This tokenizer was incorrectly instantiated with a model max length of 512 which will be corrected in Transformers v5.\n",
            "For now, this behavior is kept to avoid breaking backwards compatibility when padding/encoding with `truncation is True`.\n",
            "- Be aware that you SHOULD NOT rely on t5-base automatically truncating your input to 512 when padding/encoding.\n",
            "- If you want to encode/pad to sequences longer than 512 you can either instantiate this tokenizer with `model_max_length` or pass `max_length` when encoding/padding.\n",
            "- To avoid this warning, please instantiate this tokenizer with `model_max_length` set to your preferred value.\n",
            "  warnings.warn(\n"
          ]
        }
      ],
      "source": [
        "# Initialize the T5 tokenizer and model\n",
        "\n",
        "tokenizer = T5Tokenizer.from_pretrained(\"t5-base\")\n",
        "model = T5ForConditionalGeneration.from_pretrained(\"t5-base\")\n"
      ]
    },
    {
      "cell_type": "code",
      "execution_count": 33,
      "metadata": {
        "colab": {
          "base_uri": "https://localhost:8080/",
          "height": 1000
        },
        "id": "fzmEaRVIh_uy",
        "outputId": "bc33312d-5d2a-47a3-d5ef-8185d9629717"
      },
      "outputs": [
        {
          "name": "stderr",
          "output_type": "stream",
          "text": [
            "/usr/local/lib/python3.10/dist-packages/transformers/optimization.py:411: FutureWarning: This implementation of AdamW is deprecated and will be removed in a future version. Use the PyTorch implementation torch.optim.AdamW instead, or set `no_deprecation_warning=True` to disable this warning\n",
            "  warnings.warn(\n",
            "/usr/local/lib/python3.10/dist-packages/transformers/tokenization_utils_base.py:3745: FutureWarning: \n",
            "`prepare_seq2seq_batch` is deprecated and will be removed in version 5 of HuggingFace Transformers. Use the regular\n",
            "`__call__` method to prepare your inputs and targets.\n",
            "\n",
            "Here is a short example:\n",
            "\n",
            "model_inputs = tokenizer(src_texts, text_target=tgt_texts, ...)\n",
            "\n",
            "If you either need to use different keyword arguments for the source and target texts, you should do two calls like\n",
            "this:\n",
            "\n",
            "model_inputs = tokenizer(src_texts, ...)\n",
            "labels = tokenizer(text_target=tgt_texts, ...)\n",
            "model_inputs[\"labels\"] = labels[\"input_ids\"]\n",
            "\n",
            "See the documentation of your specific tokenizer for more details on the specific arguments to the tokenizer of choice.\n",
            "For a more complete example, see the implementation of `prepare_seq2seq_batch`.\n",
            "\n",
            "  warnings.warn(formatted_warning, FutureWarning)\n",
            "/usr/local/lib/python3.10/dist-packages/transformers/tokenization_utils_base.py:3619: UserWarning: `as_target_tokenizer` is deprecated and will be removed in v5 of Transformers. You can tokenize your labels by using the argument `text_target` of the regular `__call__` method (either in the same call as your input texts if you use the same keyword arguments, or in a separate call.\n",
            "  warnings.warn(\n"
          ]
        },
        {
          "data": {
            "text/html": [
              "\n",
              "    <div>\n",
              "      \n",
              "      <progress value='3900' max='3900' style='width:300px; height:20px; vertical-align: middle;'></progress>\n",
              "      [3900/3900 1:17:41, Epoch 100/100]\n",
              "    </div>\n",
              "    <table border=\"1\" class=\"dataframe\">\n",
              "  <thead>\n",
              " <tr style=\"text-align: left;\">\n",
              "      <th>Step</th>\n",
              "      <th>Training Loss</th>\n",
              "    </tr>\n",
              "  </thead>\n",
              "  <tbody>\n",
              "    <tr>\n",
              "      <td>100</td>\n",
              "      <td>6.378200</td>\n",
              "    </tr>\n",
              "    <tr>\n",
              "      <td>200</td>\n",
              "      <td>0.817600</td>\n",
              "    </tr>\n",
              "    <tr>\n",
              "      <td>300</td>\n",
              "      <td>0.647600</td>\n",
              "    </tr>\n",
              "    <tr>\n",
              "      <td>400</td>\n",
              "      <td>0.591000</td>\n",
              "    </tr>\n",
              "    <tr>\n",
              "      <td>500</td>\n",
              "      <td>0.512800</td>\n",
              "    </tr>\n",
              "    <tr>\n",
              "      <td>600</td>\n",
              "      <td>0.470200</td>\n",
              "    </tr>\n",
              "    <tr>\n",
              "      <td>700</td>\n",
              "      <td>0.424000</td>\n",
              "    </tr>\n",
              "    <tr>\n",
              "      <td>800</td>\n",
              "      <td>0.378300</td>\n",
              "    </tr>\n",
              "    <tr>\n",
              "      <td>900</td>\n",
              "      <td>0.348900</td>\n",
              "    </tr>\n",
              "    <tr>\n",
              "      <td>1000</td>\n",
              "      <td>0.310200</td>\n",
              "    </tr>\n",
              "    <tr>\n",
              "      <td>1100</td>\n",
              "      <td>0.289600</td>\n",
              "    </tr>\n",
              "    <tr>\n",
              "      <td>1200</td>\n",
              "      <td>0.260700</td>\n",
              "    </tr>\n",
              "    <tr>\n",
              "      <td>1300</td>\n",
              "      <td>0.240100</td>\n",
              "    </tr>\n",
              "    <tr>\n",
              "      <td>1400</td>\n",
              "      <td>0.218400</td>\n",
              "    </tr>\n",
              "    <tr>\n",
              "      <td>1500</td>\n",
              "      <td>0.201500</td>\n",
              "    </tr>\n",
              "    <tr>\n",
              "      <td>1600</td>\n",
              "      <td>0.185300</td>\n",
              "    </tr>\n",
              "    <tr>\n",
              "      <td>1700</td>\n",
              "      <td>0.171500</td>\n",
              "    </tr>\n",
              "    <tr>\n",
              "      <td>1800</td>\n",
              "      <td>0.158400</td>\n",
              "    </tr>\n",
              "    <tr>\n",
              "      <td>1900</td>\n",
              "      <td>0.149900</td>\n",
              "    </tr>\n",
              "    <tr>\n",
              "      <td>2000</td>\n",
              "      <td>0.137600</td>\n",
              "    </tr>\n",
              "    <tr>\n",
              "      <td>2100</td>\n",
              "      <td>0.132200</td>\n",
              "    </tr>\n",
              "    <tr>\n",
              "      <td>2200</td>\n",
              "      <td>0.123500</td>\n",
              "    </tr>\n",
              "    <tr>\n",
              "      <td>2300</td>\n",
              "      <td>0.115700</td>\n",
              "    </tr>\n",
              "    <tr>\n",
              "      <td>2400</td>\n",
              "      <td>0.108300</td>\n",
              "    </tr>\n",
              "    <tr>\n",
              "      <td>2500</td>\n",
              "      <td>0.104900</td>\n",
              "    </tr>\n",
              "    <tr>\n",
              "      <td>2600</td>\n",
              "      <td>0.098800</td>\n",
              "    </tr>\n",
              "    <tr>\n",
              "      <td>2700</td>\n",
              "      <td>0.094100</td>\n",
              "    </tr>\n",
              "    <tr>\n",
              "      <td>2800</td>\n",
              "      <td>0.090900</td>\n",
              "    </tr>\n",
              "    <tr>\n",
              "      <td>2900</td>\n",
              "      <td>0.085000</td>\n",
              "    </tr>\n",
              "    <tr>\n",
              "      <td>3000</td>\n",
              "      <td>0.084000</td>\n",
              "    </tr>\n",
              "    <tr>\n",
              "      <td>3100</td>\n",
              "      <td>0.079700</td>\n",
              "    </tr>\n",
              "    <tr>\n",
              "      <td>3200</td>\n",
              "      <td>0.076900</td>\n",
              "    </tr>\n",
              "    <tr>\n",
              "      <td>3300</td>\n",
              "      <td>0.075200</td>\n",
              "    </tr>\n",
              "    <tr>\n",
              "      <td>3400</td>\n",
              "      <td>0.073400</td>\n",
              "    </tr>\n",
              "    <tr>\n",
              "      <td>3500</td>\n",
              "      <td>0.073000</td>\n",
              "    </tr>\n",
              "    <tr>\n",
              "      <td>3600</td>\n",
              "      <td>0.070600</td>\n",
              "    </tr>\n",
              "    <tr>\n",
              "      <td>3700</td>\n",
              "      <td>0.071100</td>\n",
              "    </tr>\n",
              "    <tr>\n",
              "      <td>3800</td>\n",
              "      <td>0.068500</td>\n",
              "    </tr>\n",
              "    <tr>\n",
              "      <td>3900</td>\n",
              "      <td>0.069300</td>\n",
              "    </tr>\n",
              "  </tbody>\n",
              "</table><p>"
            ],
            "text/plain": [
              "<IPython.core.display.HTML object>"
            ]
          },
          "metadata": {},
          "output_type": "display_data"
        },
        {
          "name": "stderr",
          "output_type": "stream",
          "text": [
            "/usr/local/lib/python3.10/dist-packages/transformers/tokenization_utils_base.py:3745: FutureWarning: \n",
            "`prepare_seq2seq_batch` is deprecated and will be removed in version 5 of HuggingFace Transformers. Use the regular\n",
            "`__call__` method to prepare your inputs and targets.\n",
            "\n",
            "Here is a short example:\n",
            "\n",
            "model_inputs = tokenizer(src_texts, text_target=tgt_texts, ...)\n",
            "\n",
            "If you either need to use different keyword arguments for the source and target texts, you should do two calls like\n",
            "this:\n",
            "\n",
            "model_inputs = tokenizer(src_texts, ...)\n",
            "labels = tokenizer(text_target=tgt_texts, ...)\n",
            "model_inputs[\"labels\"] = labels[\"input_ids\"]\n",
            "\n",
            "See the documentation of your specific tokenizer for more details on the specific arguments to the tokenizer of choice.\n",
            "For a more complete example, see the implementation of `prepare_seq2seq_batch`.\n",
            "\n",
            "  warnings.warn(formatted_warning, FutureWarning)\n",
            "/usr/local/lib/python3.10/dist-packages/transformers/tokenization_utils_base.py:3619: UserWarning: `as_target_tokenizer` is deprecated and will be removed in v5 of Transformers. You can tokenize your labels by using the argument `text_target` of the regular `__call__` method (either in the same call as your input texts if you use the same keyword arguments, or in a separate call.\n",
            "  warnings.warn(\n",
            "/usr/local/lib/python3.10/dist-packages/transformers/tokenization_utils_base.py:3745: FutureWarning: \n",
            "`prepare_seq2seq_batch` is deprecated and will be removed in version 5 of HuggingFace Transformers. Use the regular\n",
            "`__call__` method to prepare your inputs and targets.\n",
            "\n",
            "Here is a short example:\n",
            "\n",
            "model_inputs = tokenizer(src_texts, text_target=tgt_texts, ...)\n",
            "\n",
            "If you either need to use different keyword arguments for the source and target texts, you should do two calls like\n",
            "this:\n",
            "\n",
            "model_inputs = tokenizer(src_texts, ...)\n",
            "labels = tokenizer(text_target=tgt_texts, ...)\n",
            "model_inputs[\"labels\"] = labels[\"input_ids\"]\n",
            "\n",
            "See the documentation of your specific tokenizer for more details on the specific arguments to the tokenizer of choice.\n",
            "For a more complete example, see the implementation of `prepare_seq2seq_batch`.\n",
            "\n",
            "  warnings.warn(formatted_warning, FutureWarning)\n",
            "/usr/local/lib/python3.10/dist-packages/transformers/tokenization_utils_base.py:3619: UserWarning: `as_target_tokenizer` is deprecated and will be removed in v5 of Transformers. You can tokenize your labels by using the argument `text_target` of the regular `__call__` method (either in the same call as your input texts if you use the same keyword arguments, or in a separate call.\n",
            "  warnings.warn(\n",
            "/usr/local/lib/python3.10/dist-packages/transformers/tokenization_utils_base.py:3745: FutureWarning: \n",
            "`prepare_seq2seq_batch` is deprecated and will be removed in version 5 of HuggingFace Transformers. Use the regular\n",
            "`__call__` method to prepare your inputs and targets.\n",
            "\n",
            "Here is a short example:\n",
            "\n",
            "model_inputs = tokenizer(src_texts, text_target=tgt_texts, ...)\n",
            "\n",
            "If you either need to use different keyword arguments for the source and target texts, you should do two calls like\n",
            "this:\n",
            "\n",
            "model_inputs = tokenizer(src_texts, ...)\n",
            "labels = tokenizer(text_target=tgt_texts, ...)\n",
            "model_inputs[\"labels\"] = labels[\"input_ids\"]\n",
            "\n",
            "See the documentation of your specific tokenizer for more details on the specific arguments to the tokenizer of choice.\n",
            "For a more complete example, see the implementation of `prepare_seq2seq_batch`.\n",
            "\n",
            "  warnings.warn(formatted_warning, FutureWarning)\n",
            "/usr/local/lib/python3.10/dist-packages/transformers/tokenization_utils_base.py:3619: UserWarning: `as_target_tokenizer` is deprecated and will be removed in v5 of Transformers. You can tokenize your labels by using the argument `text_target` of the regular `__call__` method (either in the same call as your input texts if you use the same keyword arguments, or in a separate call.\n",
            "  warnings.warn(\n",
            "/usr/local/lib/python3.10/dist-packages/transformers/tokenization_utils_base.py:3745: FutureWarning: \n",
            "`prepare_seq2seq_batch` is deprecated and will be removed in version 5 of HuggingFace Transformers. Use the regular\n",
            "`__call__` method to prepare your inputs and targets.\n",
            "\n",
            "Here is a short example:\n",
            "\n",
            "model_inputs = tokenizer(src_texts, text_target=tgt_texts, ...)\n",
            "\n",
            "If you either need to use different keyword arguments for the source and target texts, you should do two calls like\n",
            "this:\n",
            "\n",
            "model_inputs = tokenizer(src_texts, ...)\n",
            "labels = tokenizer(text_target=tgt_texts, ...)\n",
            "model_inputs[\"labels\"] = labels[\"input_ids\"]\n",
            "\n",
            "See the documentation of your specific tokenizer for more details on the specific arguments to the tokenizer of choice.\n",
            "For a more complete example, see the implementation of `prepare_seq2seq_batch`.\n",
            "\n",
            "  warnings.warn(formatted_warning, FutureWarning)\n",
            "/usr/local/lib/python3.10/dist-packages/transformers/tokenization_utils_base.py:3619: UserWarning: `as_target_tokenizer` is deprecated and will be removed in v5 of Transformers. You can tokenize your labels by using the argument `text_target` of the regular `__call__` method (either in the same call as your input texts if you use the same keyword arguments, or in a separate call.\n",
            "  warnings.warn(\n",
            "/usr/local/lib/python3.10/dist-packages/transformers/tokenization_utils_base.py:3745: FutureWarning: \n",
            "`prepare_seq2seq_batch` is deprecated and will be removed in version 5 of HuggingFace Transformers. Use the regular\n",
            "`__call__` method to prepare your inputs and targets.\n",
            "\n",
            "Here is a short example:\n",
            "\n",
            "model_inputs = tokenizer(src_texts, text_target=tgt_texts, ...)\n",
            "\n",
            "If you either need to use different keyword arguments for the source and target texts, you should do two calls like\n",
            "this:\n",
            "\n",
            "model_inputs = tokenizer(src_texts, ...)\n",
            "labels = tokenizer(text_target=tgt_texts, ...)\n",
            "model_inputs[\"labels\"] = labels[\"input_ids\"]\n",
            "\n",
            "See the documentation of your specific tokenizer for more details on the specific arguments to the tokenizer of choice.\n",
            "For a more complete example, see the implementation of `prepare_seq2seq_batch`.\n",
            "\n",
            "  warnings.warn(formatted_warning, FutureWarning)\n",
            "/usr/local/lib/python3.10/dist-packages/transformers/tokenization_utils_base.py:3619: UserWarning: `as_target_tokenizer` is deprecated and will be removed in v5 of Transformers. You can tokenize your labels by using the argument `text_target` of the regular `__call__` method (either in the same call as your input texts if you use the same keyword arguments, or in a separate call.\n",
            "  warnings.warn(\n",
            "/usr/local/lib/python3.10/dist-packages/transformers/tokenization_utils_base.py:3745: FutureWarning: \n",
            "`prepare_seq2seq_batch` is deprecated and will be removed in version 5 of HuggingFace Transformers. Use the regular\n",
            "`__call__` method to prepare your inputs and targets.\n",
            "\n",
            "Here is a short example:\n",
            "\n",
            "model_inputs = tokenizer(src_texts, text_target=tgt_texts, ...)\n",
            "\n",
            "If you either need to use different keyword arguments for the source and target texts, you should do two calls like\n",
            "this:\n",
            "\n",
            "model_inputs = tokenizer(src_texts, ...)\n",
            "labels = tokenizer(text_target=tgt_texts, ...)\n",
            "model_inputs[\"labels\"] = labels[\"input_ids\"]\n",
            "\n",
            "See the documentation of your specific tokenizer for more details on the specific arguments to the tokenizer of choice.\n",
            "For a more complete example, see the implementation of `prepare_seq2seq_batch`.\n",
            "\n",
            "  warnings.warn(formatted_warning, FutureWarning)\n",
            "/usr/local/lib/python3.10/dist-packages/transformers/tokenization_utils_base.py:3619: UserWarning: `as_target_tokenizer` is deprecated and will be removed in v5 of Transformers. You can tokenize your labels by using the argument `text_target` of the regular `__call__` method (either in the same call as your input texts if you use the same keyword arguments, or in a separate call.\n",
            "  warnings.warn(\n",
            "/usr/local/lib/python3.10/dist-packages/transformers/tokenization_utils_base.py:3745: FutureWarning: \n",
            "`prepare_seq2seq_batch` is deprecated and will be removed in version 5 of HuggingFace Transformers. Use the regular\n",
            "`__call__` method to prepare your inputs and targets.\n",
            "\n",
            "Here is a short example:\n",
            "\n",
            "model_inputs = tokenizer(src_texts, text_target=tgt_texts, ...)\n",
            "\n",
            "If you either need to use different keyword arguments for the source and target texts, you should do two calls like\n",
            "this:\n",
            "\n",
            "model_inputs = tokenizer(src_texts, ...)\n",
            "labels = tokenizer(text_target=tgt_texts, ...)\n",
            "model_inputs[\"labels\"] = labels[\"input_ids\"]\n",
            "\n",
            "See the documentation of your specific tokenizer for more details on the specific arguments to the tokenizer of choice.\n",
            "For a more complete example, see the implementation of `prepare_seq2seq_batch`.\n",
            "\n",
            "  warnings.warn(formatted_warning, FutureWarning)\n",
            "/usr/local/lib/python3.10/dist-packages/transformers/tokenization_utils_base.py:3619: UserWarning: `as_target_tokenizer` is deprecated and will be removed in v5 of Transformers. You can tokenize your labels by using the argument `text_target` of the regular `__call__` method (either in the same call as your input texts if you use the same keyword arguments, or in a separate call.\n",
            "  warnings.warn(\n"
          ]
        },
        {
          "data": {
            "text/plain": [
              "('model_summary_arabic/tokenizer_config.json',\n",
              " 'model_summary_arabic/special_tokens_map.json',\n",
              " 'model_summary_arabic/spiece.model',\n",
              " 'model_summary_arabic/added_tokens.json')"
            ]
          },
          "execution_count": 33,
          "metadata": {},
          "output_type": "execute_result"
        }
      ],
      "source": [
        "# Create your training dataset\n",
        "train_dataset = CustomDataset(tokenizer, modified_df)\n",
        "\n",
        "# Set up the training arguments\n",
        "training_args = TrainingArguments(\n",
        "    output_dir=\"./\",\n",
        "    num_train_epochs=100,\n",
        "    per_device_train_batch_size=4,\n",
        "    per_device_eval_batch_size=9,\n",
        "    warmup_steps=200,\n",
        "    weight_decay=0.01,\n",
        "    logging_dir=\"./logs\",\n",
        "    logging_steps=100,\n",
        "\n",
        ")\n",
        "\n",
        "# Initialize the trainer\n",
        "trainer = Trainer(\n",
        "    model=model,\n",
        "    args=training_args,\n",
        "    train_dataset=train_dataset,\n",
        "    data_collator=None\n",
        ")\n",
        "\n",
        "# Start training\n",
        "trainer.train()\n",
        "\n",
        "# Save the trained model\n",
        "output_dir = \"model_summary_arabic\"\n",
        "model.save_pretrained(output_dir)\n",
        "tokenizer.save_pretrained(output_dir)\n"
      ]
    },
    {
      "cell_type": "markdown",
      "metadata": {
        "id": "vUr7koeSLVHg"
      },
      "source": [
        "# Step 5: Load the model for inference (Predict)"
      ]
    },
    {
      "cell_type": "code",
      "execution_count": 36,
      "metadata": {
        "colab": {
          "base_uri": "https://localhost:8080/"
        },
        "id": "d5faNmI0Lzmu",
        "outputId": "67f5377d-503b-4aa6-87c4-babe62b50286"
      },
      "outputs": [
        {
          "name": "stdout",
          "output_type": "stream",
          "text": [
            "1 1 1 1 1 1 1 1 1 1 1 1 1 1 1 1 1 1 1 1 1 1 1 1 1 1 1 1 1 1 1 1 1 1 1 1 1 1 1 1 1 1 1 1 1 1 1 1 1 1 1 1 1 1 1 1 1 1 1 1 1 1 1 1 1 1 1 1 1 1 1 1 1 1 1 1 1 1 1 1 1 1 1 1 1 1 1 1 1 1 1 1 1 1 1 1 1 1 1 1 1 1 1 1 1 1 1 1 1 1 1 1 1 1 "
          ]
        },
        {
          "name": "stderr",
          "output_type": "stream",
          "text": [
            "Token indices sequence length is longer than the specified maximum sequence length for this model (528 > 512). Running this sequence through the model will result in indexing errors\n"
          ]
        },
        {
          "name": "stdout",
          "output_type": "stream",
          "text": [
            "1 1 1 1 1 1 1 1 1 1 1 1 1 1 1 1 1 1 1 1 "
          ]
        }
      ],
      "source": [
        "# Set the model to evaluation mode\n",
        "eval = model.eval()\n",
        "\n",
        "# Input text\n",
        "input_text = modified_df['translated_input']\n",
        "\n",
        "# Function to generate summaries\n",
        "def generate_summary(text):\n",
        "    i = 0\n",
        "    max_chunk_length = 400  # Maximum length for each chunk\n",
        "    # Tokenize and chunk the input text\n",
        "    input_tokens = tokenizer.tokenize(text)\n",
        "    chunked_input = []\n",
        "    current_chunk = []\n",
        "    for token in input_tokens:\n",
        "        current_chunk.append(token)\n",
        "        if len(current_chunk) >= max_chunk_length:\n",
        "            chunked_input.append(\" \".join(current_chunk))\n",
        "            i+=1\n",
        "            print(i,end = ' ')\n",
        "            current_chunk = []\n",
        "    if current_chunk:\n",
        "        chunked_input.append(\" \".join(current_chunk))\n",
        "\n",
        "    # Generate summaries for each chunk\n",
        "    summaries = []\n",
        "    for chunk in chunked_input:\n",
        "        input_ids = tokenizer.encode(chunk, return_tensors=\"pt\")\n",
        "        input_ids = input_ids.to(model.device)  # Convert input_ids to tensor and move it to the correct device\n",
        "        output = model.generate(input_ids, max_length=300, num_beams=4, early_stopping=True)\n",
        "        summary = tokenizer.decode(output[0], skip_special_tokens=True)\n",
        "        summaries.append(summary)\n",
        "\n",
        "    # Combine the generated summaries\n",
        "    combined_summary = \" \".join(summaries)\n",
        "    return combined_summary\n",
        "\n",
        "# Generate column \"generate summary\" in the DataFrame\n",
        "modified_df['generated_summary'] = modified_df['translated_input'].apply(generate_summary)\n",
        "\n",
        "reviews.head()"
      ]
    },
    {
      "cell_type": "code",
      "execution_count": 189,
      "metadata": {
        "colab": {
          "base_uri": "https://localhost:8080/",
          "height": 423
        },
        "id": "2wbSS2SfI9_X",
        "outputId": "6fccf707-3a84-48ec-886a-e542dadda9a4"
      },
      "outputs": [
        {
          "data": {
            "text/html": [
              "<div>\n",
              "<style scoped>\n",
              "    .dataframe tbody tr th:only-of-type {\n",
              "        vertical-align: middle;\n",
              "    }\n",
              "\n",
              "    .dataframe tbody tr th {\n",
              "        vertical-align: top;\n",
              "    }\n",
              "\n",
              "    .dataframe thead th {\n",
              "        text-align: right;\n",
              "    }\n",
              "</style>\n",
              "<table border=\"1\" class=\"dataframe\">\n",
              "  <thead>\n",
              "    <tr style=\"text-align: right;\">\n",
              "      <th></th>\n",
              "      <th>Unnamed: 0</th>\n",
              "      <th>translated_summary</th>\n",
              "      <th>translated_input</th>\n",
              "      <th>input_replacements</th>\n",
              "      <th>target_replacements</th>\n",
              "      <th>generated_summary</th>\n",
              "    </tr>\n",
              "  </thead>\n",
              "  <tbody>\n",
              "    <tr>\n",
              "      <th>0</th>\n",
              "      <td>0</td>\n",
              "      <td>The writer begins presenting the fourth book u...</td>\n",
              "      <td>Under the title “From Disaster to Challenge,” ...</td>\n",
              "      <td>{'Israel': 'Cynthia', 'the United Arab Republi...</td>\n",
              "      <td>{'Israel': 'Darius', 'Abdel Nasser': 'Shannon'...</td>\n",
              "      <td>The writer begins presenting the fourth book u...</td>\n",
              "    </tr>\n",
              "    <tr>\n",
              "      <th>1</th>\n",
              "      <td>1</td>\n",
              "      <td>The diplomats of the two countries did not rec...</td>\n",
              "      <td>The diplomats of these two countries did not r...</td>\n",
              "      <td>{'Allal al-Fassi': 'Paul', 'Morocco': 'Willie'...</td>\n",
              "      <td>{'Allal Al-Fassi': 'Lynn', 'Cairo': 'Ashley', ...</td>\n",
              "      <td>The diplomats of the two countries did not rec...</td>\n",
              "    </tr>\n",
              "    <tr>\n",
              "      <th>2</th>\n",
              "      <td>2</td>\n",
              "      <td>Jerry declared the French mandate over Jack in...</td>\n",
              "      <td>The Wilayat of Hannah was established after th...</td>\n",
              "      <td>{'Aleppo': 'Hannah', 'Henri Gouraud': 'Crystal...</td>\n",
              "      <td>{'Gouraud': 'Jerry', 'Syria': 'Jack', 'France'...</td>\n",
              "      <td>The Wi lay at of Raymond was established after...</td>\n",
              "    </tr>\n",
              "    <tr>\n",
              "      <th>3</th>\n",
              "      <td>3</td>\n",
              "      <td>Sandra is the mother of the country, and the l...</td>\n",
              "      <td>The Arab state of John is not any country and ...</td>\n",
              "      <td>{'Egypt': 'John', 'Morocco': 'Megan', 'Hosni M...</td>\n",
              "      <td>{'Egypt': 'Sandra', 'Hosni Mubarak': 'Joel', '...</td>\n",
              "      <td>Kin an a is the mother of the country, and the...</td>\n",
              "    </tr>\n",
              "    <tr>\n",
              "      <th>4</th>\n",
              "      <td>4</td>\n",
              "      <td>The Syrian people insist on the independence o...</td>\n",
              "      <td>The Syrians insist on the independence of thei...</td>\n",
              "      <td>{'Sultan Pasha al-Atrash': 'Richard', 'Jabal a...</td>\n",
              "      <td>{'Syria': 'Lisa'}</td>\n",
              "      <td>The Syrian people insist on the independence o...</td>\n",
              "    </tr>\n",
              "  </tbody>\n",
              "</table>\n",
              "</div>"
            ],
            "text/plain": [
              "   Unnamed: 0                                 translated_summary   \n",
              "0           0  The writer begins presenting the fourth book u...  \\\n",
              "1           1  The diplomats of the two countries did not rec...   \n",
              "2           2  Jerry declared the French mandate over Jack in...   \n",
              "3           3  Sandra is the mother of the country, and the l...   \n",
              "4           4  The Syrian people insist on the independence o...   \n",
              "\n",
              "                                    translated_input   \n",
              "0  Under the title “From Disaster to Challenge,” ...  \\\n",
              "1  The diplomats of these two countries did not r...   \n",
              "2  The Wilayat of Hannah was established after th...   \n",
              "3  The Arab state of John is not any country and ...   \n",
              "4  The Syrians insist on the independence of thei...   \n",
              "\n",
              "                                  input_replacements   \n",
              "0  {'Israel': 'Cynthia', 'the United Arab Republi...  \\\n",
              "1  {'Allal al-Fassi': 'Paul', 'Morocco': 'Willie'...   \n",
              "2  {'Aleppo': 'Hannah', 'Henri Gouraud': 'Crystal...   \n",
              "3  {'Egypt': 'John', 'Morocco': 'Megan', 'Hosni M...   \n",
              "4  {'Sultan Pasha al-Atrash': 'Richard', 'Jabal a...   \n",
              "\n",
              "                                 target_replacements   \n",
              "0  {'Israel': 'Darius', 'Abdel Nasser': 'Shannon'...  \\\n",
              "1  {'Allal Al-Fassi': 'Lynn', 'Cairo': 'Ashley', ...   \n",
              "2  {'Gouraud': 'Jerry', 'Syria': 'Jack', 'France'...   \n",
              "3  {'Egypt': 'Sandra', 'Hosni Mubarak': 'Joel', '...   \n",
              "4                                  {'Syria': 'Lisa'}   \n",
              "\n",
              "                                   generated_summary  \n",
              "0  The writer begins presenting the fourth book u...  \n",
              "1  The diplomats of the two countries did not rec...  \n",
              "2  The Wi lay at of Raymond was established after...  \n",
              "3  Kin an a is the mother of the country, and the...  \n",
              "4  The Syrian people insist on the independence o...  "
            ]
          },
          "execution_count": 189,
          "metadata": {},
          "output_type": "execute_result"
        }
      ],
      "source": [
        "summarized_data.head()"
      ]
    },
    {
      "cell_type": "code",
      "execution_count": 190,
      "metadata": {
        "colab": {
          "base_uri": "https://localhost:8080/",
          "height": 777
        },
        "id": "VrqV2d3gJG4m",
        "outputId": "c7bcd251-7d30-4c3f-a665-2815c42a5d03"
      },
      "outputs": [
        {
          "data": {
            "text/plain": [
              "'The writer begins presenting the fourth book under the title From Disaster to Challenge, where he explains how Darius was happy with its victory in 67, and how the war of attrition began, then he talks about the death of Jennifer and takes over the rule of Jody. He says : This day was the worst defeat in the history of the Israeli army, then he moves us to the Syrian front, then returns again to the war diaries from October 9 -7 to October 13 -9, then he talks about the breach or what was known as the Chinese farm operation, then moves on to the events that took place from October 17 to 20 and relieved Lieutenant General Car rie of his position as Chief of Staff of the Egyptian Armed Forces, then the tendency to approve the request for a cease - fire. The writer presents the battle for the sei zu re of the city Su ez from October 23 to October 25, then the developments of this battle, and how, by the twenty -seventh day of October, the Israeli s had captured about eight thousand members of the Egyptian forces, most of them from the supply and supply units.'"
            ]
          },
          "execution_count": 190,
          "metadata": {},
          "output_type": "execute_result"
        }
      ],
      "source": [
        "summarized_data['generated_summary'][0]"
      ]
    },
    {
      "cell_type": "markdown",
      "metadata": {
        "id": "f8yvJkOrWCou"
      },
      "source": [
        "# Restore the names"
      ]
    },
    {
      "cell_type": "code",
      "execution_count": 191,
      "metadata": {
        "colab": {
          "base_uri": "https://localhost:8080/",
          "height": 354
        },
        "id": "90YO7KGdR5KL",
        "outputId": "302fc9d9-ac32-40bf-a371-6c5720b628dd"
      },
      "outputs": [
        {
          "data": {
            "text/html": [
              "<div>\n",
              "<style scoped>\n",
              "    .dataframe tbody tr th:only-of-type {\n",
              "        vertical-align: middle;\n",
              "    }\n",
              "\n",
              "    .dataframe tbody tr th {\n",
              "        vertical-align: top;\n",
              "    }\n",
              "\n",
              "    .dataframe thead th {\n",
              "        text-align: right;\n",
              "    }\n",
              "</style>\n",
              "<table border=\"1\" class=\"dataframe\">\n",
              "  <thead>\n",
              "    <tr style=\"text-align: right;\">\n",
              "      <th></th>\n",
              "      <th>Unnamed: 0</th>\n",
              "      <th>translated_summary</th>\n",
              "      <th>translated_input</th>\n",
              "      <th>input_replacements</th>\n",
              "      <th>target_replacements</th>\n",
              "      <th>generated_summary</th>\n",
              "    </tr>\n",
              "  </thead>\n",
              "  <tbody>\n",
              "    <tr>\n",
              "      <th>0</th>\n",
              "      <td>0</td>\n",
              "      <td>The writer begins presenting the fourth book u...</td>\n",
              "      <td>Under the title “From Disaster to Challenge,” ...</td>\n",
              "      <td>{'Israel': 'Cynthia', 'the United Arab Republi...</td>\n",
              "      <td>{'Israel': 'Darius', 'Abdel Nasser': 'Shannon'...</td>\n",
              "      <td>The writer begins presenting the fourth book u...</td>\n",
              "    </tr>\n",
              "    <tr>\n",
              "      <th>1</th>\n",
              "      <td>1</td>\n",
              "      <td>The diplomats of the two countries did not rec...</td>\n",
              "      <td>The diplomats of these two countries did not r...</td>\n",
              "      <td>{'Allal al-Fassi': 'Paul', 'Morocco': 'Willie'...</td>\n",
              "      <td>{'Allal Al-Fassi': 'Lynn', 'Cairo': 'Ashley', ...</td>\n",
              "      <td>The diplomats of the two countries did not rec...</td>\n",
              "    </tr>\n",
              "    <tr>\n",
              "      <th>2</th>\n",
              "      <td>2</td>\n",
              "      <td>Jerry declared the French mandate over Jack in...</td>\n",
              "      <td>The Wilayat of Hannah was established after th...</td>\n",
              "      <td>{'Aleppo': 'Hannah', 'Henri Gouraud': 'Crystal...</td>\n",
              "      <td>{'Gouraud': 'Jerry', 'Syria': 'Jack', 'France'...</td>\n",
              "      <td>The Wi lay at of Raymond was established after...</td>\n",
              "    </tr>\n",
              "    <tr>\n",
              "      <th>3</th>\n",
              "      <td>3</td>\n",
              "      <td>Sandra is the mother of the country, and the l...</td>\n",
              "      <td>The Arab state of John is not any country and ...</td>\n",
              "      <td>{'Egypt': 'John', 'Morocco': 'Megan', 'Hosni M...</td>\n",
              "      <td>{'Egypt': 'Sandra', 'Hosni Mubarak': 'Joel', '...</td>\n",
              "      <td>Kin an a is the mother of the country, and the...</td>\n",
              "    </tr>\n",
              "    <tr>\n",
              "      <th>4</th>\n",
              "      <td>4</td>\n",
              "      <td>The Syrian people insist on the independence o...</td>\n",
              "      <td>The Syrians insist on the independence of thei...</td>\n",
              "      <td>{'Sultan Pasha al-Atrash': 'Richard', 'Jabal a...</td>\n",
              "      <td>{'Syria': 'Lisa'}</td>\n",
              "      <td>The Syrian people insist on the independence o...</td>\n",
              "    </tr>\n",
              "  </tbody>\n",
              "</table>\n",
              "</div>"
            ],
            "text/plain": [
              "   Unnamed: 0                                 translated_summary   \n",
              "0           0  The writer begins presenting the fourth book u...  \\\n",
              "1           1  The diplomats of the two countries did not rec...   \n",
              "2           2  Jerry declared the French mandate over Jack in...   \n",
              "3           3  Sandra is the mother of the country, and the l...   \n",
              "4           4  The Syrian people insist on the independence o...   \n",
              "\n",
              "                                    translated_input   \n",
              "0  Under the title “From Disaster to Challenge,” ...  \\\n",
              "1  The diplomats of these two countries did not r...   \n",
              "2  The Wilayat of Hannah was established after th...   \n",
              "3  The Arab state of John is not any country and ...   \n",
              "4  The Syrians insist on the independence of thei...   \n",
              "\n",
              "                                  input_replacements   \n",
              "0  {'Israel': 'Cynthia', 'the United Arab Republi...  \\\n",
              "1  {'Allal al-Fassi': 'Paul', 'Morocco': 'Willie'...   \n",
              "2  {'Aleppo': 'Hannah', 'Henri Gouraud': 'Crystal...   \n",
              "3  {'Egypt': 'John', 'Morocco': 'Megan', 'Hosni M...   \n",
              "4  {'Sultan Pasha al-Atrash': 'Richard', 'Jabal a...   \n",
              "\n",
              "                                 target_replacements   \n",
              "0  {'Israel': 'Darius', 'Abdel Nasser': 'Shannon'...  \\\n",
              "1  {'Allal Al-Fassi': 'Lynn', 'Cairo': 'Ashley', ...   \n",
              "2  {'Gouraud': 'Jerry', 'Syria': 'Jack', 'France'...   \n",
              "3  {'Egypt': 'Sandra', 'Hosni Mubarak': 'Joel', '...   \n",
              "4                                  {'Syria': 'Lisa'}   \n",
              "\n",
              "                                   generated_summary  \n",
              "0  The writer begins presenting the fourth book u...  \n",
              "1  The diplomats of the two countries did not rec...  \n",
              "2  The Wi lay at of Raymond was established after...  \n",
              "3  Kin an a is the mother of the country, and the...  \n",
              "4  The Syrian people insist on the independence o...  "
            ]
          },
          "execution_count": 191,
          "metadata": {},
          "output_type": "execute_result"
        }
      ],
      "source": [
        "summarized_data.head()\n"
      ]
    },
    {
      "cell_type": "code",
      "execution_count": null,
      "metadata": {
        "colab": {
          "base_uri": "https://localhost:8080/",
          "height": 1000
        },
        "id": "4KihAhJBN-mf",
        "outputId": "975f8b67-a01d-4f99-86e6-f6a278f08c14"
      },
      "outputs": [],
      "source": [
        "import pandas as pd\n",
        "\n",
        "# Define the function to restore names\n",
        "def restore_names(sentence, replacements):\n",
        "    for name, replacement in replacements.items():\n",
        "        sentence = sentence.replace(replacement, name)\n",
        "    return sentence\n",
        "\n",
        "# Apply the function to restore names on each row of the DataFrame\n",
        "restored_df = summarized_data.copy()\n",
        "restored_df['generated_summary'] = restored_df.apply(lambda row: restore_names(row['generated_summary'], eval(row['input_replacements'])), axis=1)\n",
        "\n",
        "# Save the restored DataFrame to a new CSV file\n",
        "restored_df.to_csv('restored_summaries.csv', index=False)\n"
      ]
    },
    {
      "cell_type": "code",
      "execution_count": 250,
      "metadata": {},
      "outputs": [
        {
          "data": {
            "text/plain": [
              "4    The Syrian people insist on the independence o...\n",
              "4    The Romans launched a series of raids that end...\n",
              "4    The Ma m l uk leaders strongly resisted the au...\n",
              "4    The Cru s a der s defeated the Ma m l uk s in ...\n",
              "Name: generated_summary, dtype: object"
            ]
          },
          "execution_count": 250,
          "metadata": {},
          "output_type": "execute_result"
        }
      ],
      "source": [
        "restored_df['generated_summary'][4]"
      ]
    },
    {
      "cell_type": "code",
      "execution_count": 269,
      "metadata": {},
      "outputs": [
        {
          "data": {
            "text/html": [
              "<div>\n",
              "<style scoped>\n",
              "    .dataframe tbody tr th:only-of-type {\n",
              "        vertical-align: middle;\n",
              "    }\n",
              "\n",
              "    .dataframe tbody tr th {\n",
              "        vertical-align: top;\n",
              "    }\n",
              "\n",
              "    .dataframe thead th {\n",
              "        text-align: right;\n",
              "    }\n",
              "</style>\n",
              "<table border=\"1\" class=\"dataframe\">\n",
              "  <thead>\n",
              "    <tr style=\"text-align: right;\">\n",
              "      <th></th>\n",
              "      <th>0</th>\n",
              "      <th>1</th>\n",
              "      <th>2</th>\n",
              "      <th>3</th>\n",
              "      <th>4</th>\n",
              "      <th>5</th>\n",
              "      <th>6</th>\n",
              "      <th>7</th>\n",
              "      <th>8</th>\n",
              "      <th>9</th>\n",
              "      <th>...</th>\n",
              "      <th>184</th>\n",
              "      <th>185</th>\n",
              "      <th>186</th>\n",
              "      <th>187</th>\n",
              "      <th>188</th>\n",
              "      <th>189</th>\n",
              "      <th>190</th>\n",
              "      <th>191</th>\n",
              "      <th>192</th>\n",
              "      <th>193</th>\n",
              "    </tr>\n",
              "  </thead>\n",
              "  <tbody>\n",
              "    <tr>\n",
              "      <th>0</th>\n",
              "      <td>None</td>\n",
              "      <td>None</td>\n",
              "      <td>None</td>\n",
              "      <td>None</td>\n",
              "      <td>None</td>\n",
              "      <td>None</td>\n",
              "      <td>None</td>\n",
              "      <td>None</td>\n",
              "      <td>None</td>\n",
              "      <td>None</td>\n",
              "      <td>...</td>\n",
              "      <td>None</td>\n",
              "      <td>None</td>\n",
              "      <td>None</td>\n",
              "      <td>None</td>\n",
              "      <td>None</td>\n",
              "      <td>None</td>\n",
              "      <td>None</td>\n",
              "      <td>None</td>\n",
              "      <td>None</td>\n",
              "      <td>None</td>\n",
              "    </tr>\n",
              "  </tbody>\n",
              "</table>\n",
              "<p>1 rows × 194 columns</p>\n",
              "</div>"
            ],
            "text/plain": [
              "    0     1     2     3     4     5     6     7     8     9    ...   184   \n",
              "0  None  None  None  None  None  None  None  None  None  None  ...  None  \\\n",
              "\n",
              "    185   186   187   188   189   190   191   192   193  \n",
              "0  None  None  None  None  None  None  None  None  None  \n",
              "\n",
              "[1 rows x 194 columns]"
            ]
          },
          "execution_count": 269,
          "metadata": {},
          "output_type": "execute_result"
        }
      ],
      "source": [
        "import pandas as pd\n",
        "\n",
        "\n",
        "\n",
        "summary = summarized_data['generated_summary'].tolist()\n",
        "replacements = summarized_data['target_replacements'].to_dict()\n",
        "\n",
        "\n",
        "\n",
        "summary = [\"The writer begins presenting the fourth book under the title From Disaster to Challenge, where he explains how Darius was happy with its victory in 67, and how the war of attrition began, then he talks about the death of Jennifer and takes over the rule of Jody. He says: This day was the worst defeat in the history of the Israeli army, then he moves us to the Syrian front, then returns again to the war diaries from October 9-7 to October 13-9, then he talks about the breach or what was known as the Chinese farm operation, then moves on to the events that took place from October 17 to 20 and relieved Lieutenant General Car rie of his position as Chief of Staff of the Egyptian Armed Forces, then the tendency to approve the request for a cease-fire. The writer presents the battle for the seizure of the city Suez from October 23 to October 25, then the developments of this battle, and how, by the twenty-seventh day of October, the Israelis had captured about eight thousand members of the Egyptian forces, most of them from the supply and supply units.\"]\n",
        "replacements = {'Israel': 'Darius', 'Abdel Nasser': 'Shannon', 'Anwar Sadat': 'Herbert', 'Egypt': 'Jody', 'Syria': 'Julia'}\n",
        "\n",
        "# Function to perform the replacements\n",
        "def replace_words(word):\n",
        "    val = []\n",
        "    for key, value in replacements.items():\n",
        "        if word == value:\n",
        "            val.append(key)\n",
        "    return val.append(word)\n",
        "\n",
        "# Perform the replacements for each word in the summary list\n",
        "transformed_summary = [[replace_words(word) \n",
        "\n",
        "# Create a DataFrame from the transformed summary\n",
        "df = pd.DataFrame(transformed_summary)\n",
        "\n",
        "# Return the DataFrame\n",
        "df\n",
        "\n"
      ]
    },
    {
      "cell_type": "code",
      "execution_count": 208,
      "metadata": {},
      "outputs": [
        {
          "name": "stdout",
          "output_type": "stream",
          "text": [
            "1\n",
            "2\n",
            "3\n"
          ]
        }
      ],
      "source": [
        "dic = {'one':'1' , 'two':'2' , 'three':'3'}\n",
        "\n",
        "text = 'when i was one i was play football with two or three'.split()\n",
        "\n",
        "\n",
        "text_list = []\n",
        "for i in range(len(text)):\n",
        "    if text[i] in dic:\n",
        "        text[i] = dic[text[i]]\n",
        "        text_list.append(str(text[i]))\n",
        "    else : text_list.append(str(text[i]))\n",
        "    \n",
        "text = ' '.join(text_list)\n",
        "text"
      ]
    },
    {
      "cell_type": "code",
      "execution_count": 55,
      "metadata": {
        "colab": {
          "base_uri": "https://localhost:8080/",
          "height": 732
        },
        "id": "jNGDTwmmWBab",
        "outputId": "ad711110-5028-44be-9be9-5b24374e08de"
      },
      "outputs": [
        {
          "data": {
            "text/html": [
              "<pre style=\"white-space:pre;overflow-x:auto;line-height:normal;font-family:Menlo,'DejaVu Sans Mono',consolas,'Courier New',monospace\"><span style=\"color: #800000; text-decoration-color: #800000\">╭─────────────────────────────── </span><span style=\"color: #800000; text-decoration-color: #800000; font-weight: bold\">Traceback </span><span style=\"color: #bf7f7f; text-decoration-color: #bf7f7f; font-weight: bold\">(most recent call last)</span><span style=\"color: #800000; text-decoration-color: #800000\"> ────────────────────────────────╮</span>\n",
              "<span style=\"color: #800000; text-decoration-color: #800000\">│</span> in <span style=\"color: #00ff00; text-decoration-color: #00ff00\">&lt;cell line: 3&gt;</span>:<span style=\"color: #0000ff; text-decoration-color: #0000ff\">6</span>                                                                              <span style=\"color: #800000; text-decoration-color: #800000\">│</span>\n",
              "<span style=\"color: #800000; text-decoration-color: #800000\">│</span>                                                                                                  <span style=\"color: #800000; text-decoration-color: #800000\">│</span>\n",
              "<span style=\"color: #800000; text-decoration-color: #800000\">│</span> <span style=\"color: #bfbf7f; text-decoration-color: #bfbf7f\">/usr/local/lib/python3.10/dist-packages/torch/nn/modules/</span><span style=\"color: #808000; text-decoration-color: #808000; font-weight: bold\">module.py</span>:<span style=\"color: #0000ff; text-decoration-color: #0000ff\">1501</span> in <span style=\"color: #00ff00; text-decoration-color: #00ff00\">_call_impl</span>            <span style=\"color: #800000; text-decoration-color: #800000\">│</span>\n",
              "<span style=\"color: #800000; text-decoration-color: #800000\">│</span>                                                                                                  <span style=\"color: #800000; text-decoration-color: #800000\">│</span>\n",
              "<span style=\"color: #800000; text-decoration-color: #800000\">│</span>   <span style=\"color: #7f7f7f; text-decoration-color: #7f7f7f\">1498 </span><span style=\"color: #7f7f7f; text-decoration-color: #7f7f7f\">│   │   </span><span style=\"color: #0000ff; text-decoration-color: #0000ff\">if</span> <span style=\"color: #ff00ff; text-decoration-color: #ff00ff\">not</span> (<span style=\"color: #00ffff; text-decoration-color: #00ffff\">self</span>._backward_hooks <span style=\"color: #ff00ff; text-decoration-color: #ff00ff\">or</span> <span style=\"color: #00ffff; text-decoration-color: #00ffff\">self</span>._backward_pre_hooks <span style=\"color: #ff00ff; text-decoration-color: #ff00ff\">or</span> <span style=\"color: #00ffff; text-decoration-color: #00ffff\">self</span>._forward_hooks   <span style=\"color: #800000; text-decoration-color: #800000\">│</span>\n",
              "<span style=\"color: #800000; text-decoration-color: #800000\">│</span>   <span style=\"color: #7f7f7f; text-decoration-color: #7f7f7f\">1499 </span><span style=\"color: #7f7f7f; text-decoration-color: #7f7f7f\">│   │   │   │   </span><span style=\"color: #ff00ff; text-decoration-color: #ff00ff\">or</span> _global_backward_pre_hooks <span style=\"color: #ff00ff; text-decoration-color: #ff00ff\">or</span> _global_backward_hooks                   <span style=\"color: #800000; text-decoration-color: #800000\">│</span>\n",
              "<span style=\"color: #800000; text-decoration-color: #800000\">│</span>   <span style=\"color: #7f7f7f; text-decoration-color: #7f7f7f\">1500 </span><span style=\"color: #7f7f7f; text-decoration-color: #7f7f7f\">│   │   │   │   </span><span style=\"color: #ff00ff; text-decoration-color: #ff00ff\">or</span> _global_forward_hooks <span style=\"color: #ff00ff; text-decoration-color: #ff00ff\">or</span> _global_forward_pre_hooks):                   <span style=\"color: #800000; text-decoration-color: #800000\">│</span>\n",
              "<span style=\"color: #800000; text-decoration-color: #800000\">│</span> <span style=\"color: #800000; text-decoration-color: #800000\">❱ </span>1501 <span style=\"color: #7f7f7f; text-decoration-color: #7f7f7f\">│   │   │   </span><span style=\"color: #0000ff; text-decoration-color: #0000ff\">return</span> forward_call(*args, **kwargs)                                          <span style=\"color: #800000; text-decoration-color: #800000\">│</span>\n",
              "<span style=\"color: #800000; text-decoration-color: #800000\">│</span>   <span style=\"color: #7f7f7f; text-decoration-color: #7f7f7f\">1502 </span><span style=\"color: #7f7f7f; text-decoration-color: #7f7f7f\">│   │   </span><span style=\"color: #7f7f7f; text-decoration-color: #7f7f7f\"># Do not call functions when jit is used</span>                                          <span style=\"color: #800000; text-decoration-color: #800000\">│</span>\n",
              "<span style=\"color: #800000; text-decoration-color: #800000\">│</span>   <span style=\"color: #7f7f7f; text-decoration-color: #7f7f7f\">1503 </span><span style=\"color: #7f7f7f; text-decoration-color: #7f7f7f\">│   │   </span>full_backward_hooks, non_full_backward_hooks = [], []                             <span style=\"color: #800000; text-decoration-color: #800000\">│</span>\n",
              "<span style=\"color: #800000; text-decoration-color: #800000\">│</span>   <span style=\"color: #7f7f7f; text-decoration-color: #7f7f7f\">1504 </span><span style=\"color: #7f7f7f; text-decoration-color: #7f7f7f\">│   │   </span>backward_pre_hooks = []                                                           <span style=\"color: #800000; text-decoration-color: #800000\">│</span>\n",
              "<span style=\"color: #800000; text-decoration-color: #800000\">│</span>                                                                                                  <span style=\"color: #800000; text-decoration-color: #800000\">│</span>\n",
              "<span style=\"color: #800000; text-decoration-color: #800000\">│</span> <span style=\"color: #bfbf7f; text-decoration-color: #bfbf7f\">/usr/local/lib/python3.10/dist-packages/transformers/models/t5/</span><span style=\"color: #808000; text-decoration-color: #808000; font-weight: bold\">modeling_t5.py</span>:<span style=\"color: #0000ff; text-decoration-color: #0000ff\">1683</span> in <span style=\"color: #00ff00; text-decoration-color: #00ff00\">forward</span>    <span style=\"color: #800000; text-decoration-color: #800000\">│</span>\n",
              "<span style=\"color: #800000; text-decoration-color: #800000\">│</span>                                                                                                  <span style=\"color: #800000; text-decoration-color: #800000\">│</span>\n",
              "<span style=\"color: #800000; text-decoration-color: #800000\">│</span>   <span style=\"color: #7f7f7f; text-decoration-color: #7f7f7f\">1680 </span><span style=\"color: #7f7f7f; text-decoration-color: #7f7f7f\">│   │   </span><span style=\"color: #7f7f7f; text-decoration-color: #7f7f7f\"># Encode if needed (training, first prediction pass)</span>                              <span style=\"color: #800000; text-decoration-color: #800000\">│</span>\n",
              "<span style=\"color: #800000; text-decoration-color: #800000\">│</span>   <span style=\"color: #7f7f7f; text-decoration-color: #7f7f7f\">1681 </span><span style=\"color: #7f7f7f; text-decoration-color: #7f7f7f\">│   │   </span><span style=\"color: #0000ff; text-decoration-color: #0000ff\">if</span> encoder_outputs <span style=\"color: #ff00ff; text-decoration-color: #ff00ff\">is</span> <span style=\"color: #0000ff; text-decoration-color: #0000ff\">None</span>:                                                       <span style=\"color: #800000; text-decoration-color: #800000\">│</span>\n",
              "<span style=\"color: #800000; text-decoration-color: #800000\">│</span>   <span style=\"color: #7f7f7f; text-decoration-color: #7f7f7f\">1682 </span><span style=\"color: #7f7f7f; text-decoration-color: #7f7f7f\">│   │   │   </span><span style=\"color: #7f7f7f; text-decoration-color: #7f7f7f\"># Convert encoder inputs in embeddings if needed</span>                              <span style=\"color: #800000; text-decoration-color: #800000\">│</span>\n",
              "<span style=\"color: #800000; text-decoration-color: #800000\">│</span> <span style=\"color: #800000; text-decoration-color: #800000\">❱ </span>1683 <span style=\"color: #7f7f7f; text-decoration-color: #7f7f7f\">│   │   │   </span>encoder_outputs = <span style=\"color: #00ffff; text-decoration-color: #00ffff\">self</span>.encoder(                                               <span style=\"color: #800000; text-decoration-color: #800000\">│</span>\n",
              "<span style=\"color: #800000; text-decoration-color: #800000\">│</span>   <span style=\"color: #7f7f7f; text-decoration-color: #7f7f7f\">1684 </span><span style=\"color: #7f7f7f; text-decoration-color: #7f7f7f\">│   │   │   │   </span>input_ids=input_ids,                                                      <span style=\"color: #800000; text-decoration-color: #800000\">│</span>\n",
              "<span style=\"color: #800000; text-decoration-color: #800000\">│</span>   <span style=\"color: #7f7f7f; text-decoration-color: #7f7f7f\">1685 </span><span style=\"color: #7f7f7f; text-decoration-color: #7f7f7f\">│   │   │   │   </span>attention_mask=attention_mask,                                            <span style=\"color: #800000; text-decoration-color: #800000\">│</span>\n",
              "<span style=\"color: #800000; text-decoration-color: #800000\">│</span>   <span style=\"color: #7f7f7f; text-decoration-color: #7f7f7f\">1686 </span><span style=\"color: #7f7f7f; text-decoration-color: #7f7f7f\">│   │   │   │   </span>inputs_embeds=inputs_embeds,                                              <span style=\"color: #800000; text-decoration-color: #800000\">│</span>\n",
              "<span style=\"color: #800000; text-decoration-color: #800000\">│</span>                                                                                                  <span style=\"color: #800000; text-decoration-color: #800000\">│</span>\n",
              "<span style=\"color: #800000; text-decoration-color: #800000\">│</span> <span style=\"color: #bfbf7f; text-decoration-color: #bfbf7f\">/usr/local/lib/python3.10/dist-packages/torch/nn/modules/</span><span style=\"color: #808000; text-decoration-color: #808000; font-weight: bold\">module.py</span>:<span style=\"color: #0000ff; text-decoration-color: #0000ff\">1501</span> in <span style=\"color: #00ff00; text-decoration-color: #00ff00\">_call_impl</span>            <span style=\"color: #800000; text-decoration-color: #800000\">│</span>\n",
              "<span style=\"color: #800000; text-decoration-color: #800000\">│</span>                                                                                                  <span style=\"color: #800000; text-decoration-color: #800000\">│</span>\n",
              "<span style=\"color: #800000; text-decoration-color: #800000\">│</span>   <span style=\"color: #7f7f7f; text-decoration-color: #7f7f7f\">1498 </span><span style=\"color: #7f7f7f; text-decoration-color: #7f7f7f\">│   │   </span><span style=\"color: #0000ff; text-decoration-color: #0000ff\">if</span> <span style=\"color: #ff00ff; text-decoration-color: #ff00ff\">not</span> (<span style=\"color: #00ffff; text-decoration-color: #00ffff\">self</span>._backward_hooks <span style=\"color: #ff00ff; text-decoration-color: #ff00ff\">or</span> <span style=\"color: #00ffff; text-decoration-color: #00ffff\">self</span>._backward_pre_hooks <span style=\"color: #ff00ff; text-decoration-color: #ff00ff\">or</span> <span style=\"color: #00ffff; text-decoration-color: #00ffff\">self</span>._forward_hooks   <span style=\"color: #800000; text-decoration-color: #800000\">│</span>\n",
              "<span style=\"color: #800000; text-decoration-color: #800000\">│</span>   <span style=\"color: #7f7f7f; text-decoration-color: #7f7f7f\">1499 </span><span style=\"color: #7f7f7f; text-decoration-color: #7f7f7f\">│   │   │   │   </span><span style=\"color: #ff00ff; text-decoration-color: #ff00ff\">or</span> _global_backward_pre_hooks <span style=\"color: #ff00ff; text-decoration-color: #ff00ff\">or</span> _global_backward_hooks                   <span style=\"color: #800000; text-decoration-color: #800000\">│</span>\n",
              "<span style=\"color: #800000; text-decoration-color: #800000\">│</span>   <span style=\"color: #7f7f7f; text-decoration-color: #7f7f7f\">1500 </span><span style=\"color: #7f7f7f; text-decoration-color: #7f7f7f\">│   │   │   │   </span><span style=\"color: #ff00ff; text-decoration-color: #ff00ff\">or</span> _global_forward_hooks <span style=\"color: #ff00ff; text-decoration-color: #ff00ff\">or</span> _global_forward_pre_hooks):                   <span style=\"color: #800000; text-decoration-color: #800000\">│</span>\n",
              "<span style=\"color: #800000; text-decoration-color: #800000\">│</span> <span style=\"color: #800000; text-decoration-color: #800000\">❱ </span>1501 <span style=\"color: #7f7f7f; text-decoration-color: #7f7f7f\">│   │   │   </span><span style=\"color: #0000ff; text-decoration-color: #0000ff\">return</span> forward_call(*args, **kwargs)                                          <span style=\"color: #800000; text-decoration-color: #800000\">│</span>\n",
              "<span style=\"color: #800000; text-decoration-color: #800000\">│</span>   <span style=\"color: #7f7f7f; text-decoration-color: #7f7f7f\">1502 </span><span style=\"color: #7f7f7f; text-decoration-color: #7f7f7f\">│   │   </span><span style=\"color: #7f7f7f; text-decoration-color: #7f7f7f\"># Do not call functions when jit is used</span>                                          <span style=\"color: #800000; text-decoration-color: #800000\">│</span>\n",
              "<span style=\"color: #800000; text-decoration-color: #800000\">│</span>   <span style=\"color: #7f7f7f; text-decoration-color: #7f7f7f\">1503 </span><span style=\"color: #7f7f7f; text-decoration-color: #7f7f7f\">│   │   </span>full_backward_hooks, non_full_backward_hooks = [], []                             <span style=\"color: #800000; text-decoration-color: #800000\">│</span>\n",
              "<span style=\"color: #800000; text-decoration-color: #800000\">│</span>   <span style=\"color: #7f7f7f; text-decoration-color: #7f7f7f\">1504 </span><span style=\"color: #7f7f7f; text-decoration-color: #7f7f7f\">│   │   </span>backward_pre_hooks = []                                                           <span style=\"color: #800000; text-decoration-color: #800000\">│</span>\n",
              "<span style=\"color: #800000; text-decoration-color: #800000\">│</span>                                                                                                  <span style=\"color: #800000; text-decoration-color: #800000\">│</span>\n",
              "<span style=\"color: #800000; text-decoration-color: #800000\">│</span> <span style=\"color: #bfbf7f; text-decoration-color: #bfbf7f\">/usr/local/lib/python3.10/dist-packages/transformers/models/t5/</span><span style=\"color: #808000; text-decoration-color: #808000; font-weight: bold\">modeling_t5.py</span>:<span style=\"color: #0000ff; text-decoration-color: #0000ff\">977</span> in <span style=\"color: #00ff00; text-decoration-color: #00ff00\">forward</span>     <span style=\"color: #800000; text-decoration-color: #800000\">│</span>\n",
              "<span style=\"color: #800000; text-decoration-color: #800000\">│</span>                                                                                                  <span style=\"color: #800000; text-decoration-color: #800000\">│</span>\n",
              "<span style=\"color: #800000; text-decoration-color: #800000\">│</span>   <span style=\"color: #7f7f7f; text-decoration-color: #7f7f7f\"> 974 </span><span style=\"color: #7f7f7f; text-decoration-color: #7f7f7f\">│   │   │   │   </span><span style=\"color: #808000; text-decoration-color: #808000\">f\"You cannot specify both {</span>err_msg_prefix<span style=\"color: #808000; text-decoration-color: #808000\">}input_ids and {</span>err_msg_prefix<span style=\"color: #808000; text-decoration-color: #808000\">}</span>  <span style=\"color: #800000; text-decoration-color: #800000\">│</span>\n",
              "<span style=\"color: #800000; text-decoration-color: #800000\">│</span>   <span style=\"color: #7f7f7f; text-decoration-color: #7f7f7f\"> 975 </span><span style=\"color: #7f7f7f; text-decoration-color: #7f7f7f\">│   │   │   </span>)                                                                             <span style=\"color: #800000; text-decoration-color: #800000\">│</span>\n",
              "<span style=\"color: #800000; text-decoration-color: #800000\">│</span>   <span style=\"color: #7f7f7f; text-decoration-color: #7f7f7f\"> 976 </span><span style=\"color: #7f7f7f; text-decoration-color: #7f7f7f\">│   │   </span><span style=\"color: #0000ff; text-decoration-color: #0000ff\">elif</span> input_ids <span style=\"color: #ff00ff; text-decoration-color: #ff00ff\">is</span> <span style=\"color: #ff00ff; text-decoration-color: #ff00ff\">not</span> <span style=\"color: #0000ff; text-decoration-color: #0000ff\">None</span>:                                                       <span style=\"color: #800000; text-decoration-color: #800000\">│</span>\n",
              "<span style=\"color: #800000; text-decoration-color: #800000\">│</span> <span style=\"color: #800000; text-decoration-color: #800000\">❱ </span> 977 <span style=\"color: #7f7f7f; text-decoration-color: #7f7f7f\">│   │   │   </span>input_shape = input_ids.size()                                                <span style=\"color: #800000; text-decoration-color: #800000\">│</span>\n",
              "<span style=\"color: #800000; text-decoration-color: #800000\">│</span>   <span style=\"color: #7f7f7f; text-decoration-color: #7f7f7f\"> 978 </span><span style=\"color: #7f7f7f; text-decoration-color: #7f7f7f\">│   │   │   </span>input_ids = input_ids.view(-<span style=\"color: #0000ff; text-decoration-color: #0000ff\">1</span>, input_shape[-<span style=\"color: #0000ff; text-decoration-color: #0000ff\">1</span>])                               <span style=\"color: #800000; text-decoration-color: #800000\">│</span>\n",
              "<span style=\"color: #800000; text-decoration-color: #800000\">│</span>   <span style=\"color: #7f7f7f; text-decoration-color: #7f7f7f\"> 979 </span><span style=\"color: #7f7f7f; text-decoration-color: #7f7f7f\">│   │   </span><span style=\"color: #0000ff; text-decoration-color: #0000ff\">elif</span> inputs_embeds <span style=\"color: #ff00ff; text-decoration-color: #ff00ff\">is</span> <span style=\"color: #ff00ff; text-decoration-color: #ff00ff\">not</span> <span style=\"color: #0000ff; text-decoration-color: #0000ff\">None</span>:                                                   <span style=\"color: #800000; text-decoration-color: #800000\">│</span>\n",
              "<span style=\"color: #800000; text-decoration-color: #800000\">│</span>   <span style=\"color: #7f7f7f; text-decoration-color: #7f7f7f\"> 980 </span><span style=\"color: #7f7f7f; text-decoration-color: #7f7f7f\">│   │   │   </span>input_shape = inputs_embeds.size()[:-<span style=\"color: #0000ff; text-decoration-color: #0000ff\">1</span>]                                       <span style=\"color: #800000; text-decoration-color: #800000\">│</span>\n",
              "<span style=\"color: #800000; text-decoration-color: #800000\">╰──────────────────────────────────────────────────────────────────────────────────────────────────╯</span>\n",
              "<span style=\"color: #ff0000; text-decoration-color: #ff0000; font-weight: bold\">AttributeError: </span><span style=\"color: #008000; text-decoration-color: #008000\">'str'</span> object has no attribute <span style=\"color: #008000; text-decoration-color: #008000\">'size'</span>\n",
              "</pre>\n"
            ],
            "text/plain": [
              "\u001b[31m╭─\u001b[0m\u001b[31m──────────────────────────────\u001b[0m\u001b[31m \u001b[0m\u001b[1;31mTraceback \u001b[0m\u001b[1;2;31m(most recent call last)\u001b[0m\u001b[31m \u001b[0m\u001b[31m───────────────────────────────\u001b[0m\u001b[31m─╮\u001b[0m\n",
              "\u001b[31m│\u001b[0m in \u001b[92m<cell line: 3>\u001b[0m:\u001b[94m6\u001b[0m                                                                              \u001b[31m│\u001b[0m\n",
              "\u001b[31m│\u001b[0m                                                                                                  \u001b[31m│\u001b[0m\n",
              "\u001b[31m│\u001b[0m \u001b[2;33m/usr/local/lib/python3.10/dist-packages/torch/nn/modules/\u001b[0m\u001b[1;33mmodule.py\u001b[0m:\u001b[94m1501\u001b[0m in \u001b[92m_call_impl\u001b[0m            \u001b[31m│\u001b[0m\n",
              "\u001b[31m│\u001b[0m                                                                                                  \u001b[31m│\u001b[0m\n",
              "\u001b[31m│\u001b[0m   \u001b[2m1498 \u001b[0m\u001b[2m│   │   \u001b[0m\u001b[94mif\u001b[0m \u001b[95mnot\u001b[0m (\u001b[96mself\u001b[0m._backward_hooks \u001b[95mor\u001b[0m \u001b[96mself\u001b[0m._backward_pre_hooks \u001b[95mor\u001b[0m \u001b[96mself\u001b[0m._forward_hooks   \u001b[31m│\u001b[0m\n",
              "\u001b[31m│\u001b[0m   \u001b[2m1499 \u001b[0m\u001b[2m│   │   │   │   \u001b[0m\u001b[95mor\u001b[0m _global_backward_pre_hooks \u001b[95mor\u001b[0m _global_backward_hooks                   \u001b[31m│\u001b[0m\n",
              "\u001b[31m│\u001b[0m   \u001b[2m1500 \u001b[0m\u001b[2m│   │   │   │   \u001b[0m\u001b[95mor\u001b[0m _global_forward_hooks \u001b[95mor\u001b[0m _global_forward_pre_hooks):                   \u001b[31m│\u001b[0m\n",
              "\u001b[31m│\u001b[0m \u001b[31m❱ \u001b[0m1501 \u001b[2m│   │   │   \u001b[0m\u001b[94mreturn\u001b[0m forward_call(*args, **kwargs)                                          \u001b[31m│\u001b[0m\n",
              "\u001b[31m│\u001b[0m   \u001b[2m1502 \u001b[0m\u001b[2m│   │   \u001b[0m\u001b[2m# Do not call functions when jit is used\u001b[0m                                          \u001b[31m│\u001b[0m\n",
              "\u001b[31m│\u001b[0m   \u001b[2m1503 \u001b[0m\u001b[2m│   │   \u001b[0mfull_backward_hooks, non_full_backward_hooks = [], []                             \u001b[31m│\u001b[0m\n",
              "\u001b[31m│\u001b[0m   \u001b[2m1504 \u001b[0m\u001b[2m│   │   \u001b[0mbackward_pre_hooks = []                                                           \u001b[31m│\u001b[0m\n",
              "\u001b[31m│\u001b[0m                                                                                                  \u001b[31m│\u001b[0m\n",
              "\u001b[31m│\u001b[0m \u001b[2;33m/usr/local/lib/python3.10/dist-packages/transformers/models/t5/\u001b[0m\u001b[1;33mmodeling_t5.py\u001b[0m:\u001b[94m1683\u001b[0m in \u001b[92mforward\u001b[0m    \u001b[31m│\u001b[0m\n",
              "\u001b[31m│\u001b[0m                                                                                                  \u001b[31m│\u001b[0m\n",
              "\u001b[31m│\u001b[0m   \u001b[2m1680 \u001b[0m\u001b[2m│   │   \u001b[0m\u001b[2m# Encode if needed (training, first prediction pass)\u001b[0m                              \u001b[31m│\u001b[0m\n",
              "\u001b[31m│\u001b[0m   \u001b[2m1681 \u001b[0m\u001b[2m│   │   \u001b[0m\u001b[94mif\u001b[0m encoder_outputs \u001b[95mis\u001b[0m \u001b[94mNone\u001b[0m:                                                       \u001b[31m│\u001b[0m\n",
              "\u001b[31m│\u001b[0m   \u001b[2m1682 \u001b[0m\u001b[2m│   │   │   \u001b[0m\u001b[2m# Convert encoder inputs in embeddings if needed\u001b[0m                              \u001b[31m│\u001b[0m\n",
              "\u001b[31m│\u001b[0m \u001b[31m❱ \u001b[0m1683 \u001b[2m│   │   │   \u001b[0mencoder_outputs = \u001b[96mself\u001b[0m.encoder(                                               \u001b[31m│\u001b[0m\n",
              "\u001b[31m│\u001b[0m   \u001b[2m1684 \u001b[0m\u001b[2m│   │   │   │   \u001b[0minput_ids=input_ids,                                                      \u001b[31m│\u001b[0m\n",
              "\u001b[31m│\u001b[0m   \u001b[2m1685 \u001b[0m\u001b[2m│   │   │   │   \u001b[0mattention_mask=attention_mask,                                            \u001b[31m│\u001b[0m\n",
              "\u001b[31m│\u001b[0m   \u001b[2m1686 \u001b[0m\u001b[2m│   │   │   │   \u001b[0minputs_embeds=inputs_embeds,                                              \u001b[31m│\u001b[0m\n",
              "\u001b[31m│\u001b[0m                                                                                                  \u001b[31m│\u001b[0m\n",
              "\u001b[31m│\u001b[0m \u001b[2;33m/usr/local/lib/python3.10/dist-packages/torch/nn/modules/\u001b[0m\u001b[1;33mmodule.py\u001b[0m:\u001b[94m1501\u001b[0m in \u001b[92m_call_impl\u001b[0m            \u001b[31m│\u001b[0m\n",
              "\u001b[31m│\u001b[0m                                                                                                  \u001b[31m│\u001b[0m\n",
              "\u001b[31m│\u001b[0m   \u001b[2m1498 \u001b[0m\u001b[2m│   │   \u001b[0m\u001b[94mif\u001b[0m \u001b[95mnot\u001b[0m (\u001b[96mself\u001b[0m._backward_hooks \u001b[95mor\u001b[0m \u001b[96mself\u001b[0m._backward_pre_hooks \u001b[95mor\u001b[0m \u001b[96mself\u001b[0m._forward_hooks   \u001b[31m│\u001b[0m\n",
              "\u001b[31m│\u001b[0m   \u001b[2m1499 \u001b[0m\u001b[2m│   │   │   │   \u001b[0m\u001b[95mor\u001b[0m _global_backward_pre_hooks \u001b[95mor\u001b[0m _global_backward_hooks                   \u001b[31m│\u001b[0m\n",
              "\u001b[31m│\u001b[0m   \u001b[2m1500 \u001b[0m\u001b[2m│   │   │   │   \u001b[0m\u001b[95mor\u001b[0m _global_forward_hooks \u001b[95mor\u001b[0m _global_forward_pre_hooks):                   \u001b[31m│\u001b[0m\n",
              "\u001b[31m│\u001b[0m \u001b[31m❱ \u001b[0m1501 \u001b[2m│   │   │   \u001b[0m\u001b[94mreturn\u001b[0m forward_call(*args, **kwargs)                                          \u001b[31m│\u001b[0m\n",
              "\u001b[31m│\u001b[0m   \u001b[2m1502 \u001b[0m\u001b[2m│   │   \u001b[0m\u001b[2m# Do not call functions when jit is used\u001b[0m                                          \u001b[31m│\u001b[0m\n",
              "\u001b[31m│\u001b[0m   \u001b[2m1503 \u001b[0m\u001b[2m│   │   \u001b[0mfull_backward_hooks, non_full_backward_hooks = [], []                             \u001b[31m│\u001b[0m\n",
              "\u001b[31m│\u001b[0m   \u001b[2m1504 \u001b[0m\u001b[2m│   │   \u001b[0mbackward_pre_hooks = []                                                           \u001b[31m│\u001b[0m\n",
              "\u001b[31m│\u001b[0m                                                                                                  \u001b[31m│\u001b[0m\n",
              "\u001b[31m│\u001b[0m \u001b[2;33m/usr/local/lib/python3.10/dist-packages/transformers/models/t5/\u001b[0m\u001b[1;33mmodeling_t5.py\u001b[0m:\u001b[94m977\u001b[0m in \u001b[92mforward\u001b[0m     \u001b[31m│\u001b[0m\n",
              "\u001b[31m│\u001b[0m                                                                                                  \u001b[31m│\u001b[0m\n",
              "\u001b[31m│\u001b[0m   \u001b[2m 974 \u001b[0m\u001b[2m│   │   │   │   \u001b[0m\u001b[33mf\u001b[0m\u001b[33m\"\u001b[0m\u001b[33mYou cannot specify both \u001b[0m\u001b[33m{\u001b[0merr_msg_prefix\u001b[33m}\u001b[0m\u001b[33minput_ids and \u001b[0m\u001b[33m{\u001b[0merr_msg_prefix\u001b[33m}\u001b[0m  \u001b[31m│\u001b[0m\n",
              "\u001b[31m│\u001b[0m   \u001b[2m 975 \u001b[0m\u001b[2m│   │   │   \u001b[0m)                                                                             \u001b[31m│\u001b[0m\n",
              "\u001b[31m│\u001b[0m   \u001b[2m 976 \u001b[0m\u001b[2m│   │   \u001b[0m\u001b[94melif\u001b[0m input_ids \u001b[95mis\u001b[0m \u001b[95mnot\u001b[0m \u001b[94mNone\u001b[0m:                                                       \u001b[31m│\u001b[0m\n",
              "\u001b[31m│\u001b[0m \u001b[31m❱ \u001b[0m 977 \u001b[2m│   │   │   \u001b[0minput_shape = input_ids.size()                                                \u001b[31m│\u001b[0m\n",
              "\u001b[31m│\u001b[0m   \u001b[2m 978 \u001b[0m\u001b[2m│   │   │   \u001b[0minput_ids = input_ids.view(-\u001b[94m1\u001b[0m, input_shape[-\u001b[94m1\u001b[0m])                               \u001b[31m│\u001b[0m\n",
              "\u001b[31m│\u001b[0m   \u001b[2m 979 \u001b[0m\u001b[2m│   │   \u001b[0m\u001b[94melif\u001b[0m inputs_embeds \u001b[95mis\u001b[0m \u001b[95mnot\u001b[0m \u001b[94mNone\u001b[0m:                                                   \u001b[31m│\u001b[0m\n",
              "\u001b[31m│\u001b[0m   \u001b[2m 980 \u001b[0m\u001b[2m│   │   │   \u001b[0minput_shape = inputs_embeds.size()[:-\u001b[94m1\u001b[0m]                                       \u001b[31m│\u001b[0m\n",
              "\u001b[31m╰──────────────────────────────────────────────────────────────────────────────────────────────────╯\u001b[0m\n",
              "\u001b[1;91mAttributeError: \u001b[0m\u001b[32m'str'\u001b[0m object has no attribute \u001b[32m'size'\u001b[0m\n"
            ]
          },
          "metadata": {},
          "output_type": "display_data"
        }
      ],
      "source": [
        "\n",
        "\n",
        "restored_data = []\n",
        "\n",
        "for _, row in modified_df.iterrows():\n",
        "    replaced_target_text = row['translated_summary']\n",
        "    replaced_input_text = row['translated_input']\n",
        "    replacements_t = eval(row['target_replacements'])  # Convert string representation to dictionary\n",
        "    replacements_i = eval(row['input_replacements'])  # Convert string representation to dictionary\n",
        "\n",
        "    # Restore original names in target text\n",
        "    restored_target_text = reverse_replacements(replaced_target_text, replacements_t)\n",
        "\n",
        "    # Restore original names in input text\n",
        "    restored_input_text = reverse_replacements(replaced_input_text, replacements_i)\n",
        "\n",
        "    # Save restored data\n",
        "    restored_data.append({\n",
        "        'translated_summary': restored_target_text,\n",
        "        'translated_input': restored_input_text,\n",
        "    })\n",
        "\n",
        "# Create a new DataFrame with restored data\n",
        "restored_df = pd.DataFrame(restored_data)\n",
        "\n",
        "# Save the restored DataFrame to a new CSV file\n",
        "restored_df.to_csv('restored_DS.csv', index=False)\n"
      ]
    },
    {
      "cell_type": "markdown",
      "metadata": {
        "id": "sMFZgKD4PfEG"
      },
      "source": [
        "translate generated summary in new column called \"translated_generated_summary\""
      ]
    },
    {
      "cell_type": "code",
      "execution_count": null,
      "metadata": {
        "id": "FGPorW8US2Fj"
      },
      "outputs": [],
      "source": [
        "reviews.to_csv('new.csv')"
      ]
    },
    {
      "cell_type": "code",
      "execution_count": null,
      "metadata": {
        "colab": {
          "base_uri": "https://localhost:8080/"
        },
        "id": "BCs0Bv4sPmEL",
        "outputId": "b78b3d18-1156-46ab-b304-2084f7377fc1"
      },
      "outputs": [
        {
          "name": "stdout",
          "output_type": "stream",
          "text": [
            "Done\n"
          ]
        }
      ],
      "source": [
        "# # Function to translate the generated summaries\n",
        "# def translate_summary(summary):\n",
        "#     input_ids = tokenizer.encode(summary, return_tensors=\"pt\")\n",
        "#     translated_output = model.generate(input_ids)\n",
        "#     translated_summary = tokenizer.decode(translated_output[0], skip_special_tokens=True)\n",
        "#     return translated_summary\n",
        "\n",
        "\n",
        "reviews['translated_generated_summary'] = reviews['generated_summary'].apply(translate_en_to_ar)\n",
        "print('Done')"
      ]
    },
    {
      "cell_type": "code",
      "execution_count": null,
      "metadata": {
        "colab": {
          "base_uri": "https://localhost:8080/",
          "height": 597
        },
        "id": "xYJVbQB0UdnI",
        "outputId": "4f9cd8ef-a5ae-4848-99ca-95ac1b1ff68f"
      },
      "outputs": [
        {
          "data": {
            "text/html": [
              "\n",
              "  <div id=\"df-1422805c-9d8b-44f5-91cb-65b94ae272ba\">\n",
              "    <div class=\"colab-df-container\">\n",
              "      <div>\n",
              "<style scoped>\n",
              "    .dataframe tbody tr th:only-of-type {\n",
              "        vertical-align: middle;\n",
              "    }\n",
              "\n",
              "    .dataframe tbody tr th {\n",
              "        vertical-align: top;\n",
              "    }\n",
              "\n",
              "    .dataframe thead th {\n",
              "        text-align: right;\n",
              "    }\n",
              "</style>\n",
              "<table border=\"1\" class=\"dataframe\">\n",
              "  <thead>\n",
              "    <tr style=\"text-align: right;\">\n",
              "      <th></th>\n",
              "      <th>paragraph</th>\n",
              "      <th>summary</th>\n",
              "      <th>tokens_paragraph</th>\n",
              "      <th>translated_input</th>\n",
              "      <th>translated_summary</th>\n",
              "    </tr>\n",
              "  </thead>\n",
              "  <tbody>\n",
              "    <tr>\n",
              "      <th>0</th>\n",
              "      <td>وتحت عنوان من الكارثة إلى التحدى يبدأ الكاتب ع...</td>\n",
              "      <td>يبدأ الكاتب عرض الكتاب الرابع تحت عنوان من الك...</td>\n",
              "      <td>335</td>\n",
              "      <td>Under the title From Disaster to Challenge, th...</td>\n",
              "      <td>The writer begins presenting the fourth book u...</td>\n",
              "    </tr>\n",
              "    <tr>\n",
              "      <th>1</th>\n",
              "      <td>ولم يعترف دبلوماسيو هاتين الدولتين بالعريضة ال...</td>\n",
              "      <td>دبلوماسيو الدولتين لم يعترفوا بالعريضة التي قا...</td>\n",
              "      <td>277</td>\n",
              "      <td>The diplomats of these two countries did not r...</td>\n",
              "      <td>The diplomats of the two countries did not rec...</td>\n",
              "    </tr>\n",
              "    <tr>\n",
              "      <th>2</th>\n",
              "      <td>قامت ولاية حلب بعد اعلان الجنرال الفرنسي هنري ...</td>\n",
              "      <td>أعلن غورو الانتداب الفرنسي على سوريا لكي يعاقب...</td>\n",
              "      <td>339</td>\n",
              "      <td>The mandate of Aleppo was established after th...</td>\n",
              "      <td>Gouraud declared the French mandate over Syria...</td>\n",
              "    </tr>\n",
              "    <tr>\n",
              "      <th>3</th>\n",
              "      <td>دولة مصر العربيه هي ليست اي دوله وليست اي شعب ...</td>\n",
              "      <td>مصر هي أم البلاد، وقائدة العرب؛ فهي أرض بلاد ا...</td>\n",
              "      <td>282</td>\n",
              "      <td>The Arab state of Egypt is not any country and...</td>\n",
              "      <td>Egypt is the mother of the country, and the le...</td>\n",
              "    </tr>\n",
              "    <tr>\n",
              "      <th>4</th>\n",
              "      <td>السوريون يصرون على استقلال بلادهم : و مثلما رف...</td>\n",
              "      <td>الشعب السوري يصر على استقلال بلدهم من السيطرة ...</td>\n",
              "      <td>259</td>\n",
              "      <td>The Syrians insist on the independence of thei...</td>\n",
              "      <td>The Syrian people insist on the independence o...</td>\n",
              "    </tr>\n",
              "  </tbody>\n",
              "</table>\n",
              "</div>\n",
              "      <button class=\"colab-df-convert\" onclick=\"convertToInteractive('df-1422805c-9d8b-44f5-91cb-65b94ae272ba')\"\n",
              "              title=\"Convert this dataframe to an interactive table.\"\n",
              "              style=\"display:none;\">\n",
              "        \n",
              "  <svg xmlns=\"http://www.w3.org/2000/svg\" height=\"24px\"viewBox=\"0 0 24 24\"\n",
              "       width=\"24px\">\n",
              "    <path d=\"M0 0h24v24H0V0z\" fill=\"none\"/>\n",
              "    <path d=\"M18.56 5.44l.94 2.06.94-2.06 2.06-.94-2.06-.94-.94-2.06-.94 2.06-2.06.94zm-11 1L8.5 8.5l.94-2.06 2.06-.94-2.06-.94L8.5 2.5l-.94 2.06-2.06.94zm10 10l.94 2.06.94-2.06 2.06-.94-2.06-.94-.94-2.06-.94 2.06-2.06.94z\"/><path d=\"M17.41 7.96l-1.37-1.37c-.4-.4-.92-.59-1.43-.59-.52 0-1.04.2-1.43.59L10.3 9.45l-7.72 7.72c-.78.78-.78 2.05 0 2.83L4 21.41c.39.39.9.59 1.41.59.51 0 1.02-.2 1.41-.59l7.78-7.78 2.81-2.81c.8-.78.8-2.07 0-2.86zM5.41 20L4 18.59l7.72-7.72 1.47 1.35L5.41 20z\"/>\n",
              "  </svg>\n",
              "      </button>\n",
              "      \n",
              "  <style>\n",
              "    .colab-df-container {\n",
              "      display:flex;\n",
              "      flex-wrap:wrap;\n",
              "      gap: 12px;\n",
              "    }\n",
              "\n",
              "    .colab-df-convert {\n",
              "      background-color: #E8F0FE;\n",
              "      border: none;\n",
              "      border-radius: 50%;\n",
              "      cursor: pointer;\n",
              "      display: none;\n",
              "      fill: #1967D2;\n",
              "      height: 32px;\n",
              "      padding: 0 0 0 0;\n",
              "      width: 32px;\n",
              "    }\n",
              "\n",
              "    .colab-df-convert:hover {\n",
              "      background-color: #E2EBFA;\n",
              "      box-shadow: 0px 1px 2px rgba(60, 64, 67, 0.3), 0px 1px 3px 1px rgba(60, 64, 67, 0.15);\n",
              "      fill: #174EA6;\n",
              "    }\n",
              "\n",
              "    [theme=dark] .colab-df-convert {\n",
              "      background-color: #3B4455;\n",
              "      fill: #D2E3FC;\n",
              "    }\n",
              "\n",
              "    [theme=dark] .colab-df-convert:hover {\n",
              "      background-color: #434B5C;\n",
              "      box-shadow: 0px 1px 3px 1px rgba(0, 0, 0, 0.15);\n",
              "      filter: drop-shadow(0px 1px 2px rgba(0, 0, 0, 0.3));\n",
              "      fill: #FFFFFF;\n",
              "    }\n",
              "  </style>\n",
              "\n",
              "      <script>\n",
              "        const buttonEl =\n",
              "          document.querySelector('#df-1422805c-9d8b-44f5-91cb-65b94ae272ba button.colab-df-convert');\n",
              "        buttonEl.style.display =\n",
              "          google.colab.kernel.accessAllowed ? 'block' : 'none';\n",
              "\n",
              "        async function convertToInteractive(key) {\n",
              "          const element = document.querySelector('#df-1422805c-9d8b-44f5-91cb-65b94ae272ba');\n",
              "          const dataTable =\n",
              "            await google.colab.kernel.invokeFunction('convertToInteractive',\n",
              "                                                     [key], {});\n",
              "          if (!dataTable) return;\n",
              "\n",
              "          const docLinkHtml = 'Like what you see? Visit the ' +\n",
              "            '<a target=\"_blank\" href=https://colab.research.google.com/notebooks/data_table.ipynb>data table notebook</a>'\n",
              "            + ' to learn more about interactive tables.';\n",
              "          element.innerHTML = '';\n",
              "          dataTable['output_type'] = 'display_data';\n",
              "          await google.colab.output.renderOutput(dataTable, element);\n",
              "          const docLink = document.createElement('div');\n",
              "          docLink.innerHTML = docLinkHtml;\n",
              "          element.appendChild(docLink);\n",
              "        }\n",
              "      </script>\n",
              "    </div>\n",
              "  </div>\n",
              "  "
            ],
            "text/plain": [
              "                                           paragraph  \\\n",
              "0  وتحت عنوان من الكارثة إلى التحدى يبدأ الكاتب ع...   \n",
              "1  ولم يعترف دبلوماسيو هاتين الدولتين بالعريضة ال...   \n",
              "2  قامت ولاية حلب بعد اعلان الجنرال الفرنسي هنري ...   \n",
              "3  دولة مصر العربيه هي ليست اي دوله وليست اي شعب ...   \n",
              "4  السوريون يصرون على استقلال بلادهم : و مثلما رف...   \n",
              "\n",
              "                                             summary  tokens_paragraph  \\\n",
              "0  يبدأ الكاتب عرض الكتاب الرابع تحت عنوان من الك...               335   \n",
              "1  دبلوماسيو الدولتين لم يعترفوا بالعريضة التي قا...               277   \n",
              "2  أعلن غورو الانتداب الفرنسي على سوريا لكي يعاقب...               339   \n",
              "3  مصر هي أم البلاد، وقائدة العرب؛ فهي أرض بلاد ا...               282   \n",
              "4  الشعب السوري يصر على استقلال بلدهم من السيطرة ...               259   \n",
              "\n",
              "                                    translated_input  \\\n",
              "0  Under the title From Disaster to Challenge, th...   \n",
              "1  The diplomats of these two countries did not r...   \n",
              "2  The mandate of Aleppo was established after th...   \n",
              "3  The Arab state of Egypt is not any country and...   \n",
              "4  The Syrians insist on the independence of thei...   \n",
              "\n",
              "                                  translated_summary  \n",
              "0  The writer begins presenting the fourth book u...  \n",
              "1  The diplomats of the two countries did not rec...  \n",
              "2  Gouraud declared the French mandate over Syria...  \n",
              "3  Egypt is the mother of the country, and the le...  \n",
              "4  The Syrian people insist on the independence o...  "
            ]
          },
          "execution_count": 138,
          "metadata": {},
          "output_type": "execute_result"
        }
      ],
      "source": [
        "reviews.head()"
      ]
    },
    {
      "cell_type": "markdown",
      "metadata": {
        "id": "o640ZK1zEJUU"
      },
      "source": [
        "# Step 6: Evaluation using ROUGE metrics\n",
        "+ ROUGE: (Recall-Oriented Understudy for Gisting Evaluation)\n",
        "+ used for evaluating the quality of text summarization outputs."
      ]
    },
    {
      "cell_type": "markdown",
      "metadata": {
        "id": "rZuwLl88ESMt"
      },
      "source": [
        "Initialize object from ROUGE metric"
      ]
    },
    {
      "cell_type": "code",
      "execution_count": null,
      "metadata": {
        "colab": {
          "base_uri": "https://localhost:8080/"
        },
        "id": "W5XkkGSOFCJD",
        "outputId": "84b1f5cd-77a0-44e1-9b72-aadb1f4613af"
      },
      "outputs": [
        {
          "name": "stdout",
          "output_type": "stream",
          "text": [
            "Collecting rouge\n",
            "  Downloading rouge-1.0.1-py3-none-any.whl (13 kB)\n",
            "Requirement already satisfied: six in /usr/local/lib/python3.10/dist-packages (from rouge) (1.16.0)\n",
            "Installing collected packages: rouge\n",
            "Successfully installed rouge-1.0.1\n"
          ]
        }
      ],
      "source": [
        "!pip install rouge"
      ]
    },
    {
      "cell_type": "code",
      "execution_count": null,
      "metadata": {
        "id": "xH63FTVzVBY5"
      },
      "outputs": [],
      "source": [
        "from rouge import Rouge"
      ]
    },
    {
      "cell_type": "code",
      "execution_count": null,
      "metadata": {
        "id": "dRLYv6ShEN2b"
      },
      "outputs": [],
      "source": [
        "rouge = Rouge()"
      ]
    },
    {
      "cell_type": "markdown",
      "metadata": {
        "id": "aLCvaOVOEW60"
      },
      "source": [
        "+ Prepare the references and hypotheses:\n",
        "  - column [summary] is references..\n",
        "      - Convert the reference summaries from the dataset into a list\n",
        "  - column [generated_summary] is hypotheses..\n",
        "      - Convert the generated summaries into a list"
      ]
    },
    {
      "cell_type": "code",
      "execution_count": null,
      "metadata": {
        "id": "XqY5d27xEaPs"
      },
      "outputs": [],
      "source": [
        "references = reviews['summary'].tolist()\n",
        "hypotheses = reviews['translated_generated_summary'].tolist()"
      ]
    },
    {
      "cell_type": "markdown",
      "metadata": {
        "id": "lQ7gjHPAEcnb"
      },
      "source": [
        "- Pass hypotheses and references for method get_scores to compute the ROUGE scores:\n",
        "- avg= True >> compute average scores for all the scores."
      ]
    },
    {
      "cell_type": "code",
      "execution_count": null,
      "metadata": {
        "id": "_XzTQ-a2EkAM"
      },
      "outputs": [],
      "source": [
        "scores = rouge.get_scores(hypotheses, references, avg=True)"
      ]
    },
    {
      "cell_type": "markdown",
      "metadata": {
        "id": "sInoPZQKEnTC"
      },
      "source": [
        "- ROUGE-1: measures the overlap of `unigrams (single words)` between the generated summary (hypotheses) and the reference summary.\n",
        "\n",
        "- ROUGE-2: measures the overlap of `bigrams (pairs of consecutive words)` between the generated summary (hypotheses) and the reference summary.\n",
        "\n",
        "- ROUGE-L: measures the `longest common subsequence (LCS)` between the generated summary (hypotheses) and the reference summary.\n",
        "\n",
        "- Precision: ratio of the number of overlapping unigrams (ROUGE-1), bigrams (ROUGE-2) or LCS (ROUGE-L) between the generated and reference summaries to the number of unigrams or bigrams or LCS in the `generated summary`.\n",
        "\n",
        "- Recall: ratio of the number of overlapping unigrams (ROUGE-1), bigrams (ROUGE-2) or LCS (ROUGE-L) between the generated and reference summaries to the number of unigrams or bigrams or LCS in the `reference summary`.\n",
        "\n",
        "- ROUGE-1 Score: `harmonic mean` of precision and recall."
      ]
    },
    {
      "cell_type": "code",
      "execution_count": null,
      "metadata": {
        "colab": {
          "base_uri": "https://localhost:8080/"
        },
        "id": "UQ_hckHQEq8L",
        "outputId": "a740947d-c3e1-4f97-efa6-4111fdf30737"
      },
      "outputs": [
        {
          "name": "stdout",
          "output_type": "stream",
          "text": [
            "ROUGE-1:  {'r': 0.3308031581446099, 'p': 0.2542094324798377, 'f': 0.28333861105266034}\n",
            "ROUGE-2:  {'r': 0.13341039117132267, 'p': 0.09618884396667958, 'f': 0.10992527927531713}\n",
            "ROUGE-L:  {'r': 0.29782247253994265, 'p': 0.2294899976887636, 'f': 0.2554882608229676}\n",
            "Precision:  0.2542094324798377\n",
            "Recall:  0.3308031581446099\n",
            "ROUGE-1 Score:  0.28333861105266034\n"
          ]
        }
      ],
      "source": [
        "print(\"ROUGE-1: \", scores['rouge-1'])\n",
        "print(\"ROUGE-2: \", scores['rouge-2'])\n",
        "print(\"ROUGE-L: \", scores['rouge-l'])\n",
        "print(\"Precision: \", scores['rouge-1']['p'])\n",
        "print(\"Recall: \", scores['rouge-1']['r'])\n",
        "print(\"ROUGE-1 Score: \", scores['rouge-1']['f'])"
      ]
    },
    {
      "cell_type": "markdown",
      "metadata": {
        "id": "bgSMH4-4EFhi"
      },
      "source": [
        "# Step 7: Save the model"
      ]
    },
    {
      "cell_type": "code",
      "execution_count": null,
      "metadata": {
        "colab": {
          "base_uri": "https://localhost:8080/"
        },
        "id": "HsPGprgEGZHv",
        "outputId": "3fd7caf1-aa24-4892-8bd6-fef8e904640c"
      },
      "outputs": [
        {
          "data": {
            "text/plain": [
              "('model_summary_arabic/tokenizer_config.json',\n",
              " 'model_summary_arabic/special_tokens_map.json',\n",
              " 'model_summary_arabic/spiece.model',\n",
              " 'model_summary_arabic/added_tokens.json')"
            ]
          },
          "execution_count": 40,
          "metadata": {},
          "output_type": "execute_result"
        }
      ],
      "source": [
        "# Save the trained model\n",
        "output_dir = \"model_summary_arabic\"\n",
        "model.save_pretrained(output_dir)\n",
        "tokenizer.save_pretrained(output_dir)"
      ]
    },
    {
      "cell_type": "markdown",
      "metadata": {
        "id": "YvEcOqBlODRX"
      },
      "source": [
        "# Step 8: Test\n",
        "  + with test dataset !!"
      ]
    },
    {
      "cell_type": "code",
      "execution_count": null,
      "metadata": {
        "id": "tyZ9AeRHKE2W"
      },
      "outputs": [],
      "source": []
    },
    {
      "cell_type": "markdown",
      "metadata": {
        "id": "mvbEowsi5dn0"
      },
      "source": [
        "# Final Step:\n",
        "  + create Dataframe \"translated_generated_summary\" has one column called \"summary\"\n",
        "  + convert it to json file called \"predictions.jsonl\n",
        "  + compress it to zip format which will be submitted"
      ]
    },
    {
      "cell_type": "code",
      "execution_count": null,
      "metadata": {
        "colab": {
          "base_uri": "https://localhost:8080/",
          "height": 206
        },
        "id": "RGjj8bad5eLs",
        "outputId": "6d448d9b-2533-4003-c849-3783ef3b28cd"
      },
      "outputs": [
        {
          "data": {
            "text/html": [
              "\n",
              "  <div id=\"df-4d655e64-1172-4568-b440-8e55654889d4\">\n",
              "    <div class=\"colab-df-container\">\n",
              "      <div>\n",
              "<style scoped>\n",
              "    .dataframe tbody tr th:only-of-type {\n",
              "        vertical-align: middle;\n",
              "    }\n",
              "\n",
              "    .dataframe tbody tr th {\n",
              "        vertical-align: top;\n",
              "    }\n",
              "\n",
              "    .dataframe thead th {\n",
              "        text-align: right;\n",
              "    }\n",
              "</style>\n",
              "<table border=\"1\" class=\"dataframe\">\n",
              "  <thead>\n",
              "    <tr style=\"text-align: right;\">\n",
              "      <th></th>\n",
              "      <th>translated_generated_summary</th>\n",
              "    </tr>\n",
              "  </thead>\n",
              "  <tbody>\n",
              "    <tr>\n",
              "      <th>0</th>\n",
              "      <td>يبدأ الكاتب في تقديم الكتاب الرابع بعنوان من ك...</td>\n",
              "    </tr>\n",
              "    <tr>\n",
              "      <th>1</th>\n",
              "      <td>ولم يعترف دبلوماسيو هاتين الدولتين بالعريضة ال...</td>\n",
              "    </tr>\n",
              "    <tr>\n",
              "      <th>2</th>\n",
              "      <td>لقد أعلننا التاريخ الفرنسي على سوريا من أجل تأ...</td>\n",
              "    </tr>\n",
              "    <tr>\n",
              "      <th>3</th>\n",
              "      <td>مصر أم الوطن ، وقلب العرب ، والمساندة الصامدة ...</td>\n",
              "    </tr>\n",
              "    <tr>\n",
              "      <th>4</th>\n",
              "      <td>فكما رفض السوريون السيطرة العثمانية ، رفضوا في...</td>\n",
              "    </tr>\n",
              "  </tbody>\n",
              "</table>\n",
              "</div>\n",
              "      <button class=\"colab-df-convert\" onclick=\"convertToInteractive('df-4d655e64-1172-4568-b440-8e55654889d4')\"\n",
              "              title=\"Convert this dataframe to an interactive table.\"\n",
              "              style=\"display:none;\">\n",
              "        \n",
              "  <svg xmlns=\"http://www.w3.org/2000/svg\" height=\"24px\"viewBox=\"0 0 24 24\"\n",
              "       width=\"24px\">\n",
              "    <path d=\"M0 0h24v24H0V0z\" fill=\"none\"/>\n",
              "    <path d=\"M18.56 5.44l.94 2.06.94-2.06 2.06-.94-2.06-.94-.94-2.06-.94 2.06-2.06.94zm-11 1L8.5 8.5l.94-2.06 2.06-.94-2.06-.94L8.5 2.5l-.94 2.06-2.06.94zm10 10l.94 2.06.94-2.06 2.06-.94-2.06-.94-.94-2.06-.94 2.06-2.06.94z\"/><path d=\"M17.41 7.96l-1.37-1.37c-.4-.4-.92-.59-1.43-.59-.52 0-1.04.2-1.43.59L10.3 9.45l-7.72 7.72c-.78.78-.78 2.05 0 2.83L4 21.41c.39.39.9.59 1.41.59.51 0 1.02-.2 1.41-.59l7.78-7.78 2.81-2.81c.8-.78.8-2.07 0-2.86zM5.41 20L4 18.59l7.72-7.72 1.47 1.35L5.41 20z\"/>\n",
              "  </svg>\n",
              "      </button>\n",
              "      \n",
              "  <style>\n",
              "    .colab-df-container {\n",
              "      display:flex;\n",
              "      flex-wrap:wrap;\n",
              "      gap: 12px;\n",
              "    }\n",
              "\n",
              "    .colab-df-convert {\n",
              "      background-color: #E8F0FE;\n",
              "      border: none;\n",
              "      border-radius: 50%;\n",
              "      cursor: pointer;\n",
              "      display: none;\n",
              "      fill: #1967D2;\n",
              "      height: 32px;\n",
              "      padding: 0 0 0 0;\n",
              "      width: 32px;\n",
              "    }\n",
              "\n",
              "    .colab-df-convert:hover {\n",
              "      background-color: #E2EBFA;\n",
              "      box-shadow: 0px 1px 2px rgba(60, 64, 67, 0.3), 0px 1px 3px 1px rgba(60, 64, 67, 0.15);\n",
              "      fill: #174EA6;\n",
              "    }\n",
              "\n",
              "    [theme=dark] .colab-df-convert {\n",
              "      background-color: #3B4455;\n",
              "      fill: #D2E3FC;\n",
              "    }\n",
              "\n",
              "    [theme=dark] .colab-df-convert:hover {\n",
              "      background-color: #434B5C;\n",
              "      box-shadow: 0px 1px 3px 1px rgba(0, 0, 0, 0.15);\n",
              "      filter: drop-shadow(0px 1px 2px rgba(0, 0, 0, 0.3));\n",
              "      fill: #FFFFFF;\n",
              "    }\n",
              "  </style>\n",
              "\n",
              "      <script>\n",
              "        const buttonEl =\n",
              "          document.querySelector('#df-4d655e64-1172-4568-b440-8e55654889d4 button.colab-df-convert');\n",
              "        buttonEl.style.display =\n",
              "          google.colab.kernel.accessAllowed ? 'block' : 'none';\n",
              "\n",
              "        async function convertToInteractive(key) {\n",
              "          const element = document.querySelector('#df-4d655e64-1172-4568-b440-8e55654889d4');\n",
              "          const dataTable =\n",
              "            await google.colab.kernel.invokeFunction('convertToInteractive',\n",
              "                                                     [key], {});\n",
              "          if (!dataTable) return;\n",
              "\n",
              "          const docLinkHtml = 'Like what you see? Visit the ' +\n",
              "            '<a target=\"_blank\" href=https://colab.research.google.com/notebooks/data_table.ipynb>data table notebook</a>'\n",
              "            + ' to learn more about interactive tables.';\n",
              "          element.innerHTML = '';\n",
              "          dataTable['output_type'] = 'display_data';\n",
              "          await google.colab.output.renderOutput(dataTable, element);\n",
              "          const docLink = document.createElement('div');\n",
              "          docLink.innerHTML = docLinkHtml;\n",
              "          element.appendChild(docLink);\n",
              "        }\n",
              "      </script>\n",
              "    </div>\n",
              "  </div>\n",
              "  "
            ],
            "text/plain": [
              "                        translated_generated_summary\n",
              "0  يبدأ الكاتب في تقديم الكتاب الرابع بعنوان من ك...\n",
              "1  ولم يعترف دبلوماسيو هاتين الدولتين بالعريضة ال...\n",
              "2  لقد أعلننا التاريخ الفرنسي على سوريا من أجل تأ...\n",
              "3  مصر أم الوطن ، وقلب العرب ، والمساندة الصامدة ...\n",
              "4  فكما رفض السوريون السيطرة العثمانية ، رفضوا في..."
            ]
          },
          "execution_count": 41,
          "metadata": {},
          "output_type": "execute_result"
        }
      ],
      "source": [
        "# create DataFrame from column \"\"\n",
        "dataset_predictions= pd.DataFrame(reviews['translated_generated_summary'])\n",
        "dataset_predictions.head()"
      ]
    },
    {
      "cell_type": "code",
      "execution_count": null,
      "metadata": {
        "id": "OXK_PTA4TkEK"
      },
      "outputs": [],
      "source": [
        "# convert DataFrame to JSON data\n",
        "dataset_predictions = dataset_predictions.to_json(\"predictions.jsonl\", lines=True, orient='records', force_ascii=False)"
      ]
    }
  ],
  "metadata": {
    "accelerator": "GPU",
    "colab": {
      "gpuType": "T4",
      "provenance": []
    },
    "kernelspec": {
      "display_name": "Python 3",
      "name": "python3"
    },
    "language_info": {
      "codemirror_mode": {
        "name": "ipython",
        "version": 3
      },
      "file_extension": ".py",
      "mimetype": "text/x-python",
      "name": "python",
      "nbconvert_exporter": "python",
      "pygments_lexer": "ipython3",
      "version": "3.11.0"
    },
    "widgets": {
      "application/vnd.jupyter.widget-state+json": {
        "0e9ce63276ea4aa4926c8ae2bc3203ba": {
          "model_module": "@jupyter-widgets/controls",
          "model_module_version": "1.5.0",
          "model_name": "DescriptionStyleModel",
          "state": {
            "_model_module": "@jupyter-widgets/controls",
            "_model_module_version": "1.5.0",
            "_model_name": "DescriptionStyleModel",
            "_view_count": null,
            "_view_module": "@jupyter-widgets/base",
            "_view_module_version": "1.2.0",
            "_view_name": "StyleView",
            "description_width": ""
          }
        },
        "23c19491f4d047ff8a14a5b99feaed51": {
          "model_module": "@jupyter-widgets/controls",
          "model_module_version": "1.5.0",
          "model_name": "DescriptionStyleModel",
          "state": {
            "_model_module": "@jupyter-widgets/controls",
            "_model_module_version": "1.5.0",
            "_model_name": "DescriptionStyleModel",
            "_view_count": null,
            "_view_module": "@jupyter-widgets/base",
            "_view_module_version": "1.2.0",
            "_view_name": "StyleView",
            "description_width": ""
          }
        },
        "316d2579a8604c59ac1e372f64302720": {
          "model_module": "@jupyter-widgets/controls",
          "model_module_version": "1.5.0",
          "model_name": "HTMLModel",
          "state": {
            "_dom_classes": [],
            "_model_module": "@jupyter-widgets/controls",
            "_model_module_version": "1.5.0",
            "_model_name": "HTMLModel",
            "_view_count": null,
            "_view_module": "@jupyter-widgets/controls",
            "_view_module_version": "1.5.0",
            "_view_name": "HTMLView",
            "description": "",
            "description_tooltip": null,
            "layout": "IPY_MODEL_5c4f6d6768794c2c932e96afaf732b3c",
            "placeholder": "​",
            "style": "IPY_MODEL_485add4cdf1d4dc4942d045985ce8d00",
            "value": "Downloading (…)neration_config.json: 100%"
          }
        },
        "31f89762ed81463988bc268b32746684": {
          "model_module": "@jupyter-widgets/controls",
          "model_module_version": "1.5.0",
          "model_name": "HBoxModel",
          "state": {
            "_dom_classes": [],
            "_model_module": "@jupyter-widgets/controls",
            "_model_module_version": "1.5.0",
            "_model_name": "HBoxModel",
            "_view_count": null,
            "_view_module": "@jupyter-widgets/controls",
            "_view_module_version": "1.5.0",
            "_view_name": "HBoxView",
            "box_style": "",
            "children": [
              "IPY_MODEL_6bb4d212a6b148cd9eee1a88403fb975",
              "IPY_MODEL_ea3252dcbba248d4aec44b6495379542",
              "IPY_MODEL_c922339c5b3840beaaeec469a254942d"
            ],
            "layout": "IPY_MODEL_e68acd29fd5541289f1a6d309986cd0a"
          }
        },
        "33fedaee1ee5409f87f43b937a7865f9": {
          "model_module": "@jupyter-widgets/base",
          "model_module_version": "1.2.0",
          "model_name": "LayoutModel",
          "state": {
            "_model_module": "@jupyter-widgets/base",
            "_model_module_version": "1.2.0",
            "_model_name": "LayoutModel",
            "_view_count": null,
            "_view_module": "@jupyter-widgets/base",
            "_view_module_version": "1.2.0",
            "_view_name": "LayoutView",
            "align_content": null,
            "align_items": null,
            "align_self": null,
            "border": null,
            "bottom": null,
            "display": null,
            "flex": null,
            "flex_flow": null,
            "grid_area": null,
            "grid_auto_columns": null,
            "grid_auto_flow": null,
            "grid_auto_rows": null,
            "grid_column": null,
            "grid_gap": null,
            "grid_row": null,
            "grid_template_areas": null,
            "grid_template_columns": null,
            "grid_template_rows": null,
            "height": null,
            "justify_content": null,
            "justify_items": null,
            "left": null,
            "margin": null,
            "max_height": null,
            "max_width": null,
            "min_height": null,
            "min_width": null,
            "object_fit": null,
            "object_position": null,
            "order": null,
            "overflow": null,
            "overflow_x": null,
            "overflow_y": null,
            "padding": null,
            "right": null,
            "top": null,
            "visibility": null,
            "width": null
          }
        },
        "35475178960743a9ab038edcc78a6089": {
          "model_module": "@jupyter-widgets/controls",
          "model_module_version": "1.5.0",
          "model_name": "HTMLModel",
          "state": {
            "_dom_classes": [],
            "_model_module": "@jupyter-widgets/controls",
            "_model_module_version": "1.5.0",
            "_model_name": "HTMLModel",
            "_view_count": null,
            "_view_module": "@jupyter-widgets/controls",
            "_view_module_version": "1.5.0",
            "_view_name": "HTMLView",
            "description": "",
            "description_tooltip": null,
            "layout": "IPY_MODEL_4caefed19ac9448e858f0d18c51e2781",
            "placeholder": "​",
            "style": "IPY_MODEL_862519dadede45e3a48a9e02ccd88bf0",
            "value": "Downloading model.safetensors: 100%"
          }
        },
        "3baadf1458114bc5a3019c62d3965f89": {
          "model_module": "@jupyter-widgets/base",
          "model_module_version": "1.2.0",
          "model_name": "LayoutModel",
          "state": {
            "_model_module": "@jupyter-widgets/base",
            "_model_module_version": "1.2.0",
            "_model_name": "LayoutModel",
            "_view_count": null,
            "_view_module": "@jupyter-widgets/base",
            "_view_module_version": "1.2.0",
            "_view_name": "LayoutView",
            "align_content": null,
            "align_items": null,
            "align_self": null,
            "border": null,
            "bottom": null,
            "display": null,
            "flex": null,
            "flex_flow": null,
            "grid_area": null,
            "grid_auto_columns": null,
            "grid_auto_flow": null,
            "grid_auto_rows": null,
            "grid_column": null,
            "grid_gap": null,
            "grid_row": null,
            "grid_template_areas": null,
            "grid_template_columns": null,
            "grid_template_rows": null,
            "height": null,
            "justify_content": null,
            "justify_items": null,
            "left": null,
            "margin": null,
            "max_height": null,
            "max_width": null,
            "min_height": null,
            "min_width": null,
            "object_fit": null,
            "object_position": null,
            "order": null,
            "overflow": null,
            "overflow_x": null,
            "overflow_y": null,
            "padding": null,
            "right": null,
            "top": null,
            "visibility": null,
            "width": null
          }
        },
        "3c18caaf58b24f53af0a1f9b2cb36b48": {
          "model_module": "@jupyter-widgets/controls",
          "model_module_version": "1.5.0",
          "model_name": "HTMLModel",
          "state": {
            "_dom_classes": [],
            "_model_module": "@jupyter-widgets/controls",
            "_model_module_version": "1.5.0",
            "_model_name": "HTMLModel",
            "_view_count": null,
            "_view_module": "@jupyter-widgets/controls",
            "_view_module_version": "1.5.0",
            "_view_name": "HTMLView",
            "description": "",
            "description_tooltip": null,
            "layout": "IPY_MODEL_3baadf1458114bc5a3019c62d3965f89",
            "placeholder": "​",
            "style": "IPY_MODEL_4dec023c37af48e9865db96e8083efcf",
            "value": " 147/147 [00:00&lt;00:00, 8.67kB/s]"
          }
        },
        "481e5fd1cf144cb69b6202f7466a7ea2": {
          "model_module": "@jupyter-widgets/base",
          "model_module_version": "1.2.0",
          "model_name": "LayoutModel",
          "state": {
            "_model_module": "@jupyter-widgets/base",
            "_model_module_version": "1.2.0",
            "_model_name": "LayoutModel",
            "_view_count": null,
            "_view_module": "@jupyter-widgets/base",
            "_view_module_version": "1.2.0",
            "_view_name": "LayoutView",
            "align_content": null,
            "align_items": null,
            "align_self": null,
            "border": null,
            "bottom": null,
            "display": null,
            "flex": null,
            "flex_flow": null,
            "grid_area": null,
            "grid_auto_columns": null,
            "grid_auto_flow": null,
            "grid_auto_rows": null,
            "grid_column": null,
            "grid_gap": null,
            "grid_row": null,
            "grid_template_areas": null,
            "grid_template_columns": null,
            "grid_template_rows": null,
            "height": null,
            "justify_content": null,
            "justify_items": null,
            "left": null,
            "margin": null,
            "max_height": null,
            "max_width": null,
            "min_height": null,
            "min_width": null,
            "object_fit": null,
            "object_position": null,
            "order": null,
            "overflow": null,
            "overflow_x": null,
            "overflow_y": null,
            "padding": null,
            "right": null,
            "top": null,
            "visibility": null,
            "width": null
          }
        },
        "485add4cdf1d4dc4942d045985ce8d00": {
          "model_module": "@jupyter-widgets/controls",
          "model_module_version": "1.5.0",
          "model_name": "DescriptionStyleModel",
          "state": {
            "_model_module": "@jupyter-widgets/controls",
            "_model_module_version": "1.5.0",
            "_model_name": "DescriptionStyleModel",
            "_view_count": null,
            "_view_module": "@jupyter-widgets/base",
            "_view_module_version": "1.2.0",
            "_view_name": "StyleView",
            "description_width": ""
          }
        },
        "4caefed19ac9448e858f0d18c51e2781": {
          "model_module": "@jupyter-widgets/base",
          "model_module_version": "1.2.0",
          "model_name": "LayoutModel",
          "state": {
            "_model_module": "@jupyter-widgets/base",
            "_model_module_version": "1.2.0",
            "_model_name": "LayoutModel",
            "_view_count": null,
            "_view_module": "@jupyter-widgets/base",
            "_view_module_version": "1.2.0",
            "_view_name": "LayoutView",
            "align_content": null,
            "align_items": null,
            "align_self": null,
            "border": null,
            "bottom": null,
            "display": null,
            "flex": null,
            "flex_flow": null,
            "grid_area": null,
            "grid_auto_columns": null,
            "grid_auto_flow": null,
            "grid_auto_rows": null,
            "grid_column": null,
            "grid_gap": null,
            "grid_row": null,
            "grid_template_areas": null,
            "grid_template_columns": null,
            "grid_template_rows": null,
            "height": null,
            "justify_content": null,
            "justify_items": null,
            "left": null,
            "margin": null,
            "max_height": null,
            "max_width": null,
            "min_height": null,
            "min_width": null,
            "object_fit": null,
            "object_position": null,
            "order": null,
            "overflow": null,
            "overflow_x": null,
            "overflow_y": null,
            "padding": null,
            "right": null,
            "top": null,
            "visibility": null,
            "width": null
          }
        },
        "4dec023c37af48e9865db96e8083efcf": {
          "model_module": "@jupyter-widgets/controls",
          "model_module_version": "1.5.0",
          "model_name": "DescriptionStyleModel",
          "state": {
            "_model_module": "@jupyter-widgets/controls",
            "_model_module_version": "1.5.0",
            "_model_name": "DescriptionStyleModel",
            "_view_count": null,
            "_view_module": "@jupyter-widgets/base",
            "_view_module_version": "1.2.0",
            "_view_name": "StyleView",
            "description_width": ""
          }
        },
        "542313366df442e5b13091a67f9bbfb9": {
          "model_module": "@jupyter-widgets/controls",
          "model_module_version": "1.5.0",
          "model_name": "ProgressStyleModel",
          "state": {
            "_model_module": "@jupyter-widgets/controls",
            "_model_module_version": "1.5.0",
            "_model_name": "ProgressStyleModel",
            "_view_count": null,
            "_view_module": "@jupyter-widgets/base",
            "_view_module_version": "1.2.0",
            "_view_name": "StyleView",
            "bar_color": null,
            "description_width": ""
          }
        },
        "5c4f6d6768794c2c932e96afaf732b3c": {
          "model_module": "@jupyter-widgets/base",
          "model_module_version": "1.2.0",
          "model_name": "LayoutModel",
          "state": {
            "_model_module": "@jupyter-widgets/base",
            "_model_module_version": "1.2.0",
            "_model_name": "LayoutModel",
            "_view_count": null,
            "_view_module": "@jupyter-widgets/base",
            "_view_module_version": "1.2.0",
            "_view_name": "LayoutView",
            "align_content": null,
            "align_items": null,
            "align_self": null,
            "border": null,
            "bottom": null,
            "display": null,
            "flex": null,
            "flex_flow": null,
            "grid_area": null,
            "grid_auto_columns": null,
            "grid_auto_flow": null,
            "grid_auto_rows": null,
            "grid_column": null,
            "grid_gap": null,
            "grid_row": null,
            "grid_template_areas": null,
            "grid_template_columns": null,
            "grid_template_rows": null,
            "height": null,
            "justify_content": null,
            "justify_items": null,
            "left": null,
            "margin": null,
            "max_height": null,
            "max_width": null,
            "min_height": null,
            "min_width": null,
            "object_fit": null,
            "object_position": null,
            "order": null,
            "overflow": null,
            "overflow_x": null,
            "overflow_y": null,
            "padding": null,
            "right": null,
            "top": null,
            "visibility": null,
            "width": null
          }
        },
        "5ce25563fac1441da57e7c85e8ee47af": {
          "model_module": "@jupyter-widgets/controls",
          "model_module_version": "1.5.0",
          "model_name": "DescriptionStyleModel",
          "state": {
            "_model_module": "@jupyter-widgets/controls",
            "_model_module_version": "1.5.0",
            "_model_name": "DescriptionStyleModel",
            "_view_count": null,
            "_view_module": "@jupyter-widgets/base",
            "_view_module_version": "1.2.0",
            "_view_name": "StyleView",
            "description_width": ""
          }
        },
        "696ff2f95eb04f8f9047f9bfced986e8": {
          "model_module": "@jupyter-widgets/controls",
          "model_module_version": "1.5.0",
          "model_name": "HBoxModel",
          "state": {
            "_dom_classes": [],
            "_model_module": "@jupyter-widgets/controls",
            "_model_module_version": "1.5.0",
            "_model_name": "HBoxModel",
            "_view_count": null,
            "_view_module": "@jupyter-widgets/controls",
            "_view_module_version": "1.5.0",
            "_view_name": "HBoxView",
            "box_style": "",
            "children": [
              "IPY_MODEL_316d2579a8604c59ac1e372f64302720",
              "IPY_MODEL_a26acc0ef5a1493580b19de565e8efde",
              "IPY_MODEL_3c18caaf58b24f53af0a1f9b2cb36b48"
            ],
            "layout": "IPY_MODEL_d9877fcd42644b85b2133e2ce1ddac1c"
          }
        },
        "6bb4d212a6b148cd9eee1a88403fb975": {
          "model_module": "@jupyter-widgets/controls",
          "model_module_version": "1.5.0",
          "model_name": "HTMLModel",
          "state": {
            "_dom_classes": [],
            "_model_module": "@jupyter-widgets/controls",
            "_model_module_version": "1.5.0",
            "_model_name": "HTMLModel",
            "_view_count": null,
            "_view_module": "@jupyter-widgets/controls",
            "_view_module_version": "1.5.0",
            "_view_name": "HTMLView",
            "description": "",
            "description_tooltip": null,
            "layout": "IPY_MODEL_ac9a808ba0b141c19b89d64cc6e84a91",
            "placeholder": "​",
            "style": "IPY_MODEL_0e9ce63276ea4aa4926c8ae2bc3203ba",
            "value": "Downloading (…)ve/main/spiece.model: 100%"
          }
        },
        "6bf9aba3d26d4b0bb37b5c001a64df7d": {
          "model_module": "@jupyter-widgets/base",
          "model_module_version": "1.2.0",
          "model_name": "LayoutModel",
          "state": {
            "_model_module": "@jupyter-widgets/base",
            "_model_module_version": "1.2.0",
            "_model_name": "LayoutModel",
            "_view_count": null,
            "_view_module": "@jupyter-widgets/base",
            "_view_module_version": "1.2.0",
            "_view_name": "LayoutView",
            "align_content": null,
            "align_items": null,
            "align_self": null,
            "border": null,
            "bottom": null,
            "display": null,
            "flex": null,
            "flex_flow": null,
            "grid_area": null,
            "grid_auto_columns": null,
            "grid_auto_flow": null,
            "grid_auto_rows": null,
            "grid_column": null,
            "grid_gap": null,
            "grid_row": null,
            "grid_template_areas": null,
            "grid_template_columns": null,
            "grid_template_rows": null,
            "height": null,
            "justify_content": null,
            "justify_items": null,
            "left": null,
            "margin": null,
            "max_height": null,
            "max_width": null,
            "min_height": null,
            "min_width": null,
            "object_fit": null,
            "object_position": null,
            "order": null,
            "overflow": null,
            "overflow_x": null,
            "overflow_y": null,
            "padding": null,
            "right": null,
            "top": null,
            "visibility": null,
            "width": null
          }
        },
        "6e0d6161a6db4481b706f96142d7a1ac": {
          "model_module": "@jupyter-widgets/base",
          "model_module_version": "1.2.0",
          "model_name": "LayoutModel",
          "state": {
            "_model_module": "@jupyter-widgets/base",
            "_model_module_version": "1.2.0",
            "_model_name": "LayoutModel",
            "_view_count": null,
            "_view_module": "@jupyter-widgets/base",
            "_view_module_version": "1.2.0",
            "_view_name": "LayoutView",
            "align_content": null,
            "align_items": null,
            "align_self": null,
            "border": null,
            "bottom": null,
            "display": null,
            "flex": null,
            "flex_flow": null,
            "grid_area": null,
            "grid_auto_columns": null,
            "grid_auto_flow": null,
            "grid_auto_rows": null,
            "grid_column": null,
            "grid_gap": null,
            "grid_row": null,
            "grid_template_areas": null,
            "grid_template_columns": null,
            "grid_template_rows": null,
            "height": null,
            "justify_content": null,
            "justify_items": null,
            "left": null,
            "margin": null,
            "max_height": null,
            "max_width": null,
            "min_height": null,
            "min_width": null,
            "object_fit": null,
            "object_position": null,
            "order": null,
            "overflow": null,
            "overflow_x": null,
            "overflow_y": null,
            "padding": null,
            "right": null,
            "top": null,
            "visibility": null,
            "width": null
          }
        },
        "6e114820eb2b4b00bcf0254589eaa1f6": {
          "model_module": "@jupyter-widgets/controls",
          "model_module_version": "1.5.0",
          "model_name": "ProgressStyleModel",
          "state": {
            "_model_module": "@jupyter-widgets/controls",
            "_model_module_version": "1.5.0",
            "_model_name": "ProgressStyleModel",
            "_view_count": null,
            "_view_module": "@jupyter-widgets/base",
            "_view_module_version": "1.2.0",
            "_view_name": "StyleView",
            "bar_color": null,
            "description_width": ""
          }
        },
        "71fbe8e730834ea0bfb60d95cf3d4483": {
          "model_module": "@jupyter-widgets/base",
          "model_module_version": "1.2.0",
          "model_name": "LayoutModel",
          "state": {
            "_model_module": "@jupyter-widgets/base",
            "_model_module_version": "1.2.0",
            "_model_name": "LayoutModel",
            "_view_count": null,
            "_view_module": "@jupyter-widgets/base",
            "_view_module_version": "1.2.0",
            "_view_name": "LayoutView",
            "align_content": null,
            "align_items": null,
            "align_self": null,
            "border": null,
            "bottom": null,
            "display": null,
            "flex": null,
            "flex_flow": null,
            "grid_area": null,
            "grid_auto_columns": null,
            "grid_auto_flow": null,
            "grid_auto_rows": null,
            "grid_column": null,
            "grid_gap": null,
            "grid_row": null,
            "grid_template_areas": null,
            "grid_template_columns": null,
            "grid_template_rows": null,
            "height": null,
            "justify_content": null,
            "justify_items": null,
            "left": null,
            "margin": null,
            "max_height": null,
            "max_width": null,
            "min_height": null,
            "min_width": null,
            "object_fit": null,
            "object_position": null,
            "order": null,
            "overflow": null,
            "overflow_x": null,
            "overflow_y": null,
            "padding": null,
            "right": null,
            "top": null,
            "visibility": null,
            "width": null
          }
        },
        "74436fbe705041b385abcbd8879516ce": {
          "model_module": "@jupyter-widgets/base",
          "model_module_version": "1.2.0",
          "model_name": "LayoutModel",
          "state": {
            "_model_module": "@jupyter-widgets/base",
            "_model_module_version": "1.2.0",
            "_model_name": "LayoutModel",
            "_view_count": null,
            "_view_module": "@jupyter-widgets/base",
            "_view_module_version": "1.2.0",
            "_view_name": "LayoutView",
            "align_content": null,
            "align_items": null,
            "align_self": null,
            "border": null,
            "bottom": null,
            "display": null,
            "flex": null,
            "flex_flow": null,
            "grid_area": null,
            "grid_auto_columns": null,
            "grid_auto_flow": null,
            "grid_auto_rows": null,
            "grid_column": null,
            "grid_gap": null,
            "grid_row": null,
            "grid_template_areas": null,
            "grid_template_columns": null,
            "grid_template_rows": null,
            "height": null,
            "justify_content": null,
            "justify_items": null,
            "left": null,
            "margin": null,
            "max_height": null,
            "max_width": null,
            "min_height": null,
            "min_width": null,
            "object_fit": null,
            "object_position": null,
            "order": null,
            "overflow": null,
            "overflow_x": null,
            "overflow_y": null,
            "padding": null,
            "right": null,
            "top": null,
            "visibility": null,
            "width": null
          }
        },
        "79e1aebcca5847c8b09ae7ec86375fc6": {
          "model_module": "@jupyter-widgets/controls",
          "model_module_version": "1.5.0",
          "model_name": "ProgressStyleModel",
          "state": {
            "_model_module": "@jupyter-widgets/controls",
            "_model_module_version": "1.5.0",
            "_model_name": "ProgressStyleModel",
            "_view_count": null,
            "_view_module": "@jupyter-widgets/base",
            "_view_module_version": "1.2.0",
            "_view_name": "StyleView",
            "bar_color": null,
            "description_width": ""
          }
        },
        "862519dadede45e3a48a9e02ccd88bf0": {
          "model_module": "@jupyter-widgets/controls",
          "model_module_version": "1.5.0",
          "model_name": "DescriptionStyleModel",
          "state": {
            "_model_module": "@jupyter-widgets/controls",
            "_model_module_version": "1.5.0",
            "_model_name": "DescriptionStyleModel",
            "_view_count": null,
            "_view_module": "@jupyter-widgets/base",
            "_view_module_version": "1.2.0",
            "_view_name": "StyleView",
            "description_width": ""
          }
        },
        "86b8eaa215a7481091e3229965bc66a8": {
          "model_module": "@jupyter-widgets/controls",
          "model_module_version": "1.5.0",
          "model_name": "HTMLModel",
          "state": {
            "_dom_classes": [],
            "_model_module": "@jupyter-widgets/controls",
            "_model_module_version": "1.5.0",
            "_model_name": "HTMLModel",
            "_view_count": null,
            "_view_module": "@jupyter-widgets/controls",
            "_view_module_version": "1.5.0",
            "_view_name": "HTMLView",
            "description": "",
            "description_tooltip": null,
            "layout": "IPY_MODEL_fbcdc4ba2f2848979b8bf551f6085b0c",
            "placeholder": "​",
            "style": "IPY_MODEL_f92b61d4e05a487baf4e117678c16769",
            "value": " 1.21k/1.21k [00:00&lt;00:00, 92.9kB/s]"
          }
        },
        "8dc115b03e654f458385c19003f5b108": {
          "model_module": "@jupyter-widgets/controls",
          "model_module_version": "1.5.0",
          "model_name": "HBoxModel",
          "state": {
            "_dom_classes": [],
            "_model_module": "@jupyter-widgets/controls",
            "_model_module_version": "1.5.0",
            "_model_name": "HBoxModel",
            "_view_count": null,
            "_view_module": "@jupyter-widgets/controls",
            "_view_module_version": "1.5.0",
            "_view_name": "HBoxView",
            "box_style": "",
            "children": [
              "IPY_MODEL_35475178960743a9ab038edcc78a6089",
              "IPY_MODEL_dc1316b044bb4b7892285ef05d7e80b6",
              "IPY_MODEL_9dc072ec186d4c24902e6ecd26b141fd"
            ],
            "layout": "IPY_MODEL_6e0d6161a6db4481b706f96142d7a1ac"
          }
        },
        "8f750ab52bd34c99baa5b97652056727": {
          "model_module": "@jupyter-widgets/base",
          "model_module_version": "1.2.0",
          "model_name": "LayoutModel",
          "state": {
            "_model_module": "@jupyter-widgets/base",
            "_model_module_version": "1.2.0",
            "_model_name": "LayoutModel",
            "_view_count": null,
            "_view_module": "@jupyter-widgets/base",
            "_view_module_version": "1.2.0",
            "_view_name": "LayoutView",
            "align_content": null,
            "align_items": null,
            "align_self": null,
            "border": null,
            "bottom": null,
            "display": null,
            "flex": null,
            "flex_flow": null,
            "grid_area": null,
            "grid_auto_columns": null,
            "grid_auto_flow": null,
            "grid_auto_rows": null,
            "grid_column": null,
            "grid_gap": null,
            "grid_row": null,
            "grid_template_areas": null,
            "grid_template_columns": null,
            "grid_template_rows": null,
            "height": null,
            "justify_content": null,
            "justify_items": null,
            "left": null,
            "margin": null,
            "max_height": null,
            "max_width": null,
            "min_height": null,
            "min_width": null,
            "object_fit": null,
            "object_position": null,
            "order": null,
            "overflow": null,
            "overflow_x": null,
            "overflow_y": null,
            "padding": null,
            "right": null,
            "top": null,
            "visibility": null,
            "width": null
          }
        },
        "92272f3babfd4a61ac4982ba1f26cd70": {
          "model_module": "@jupyter-widgets/controls",
          "model_module_version": "1.5.0",
          "model_name": "HBoxModel",
          "state": {
            "_dom_classes": [],
            "_model_module": "@jupyter-widgets/controls",
            "_model_module_version": "1.5.0",
            "_model_name": "HBoxModel",
            "_view_count": null,
            "_view_module": "@jupyter-widgets/controls",
            "_view_module_version": "1.5.0",
            "_view_name": "HBoxView",
            "box_style": "",
            "children": [
              "IPY_MODEL_d04da43afe1e495ba9382db36d8e9800",
              "IPY_MODEL_ac09b7471363477ca6611905e20e76d7",
              "IPY_MODEL_86b8eaa215a7481091e3229965bc66a8"
            ],
            "layout": "IPY_MODEL_f9c96d0d6d3d4ca49b7f15990e512737"
          }
        },
        "9dc072ec186d4c24902e6ecd26b141fd": {
          "model_module": "@jupyter-widgets/controls",
          "model_module_version": "1.5.0",
          "model_name": "HTMLModel",
          "state": {
            "_dom_classes": [],
            "_model_module": "@jupyter-widgets/controls",
            "_model_module_version": "1.5.0",
            "_model_name": "HTMLModel",
            "_view_count": null,
            "_view_module": "@jupyter-widgets/controls",
            "_view_module_version": "1.5.0",
            "_view_name": "HTMLView",
            "description": "",
            "description_tooltip": null,
            "layout": "IPY_MODEL_6bf9aba3d26d4b0bb37b5c001a64df7d",
            "placeholder": "​",
            "style": "IPY_MODEL_ba97471542ac43168a40048b8ddec860",
            "value": " 892M/892M [00:17&lt;00:00, 18.9MB/s]"
          }
        },
        "a26acc0ef5a1493580b19de565e8efde": {
          "model_module": "@jupyter-widgets/controls",
          "model_module_version": "1.5.0",
          "model_name": "FloatProgressModel",
          "state": {
            "_dom_classes": [],
            "_model_module": "@jupyter-widgets/controls",
            "_model_module_version": "1.5.0",
            "_model_name": "FloatProgressModel",
            "_view_count": null,
            "_view_module": "@jupyter-widgets/controls",
            "_view_module_version": "1.5.0",
            "_view_name": "ProgressView",
            "bar_style": "success",
            "description": "",
            "description_tooltip": null,
            "layout": "IPY_MODEL_8f750ab52bd34c99baa5b97652056727",
            "max": 147,
            "min": 0,
            "orientation": "horizontal",
            "style": "IPY_MODEL_6e114820eb2b4b00bcf0254589eaa1f6",
            "value": 147
          }
        },
        "ac09b7471363477ca6611905e20e76d7": {
          "model_module": "@jupyter-widgets/controls",
          "model_module_version": "1.5.0",
          "model_name": "FloatProgressModel",
          "state": {
            "_dom_classes": [],
            "_model_module": "@jupyter-widgets/controls",
            "_model_module_version": "1.5.0",
            "_model_name": "FloatProgressModel",
            "_view_count": null,
            "_view_module": "@jupyter-widgets/controls",
            "_view_module_version": "1.5.0",
            "_view_name": "ProgressView",
            "bar_style": "success",
            "description": "",
            "description_tooltip": null,
            "layout": "IPY_MODEL_74436fbe705041b385abcbd8879516ce",
            "max": 1208,
            "min": 0,
            "orientation": "horizontal",
            "style": "IPY_MODEL_e0edd6e64c7e488d86c2d4065ae5e1df",
            "value": 1208
          }
        },
        "ac9a808ba0b141c19b89d64cc6e84a91": {
          "model_module": "@jupyter-widgets/base",
          "model_module_version": "1.2.0",
          "model_name": "LayoutModel",
          "state": {
            "_model_module": "@jupyter-widgets/base",
            "_model_module_version": "1.2.0",
            "_model_name": "LayoutModel",
            "_view_count": null,
            "_view_module": "@jupyter-widgets/base",
            "_view_module_version": "1.2.0",
            "_view_name": "LayoutView",
            "align_content": null,
            "align_items": null,
            "align_self": null,
            "border": null,
            "bottom": null,
            "display": null,
            "flex": null,
            "flex_flow": null,
            "grid_area": null,
            "grid_auto_columns": null,
            "grid_auto_flow": null,
            "grid_auto_rows": null,
            "grid_column": null,
            "grid_gap": null,
            "grid_row": null,
            "grid_template_areas": null,
            "grid_template_columns": null,
            "grid_template_rows": null,
            "height": null,
            "justify_content": null,
            "justify_items": null,
            "left": null,
            "margin": null,
            "max_height": null,
            "max_width": null,
            "min_height": null,
            "min_width": null,
            "object_fit": null,
            "object_position": null,
            "order": null,
            "overflow": null,
            "overflow_x": null,
            "overflow_y": null,
            "padding": null,
            "right": null,
            "top": null,
            "visibility": null,
            "width": null
          }
        },
        "ba97471542ac43168a40048b8ddec860": {
          "model_module": "@jupyter-widgets/controls",
          "model_module_version": "1.5.0",
          "model_name": "DescriptionStyleModel",
          "state": {
            "_model_module": "@jupyter-widgets/controls",
            "_model_module_version": "1.5.0",
            "_model_name": "DescriptionStyleModel",
            "_view_count": null,
            "_view_module": "@jupyter-widgets/base",
            "_view_module_version": "1.2.0",
            "_view_name": "StyleView",
            "description_width": ""
          }
        },
        "c922339c5b3840beaaeec469a254942d": {
          "model_module": "@jupyter-widgets/controls",
          "model_module_version": "1.5.0",
          "model_name": "HTMLModel",
          "state": {
            "_dom_classes": [],
            "_model_module": "@jupyter-widgets/controls",
            "_model_module_version": "1.5.0",
            "_model_name": "HTMLModel",
            "_view_count": null,
            "_view_module": "@jupyter-widgets/controls",
            "_view_module_version": "1.5.0",
            "_view_name": "HTMLView",
            "description": "",
            "description_tooltip": null,
            "layout": "IPY_MODEL_481e5fd1cf144cb69b6202f7466a7ea2",
            "placeholder": "​",
            "style": "IPY_MODEL_5ce25563fac1441da57e7c85e8ee47af",
            "value": " 792k/792k [00:00&lt;00:00, 29.8MB/s]"
          }
        },
        "d04da43afe1e495ba9382db36d8e9800": {
          "model_module": "@jupyter-widgets/controls",
          "model_module_version": "1.5.0",
          "model_name": "HTMLModel",
          "state": {
            "_dom_classes": [],
            "_model_module": "@jupyter-widgets/controls",
            "_model_module_version": "1.5.0",
            "_model_name": "HTMLModel",
            "_view_count": null,
            "_view_module": "@jupyter-widgets/controls",
            "_view_module_version": "1.5.0",
            "_view_name": "HTMLView",
            "description": "",
            "description_tooltip": null,
            "layout": "IPY_MODEL_71fbe8e730834ea0bfb60d95cf3d4483",
            "placeholder": "​",
            "style": "IPY_MODEL_23c19491f4d047ff8a14a5b99feaed51",
            "value": "Downloading (…)lve/main/config.json: 100%"
          }
        },
        "d349a5041399451a8188f237a4424a20": {
          "model_module": "@jupyter-widgets/base",
          "model_module_version": "1.2.0",
          "model_name": "LayoutModel",
          "state": {
            "_model_module": "@jupyter-widgets/base",
            "_model_module_version": "1.2.0",
            "_model_name": "LayoutModel",
            "_view_count": null,
            "_view_module": "@jupyter-widgets/base",
            "_view_module_version": "1.2.0",
            "_view_name": "LayoutView",
            "align_content": null,
            "align_items": null,
            "align_self": null,
            "border": null,
            "bottom": null,
            "display": null,
            "flex": null,
            "flex_flow": null,
            "grid_area": null,
            "grid_auto_columns": null,
            "grid_auto_flow": null,
            "grid_auto_rows": null,
            "grid_column": null,
            "grid_gap": null,
            "grid_row": null,
            "grid_template_areas": null,
            "grid_template_columns": null,
            "grid_template_rows": null,
            "height": null,
            "justify_content": null,
            "justify_items": null,
            "left": null,
            "margin": null,
            "max_height": null,
            "max_width": null,
            "min_height": null,
            "min_width": null,
            "object_fit": null,
            "object_position": null,
            "order": null,
            "overflow": null,
            "overflow_x": null,
            "overflow_y": null,
            "padding": null,
            "right": null,
            "top": null,
            "visibility": null,
            "width": null
          }
        },
        "d9877fcd42644b85b2133e2ce1ddac1c": {
          "model_module": "@jupyter-widgets/base",
          "model_module_version": "1.2.0",
          "model_name": "LayoutModel",
          "state": {
            "_model_module": "@jupyter-widgets/base",
            "_model_module_version": "1.2.0",
            "_model_name": "LayoutModel",
            "_view_count": null,
            "_view_module": "@jupyter-widgets/base",
            "_view_module_version": "1.2.0",
            "_view_name": "LayoutView",
            "align_content": null,
            "align_items": null,
            "align_self": null,
            "border": null,
            "bottom": null,
            "display": null,
            "flex": null,
            "flex_flow": null,
            "grid_area": null,
            "grid_auto_columns": null,
            "grid_auto_flow": null,
            "grid_auto_rows": null,
            "grid_column": null,
            "grid_gap": null,
            "grid_row": null,
            "grid_template_areas": null,
            "grid_template_columns": null,
            "grid_template_rows": null,
            "height": null,
            "justify_content": null,
            "justify_items": null,
            "left": null,
            "margin": null,
            "max_height": null,
            "max_width": null,
            "min_height": null,
            "min_width": null,
            "object_fit": null,
            "object_position": null,
            "order": null,
            "overflow": null,
            "overflow_x": null,
            "overflow_y": null,
            "padding": null,
            "right": null,
            "top": null,
            "visibility": null,
            "width": null
          }
        },
        "dc1316b044bb4b7892285ef05d7e80b6": {
          "model_module": "@jupyter-widgets/controls",
          "model_module_version": "1.5.0",
          "model_name": "FloatProgressModel",
          "state": {
            "_dom_classes": [],
            "_model_module": "@jupyter-widgets/controls",
            "_model_module_version": "1.5.0",
            "_model_name": "FloatProgressModel",
            "_view_count": null,
            "_view_module": "@jupyter-widgets/controls",
            "_view_module_version": "1.5.0",
            "_view_name": "ProgressView",
            "bar_style": "success",
            "description": "",
            "description_tooltip": null,
            "layout": "IPY_MODEL_33fedaee1ee5409f87f43b937a7865f9",
            "max": 891646390,
            "min": 0,
            "orientation": "horizontal",
            "style": "IPY_MODEL_542313366df442e5b13091a67f9bbfb9",
            "value": 891646390
          }
        },
        "e0edd6e64c7e488d86c2d4065ae5e1df": {
          "model_module": "@jupyter-widgets/controls",
          "model_module_version": "1.5.0",
          "model_name": "ProgressStyleModel",
          "state": {
            "_model_module": "@jupyter-widgets/controls",
            "_model_module_version": "1.5.0",
            "_model_name": "ProgressStyleModel",
            "_view_count": null,
            "_view_module": "@jupyter-widgets/base",
            "_view_module_version": "1.2.0",
            "_view_name": "StyleView",
            "bar_color": null,
            "description_width": ""
          }
        },
        "e68acd29fd5541289f1a6d309986cd0a": {
          "model_module": "@jupyter-widgets/base",
          "model_module_version": "1.2.0",
          "model_name": "LayoutModel",
          "state": {
            "_model_module": "@jupyter-widgets/base",
            "_model_module_version": "1.2.0",
            "_model_name": "LayoutModel",
            "_view_count": null,
            "_view_module": "@jupyter-widgets/base",
            "_view_module_version": "1.2.0",
            "_view_name": "LayoutView",
            "align_content": null,
            "align_items": null,
            "align_self": null,
            "border": null,
            "bottom": null,
            "display": null,
            "flex": null,
            "flex_flow": null,
            "grid_area": null,
            "grid_auto_columns": null,
            "grid_auto_flow": null,
            "grid_auto_rows": null,
            "grid_column": null,
            "grid_gap": null,
            "grid_row": null,
            "grid_template_areas": null,
            "grid_template_columns": null,
            "grid_template_rows": null,
            "height": null,
            "justify_content": null,
            "justify_items": null,
            "left": null,
            "margin": null,
            "max_height": null,
            "max_width": null,
            "min_height": null,
            "min_width": null,
            "object_fit": null,
            "object_position": null,
            "order": null,
            "overflow": null,
            "overflow_x": null,
            "overflow_y": null,
            "padding": null,
            "right": null,
            "top": null,
            "visibility": null,
            "width": null
          }
        },
        "ea3252dcbba248d4aec44b6495379542": {
          "model_module": "@jupyter-widgets/controls",
          "model_module_version": "1.5.0",
          "model_name": "FloatProgressModel",
          "state": {
            "_dom_classes": [],
            "_model_module": "@jupyter-widgets/controls",
            "_model_module_version": "1.5.0",
            "_model_name": "FloatProgressModel",
            "_view_count": null,
            "_view_module": "@jupyter-widgets/controls",
            "_view_module_version": "1.5.0",
            "_view_name": "ProgressView",
            "bar_style": "success",
            "description": "",
            "description_tooltip": null,
            "layout": "IPY_MODEL_d349a5041399451a8188f237a4424a20",
            "max": 791656,
            "min": 0,
            "orientation": "horizontal",
            "style": "IPY_MODEL_79e1aebcca5847c8b09ae7ec86375fc6",
            "value": 791656
          }
        },
        "f92b61d4e05a487baf4e117678c16769": {
          "model_module": "@jupyter-widgets/controls",
          "model_module_version": "1.5.0",
          "model_name": "DescriptionStyleModel",
          "state": {
            "_model_module": "@jupyter-widgets/controls",
            "_model_module_version": "1.5.0",
            "_model_name": "DescriptionStyleModel",
            "_view_count": null,
            "_view_module": "@jupyter-widgets/base",
            "_view_module_version": "1.2.0",
            "_view_name": "StyleView",
            "description_width": ""
          }
        },
        "f9c96d0d6d3d4ca49b7f15990e512737": {
          "model_module": "@jupyter-widgets/base",
          "model_module_version": "1.2.0",
          "model_name": "LayoutModel",
          "state": {
            "_model_module": "@jupyter-widgets/base",
            "_model_module_version": "1.2.0",
            "_model_name": "LayoutModel",
            "_view_count": null,
            "_view_module": "@jupyter-widgets/base",
            "_view_module_version": "1.2.0",
            "_view_name": "LayoutView",
            "align_content": null,
            "align_items": null,
            "align_self": null,
            "border": null,
            "bottom": null,
            "display": null,
            "flex": null,
            "flex_flow": null,
            "grid_area": null,
            "grid_auto_columns": null,
            "grid_auto_flow": null,
            "grid_auto_rows": null,
            "grid_column": null,
            "grid_gap": null,
            "grid_row": null,
            "grid_template_areas": null,
            "grid_template_columns": null,
            "grid_template_rows": null,
            "height": null,
            "justify_content": null,
            "justify_items": null,
            "left": null,
            "margin": null,
            "max_height": null,
            "max_width": null,
            "min_height": null,
            "min_width": null,
            "object_fit": null,
            "object_position": null,
            "order": null,
            "overflow": null,
            "overflow_x": null,
            "overflow_y": null,
            "padding": null,
            "right": null,
            "top": null,
            "visibility": null,
            "width": null
          }
        },
        "fbcdc4ba2f2848979b8bf551f6085b0c": {
          "model_module": "@jupyter-widgets/base",
          "model_module_version": "1.2.0",
          "model_name": "LayoutModel",
          "state": {
            "_model_module": "@jupyter-widgets/base",
            "_model_module_version": "1.2.0",
            "_model_name": "LayoutModel",
            "_view_count": null,
            "_view_module": "@jupyter-widgets/base",
            "_view_module_version": "1.2.0",
            "_view_name": "LayoutView",
            "align_content": null,
            "align_items": null,
            "align_self": null,
            "border": null,
            "bottom": null,
            "display": null,
            "flex": null,
            "flex_flow": null,
            "grid_area": null,
            "grid_auto_columns": null,
            "grid_auto_flow": null,
            "grid_auto_rows": null,
            "grid_column": null,
            "grid_gap": null,
            "grid_row": null,
            "grid_template_areas": null,
            "grid_template_columns": null,
            "grid_template_rows": null,
            "height": null,
            "justify_content": null,
            "justify_items": null,
            "left": null,
            "margin": null,
            "max_height": null,
            "max_width": null,
            "min_height": null,
            "min_width": null,
            "object_fit": null,
            "object_position": null,
            "order": null,
            "overflow": null,
            "overflow_x": null,
            "overflow_y": null,
            "padding": null,
            "right": null,
            "top": null,
            "visibility": null,
            "width": null
          }
        }
      }
    }
  },
  "nbformat": 4,
  "nbformat_minor": 0
}
